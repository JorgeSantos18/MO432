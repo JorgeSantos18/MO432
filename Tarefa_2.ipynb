{
 "cells": [
  {
   "cell_type": "markdown",
   "metadata": {},
   "source": [
    "## Grupo\n",
    "\n",
    "227124 Jorge Henrique Monteiro dos Santos\n",
    "\n",
    "262251 Vitor Mello de Araujo Lima\n",
    "\n",
    "## Objetivo\n",
    "\n",
    "Aplicar os vários regressores visto em aula. Busca de hiperparametros.\n"
   ]
  },
  {
   "cell_type": "code",
   "execution_count": 3,
   "metadata": {},
   "outputs": [],
   "source": [
    "import matplotlib.pyplot as plt\n",
    "import numpy as np\n",
    "import pandas as pd\n",
    "from pandas import DataFrame\n",
    "from statistics import mean\n",
    "import math\n",
    "from sklearn.model_selection import cross_val_score"
   ]
  },
  {
   "cell_type": "markdown",
   "metadata": {},
   "source": [
    "# Leia\n",
    "\n",
    "## Leia o arquivo Bias_correction_ucl.csv.\n"
   ]
  },
  {
   "cell_type": "code",
   "execution_count": 4,
   "metadata": {},
   "outputs": [
    {
     "output_type": "execute_result",
     "data": {
      "text/plain": [
       "(7752, 25)"
      ]
     },
     "metadata": {},
     "execution_count": 4
    }
   ],
   "source": [
    "url = \"https://archive.ics.uci.edu/ml/machine-learning-databases/00514/Bias_correction_ucl.csv\"\n",
    "data = pd.read_csv(url)\n",
    "data.shape"
   ]
  },
  {
   "cell_type": "code",
   "execution_count": 5,
   "metadata": {},
   "outputs": [
    {
     "output_type": "execute_result",
     "data": {
      "text/plain": [
       "   station        Date  Present_Tmax  Present_Tmin  LDAPS_RHmin  LDAPS_RHmax  \\\n",
       "0      1.0  2013-06-30          28.7          21.4    58.255688    91.116364   \n",
       "1      2.0  2013-06-30          31.9          21.6    52.263397    90.604721   \n",
       "2      3.0  2013-06-30          31.6          23.3    48.690479    83.973587   \n",
       "3      4.0  2013-06-30          32.0          23.4    58.239788    96.483688   \n",
       "4      5.0  2013-06-30          31.4          21.9    56.174095    90.155128   \n",
       "\n",
       "   LDAPS_Tmax_lapse  LDAPS_Tmin_lapse  LDAPS_WS    LDAPS_LH  ...  LDAPS_PPT2  \\\n",
       "0         28.074101         23.006936  6.818887   69.451805  ...         0.0   \n",
       "1         29.850689         24.035009  5.691890   51.937448  ...         0.0   \n",
       "2         30.091292         24.565633  6.138224   20.573050  ...         0.0   \n",
       "3         29.704629         23.326177  5.650050   65.727144  ...         0.0   \n",
       "4         29.113934         23.486480  5.735004  107.965535  ...         0.0   \n",
       "\n",
       "   LDAPS_PPT3  LDAPS_PPT4      lat      lon       DEM   Slope  \\\n",
       "0         0.0         0.0  37.6046  126.991  212.3350  2.7850   \n",
       "1         0.0         0.0  37.6046  127.032   44.7624  0.5141   \n",
       "2         0.0         0.0  37.5776  127.058   33.3068  0.2661   \n",
       "3         0.0         0.0  37.6450  127.022   45.7160  2.5348   \n",
       "4         0.0         0.0  37.5507  127.135   35.0380  0.5055   \n",
       "\n",
       "   Solar radiation  Next_Tmax  Next_Tmin  \n",
       "0      5992.895996       29.1       21.2  \n",
       "1      5869.312500       30.5       22.5  \n",
       "2      5863.555664       31.1       23.9  \n",
       "3      5856.964844       31.7       24.3  \n",
       "4      5859.552246       31.2       22.5  \n",
       "\n",
       "[5 rows x 25 columns]"
      ],
      "text/html": "<div>\n<style scoped>\n    .dataframe tbody tr th:only-of-type {\n        vertical-align: middle;\n    }\n\n    .dataframe tbody tr th {\n        vertical-align: top;\n    }\n\n    .dataframe thead th {\n        text-align: right;\n    }\n</style>\n<table border=\"1\" class=\"dataframe\">\n  <thead>\n    <tr style=\"text-align: right;\">\n      <th></th>\n      <th>station</th>\n      <th>Date</th>\n      <th>Present_Tmax</th>\n      <th>Present_Tmin</th>\n      <th>LDAPS_RHmin</th>\n      <th>LDAPS_RHmax</th>\n      <th>LDAPS_Tmax_lapse</th>\n      <th>LDAPS_Tmin_lapse</th>\n      <th>LDAPS_WS</th>\n      <th>LDAPS_LH</th>\n      <th>...</th>\n      <th>LDAPS_PPT2</th>\n      <th>LDAPS_PPT3</th>\n      <th>LDAPS_PPT4</th>\n      <th>lat</th>\n      <th>lon</th>\n      <th>DEM</th>\n      <th>Slope</th>\n      <th>Solar radiation</th>\n      <th>Next_Tmax</th>\n      <th>Next_Tmin</th>\n    </tr>\n  </thead>\n  <tbody>\n    <tr>\n      <th>0</th>\n      <td>1.0</td>\n      <td>2013-06-30</td>\n      <td>28.7</td>\n      <td>21.4</td>\n      <td>58.255688</td>\n      <td>91.116364</td>\n      <td>28.074101</td>\n      <td>23.006936</td>\n      <td>6.818887</td>\n      <td>69.451805</td>\n      <td>...</td>\n      <td>0.0</td>\n      <td>0.0</td>\n      <td>0.0</td>\n      <td>37.6046</td>\n      <td>126.991</td>\n      <td>212.3350</td>\n      <td>2.7850</td>\n      <td>5992.895996</td>\n      <td>29.1</td>\n      <td>21.2</td>\n    </tr>\n    <tr>\n      <th>1</th>\n      <td>2.0</td>\n      <td>2013-06-30</td>\n      <td>31.9</td>\n      <td>21.6</td>\n      <td>52.263397</td>\n      <td>90.604721</td>\n      <td>29.850689</td>\n      <td>24.035009</td>\n      <td>5.691890</td>\n      <td>51.937448</td>\n      <td>...</td>\n      <td>0.0</td>\n      <td>0.0</td>\n      <td>0.0</td>\n      <td>37.6046</td>\n      <td>127.032</td>\n      <td>44.7624</td>\n      <td>0.5141</td>\n      <td>5869.312500</td>\n      <td>30.5</td>\n      <td>22.5</td>\n    </tr>\n    <tr>\n      <th>2</th>\n      <td>3.0</td>\n      <td>2013-06-30</td>\n      <td>31.6</td>\n      <td>23.3</td>\n      <td>48.690479</td>\n      <td>83.973587</td>\n      <td>30.091292</td>\n      <td>24.565633</td>\n      <td>6.138224</td>\n      <td>20.573050</td>\n      <td>...</td>\n      <td>0.0</td>\n      <td>0.0</td>\n      <td>0.0</td>\n      <td>37.5776</td>\n      <td>127.058</td>\n      <td>33.3068</td>\n      <td>0.2661</td>\n      <td>5863.555664</td>\n      <td>31.1</td>\n      <td>23.9</td>\n    </tr>\n    <tr>\n      <th>3</th>\n      <td>4.0</td>\n      <td>2013-06-30</td>\n      <td>32.0</td>\n      <td>23.4</td>\n      <td>58.239788</td>\n      <td>96.483688</td>\n      <td>29.704629</td>\n      <td>23.326177</td>\n      <td>5.650050</td>\n      <td>65.727144</td>\n      <td>...</td>\n      <td>0.0</td>\n      <td>0.0</td>\n      <td>0.0</td>\n      <td>37.6450</td>\n      <td>127.022</td>\n      <td>45.7160</td>\n      <td>2.5348</td>\n      <td>5856.964844</td>\n      <td>31.7</td>\n      <td>24.3</td>\n    </tr>\n    <tr>\n      <th>4</th>\n      <td>5.0</td>\n      <td>2013-06-30</td>\n      <td>31.4</td>\n      <td>21.9</td>\n      <td>56.174095</td>\n      <td>90.155128</td>\n      <td>29.113934</td>\n      <td>23.486480</td>\n      <td>5.735004</td>\n      <td>107.965535</td>\n      <td>...</td>\n      <td>0.0</td>\n      <td>0.0</td>\n      <td>0.0</td>\n      <td>37.5507</td>\n      <td>127.135</td>\n      <td>35.0380</td>\n      <td>0.5055</td>\n      <td>5859.552246</td>\n      <td>31.2</td>\n      <td>22.5</td>\n    </tr>\n  </tbody>\n</table>\n<p>5 rows × 25 columns</p>\n</div>"
     },
     "metadata": {},
     "execution_count": 5
    }
   ],
   "source": [
    "data.head()"
   ]
  },
  {
   "cell_type": "markdown",
   "metadata": {},
   "source": [
    "## Remova a coluna Date"
   ]
  },
  {
   "cell_type": "code",
   "execution_count": 6,
   "metadata": {},
   "outputs": [
    {
     "output_type": "execute_result",
     "data": {
      "text/plain": [
       "(7752, 24)"
      ]
     },
     "metadata": {},
     "execution_count": 6
    }
   ],
   "source": [
    "data.drop(['Date'],axis=1, inplace=True)\n",
    "data.shape"
   ]
  },
  {
   "cell_type": "code",
   "execution_count": 7,
   "metadata": {},
   "outputs": [
    {
     "output_type": "execute_result",
     "data": {
      "text/plain": [
       "   station  Present_Tmax  Present_Tmin  LDAPS_RHmin  LDAPS_RHmax  \\\n",
       "0      1.0          28.7          21.4    58.255688    91.116364   \n",
       "1      2.0          31.9          21.6    52.263397    90.604721   \n",
       "2      3.0          31.6          23.3    48.690479    83.973587   \n",
       "3      4.0          32.0          23.4    58.239788    96.483688   \n",
       "4      5.0          31.4          21.9    56.174095    90.155128   \n",
       "\n",
       "   LDAPS_Tmax_lapse  LDAPS_Tmin_lapse  LDAPS_WS    LDAPS_LH  LDAPS_CC1  ...  \\\n",
       "0         28.074101         23.006936  6.818887   69.451805   0.233947  ...   \n",
       "1         29.850689         24.035009  5.691890   51.937448   0.225508  ...   \n",
       "2         30.091292         24.565633  6.138224   20.573050   0.209344  ...   \n",
       "3         29.704629         23.326177  5.650050   65.727144   0.216372  ...   \n",
       "4         29.113934         23.486480  5.735004  107.965535   0.151407  ...   \n",
       "\n",
       "   LDAPS_PPT2  LDAPS_PPT3  LDAPS_PPT4      lat      lon       DEM   Slope  \\\n",
       "0         0.0         0.0         0.0  37.6046  126.991  212.3350  2.7850   \n",
       "1         0.0         0.0         0.0  37.6046  127.032   44.7624  0.5141   \n",
       "2         0.0         0.0         0.0  37.5776  127.058   33.3068  0.2661   \n",
       "3         0.0         0.0         0.0  37.6450  127.022   45.7160  2.5348   \n",
       "4         0.0         0.0         0.0  37.5507  127.135   35.0380  0.5055   \n",
       "\n",
       "   Solar radiation  Next_Tmax  Next_Tmin  \n",
       "0      5992.895996       29.1       21.2  \n",
       "1      5869.312500       30.5       22.5  \n",
       "2      5863.555664       31.1       23.9  \n",
       "3      5856.964844       31.7       24.3  \n",
       "4      5859.552246       31.2       22.5  \n",
       "\n",
       "[5 rows x 24 columns]"
      ],
      "text/html": "<div>\n<style scoped>\n    .dataframe tbody tr th:only-of-type {\n        vertical-align: middle;\n    }\n\n    .dataframe tbody tr th {\n        vertical-align: top;\n    }\n\n    .dataframe thead th {\n        text-align: right;\n    }\n</style>\n<table border=\"1\" class=\"dataframe\">\n  <thead>\n    <tr style=\"text-align: right;\">\n      <th></th>\n      <th>station</th>\n      <th>Present_Tmax</th>\n      <th>Present_Tmin</th>\n      <th>LDAPS_RHmin</th>\n      <th>LDAPS_RHmax</th>\n      <th>LDAPS_Tmax_lapse</th>\n      <th>LDAPS_Tmin_lapse</th>\n      <th>LDAPS_WS</th>\n      <th>LDAPS_LH</th>\n      <th>LDAPS_CC1</th>\n      <th>...</th>\n      <th>LDAPS_PPT2</th>\n      <th>LDAPS_PPT3</th>\n      <th>LDAPS_PPT4</th>\n      <th>lat</th>\n      <th>lon</th>\n      <th>DEM</th>\n      <th>Slope</th>\n      <th>Solar radiation</th>\n      <th>Next_Tmax</th>\n      <th>Next_Tmin</th>\n    </tr>\n  </thead>\n  <tbody>\n    <tr>\n      <th>0</th>\n      <td>1.0</td>\n      <td>28.7</td>\n      <td>21.4</td>\n      <td>58.255688</td>\n      <td>91.116364</td>\n      <td>28.074101</td>\n      <td>23.006936</td>\n      <td>6.818887</td>\n      <td>69.451805</td>\n      <td>0.233947</td>\n      <td>...</td>\n      <td>0.0</td>\n      <td>0.0</td>\n      <td>0.0</td>\n      <td>37.6046</td>\n      <td>126.991</td>\n      <td>212.3350</td>\n      <td>2.7850</td>\n      <td>5992.895996</td>\n      <td>29.1</td>\n      <td>21.2</td>\n    </tr>\n    <tr>\n      <th>1</th>\n      <td>2.0</td>\n      <td>31.9</td>\n      <td>21.6</td>\n      <td>52.263397</td>\n      <td>90.604721</td>\n      <td>29.850689</td>\n      <td>24.035009</td>\n      <td>5.691890</td>\n      <td>51.937448</td>\n      <td>0.225508</td>\n      <td>...</td>\n      <td>0.0</td>\n      <td>0.0</td>\n      <td>0.0</td>\n      <td>37.6046</td>\n      <td>127.032</td>\n      <td>44.7624</td>\n      <td>0.5141</td>\n      <td>5869.312500</td>\n      <td>30.5</td>\n      <td>22.5</td>\n    </tr>\n    <tr>\n      <th>2</th>\n      <td>3.0</td>\n      <td>31.6</td>\n      <td>23.3</td>\n      <td>48.690479</td>\n      <td>83.973587</td>\n      <td>30.091292</td>\n      <td>24.565633</td>\n      <td>6.138224</td>\n      <td>20.573050</td>\n      <td>0.209344</td>\n      <td>...</td>\n      <td>0.0</td>\n      <td>0.0</td>\n      <td>0.0</td>\n      <td>37.5776</td>\n      <td>127.058</td>\n      <td>33.3068</td>\n      <td>0.2661</td>\n      <td>5863.555664</td>\n      <td>31.1</td>\n      <td>23.9</td>\n    </tr>\n    <tr>\n      <th>3</th>\n      <td>4.0</td>\n      <td>32.0</td>\n      <td>23.4</td>\n      <td>58.239788</td>\n      <td>96.483688</td>\n      <td>29.704629</td>\n      <td>23.326177</td>\n      <td>5.650050</td>\n      <td>65.727144</td>\n      <td>0.216372</td>\n      <td>...</td>\n      <td>0.0</td>\n      <td>0.0</td>\n      <td>0.0</td>\n      <td>37.6450</td>\n      <td>127.022</td>\n      <td>45.7160</td>\n      <td>2.5348</td>\n      <td>5856.964844</td>\n      <td>31.7</td>\n      <td>24.3</td>\n    </tr>\n    <tr>\n      <th>4</th>\n      <td>5.0</td>\n      <td>31.4</td>\n      <td>21.9</td>\n      <td>56.174095</td>\n      <td>90.155128</td>\n      <td>29.113934</td>\n      <td>23.486480</td>\n      <td>5.735004</td>\n      <td>107.965535</td>\n      <td>0.151407</td>\n      <td>...</td>\n      <td>0.0</td>\n      <td>0.0</td>\n      <td>0.0</td>\n      <td>37.5507</td>\n      <td>127.135</td>\n      <td>35.0380</td>\n      <td>0.5055</td>\n      <td>5859.552246</td>\n      <td>31.2</td>\n      <td>22.5</td>\n    </tr>\n  </tbody>\n</table>\n<p>5 rows × 24 columns</p>\n</div>"
     },
     "metadata": {},
     "execution_count": 7
    }
   ],
   "source": [
    "data.head()"
   ]
  },
  {
   "cell_type": "markdown",
   "metadata": {},
   "source": [
    "## Remova as linhas que tem valor faltante"
   ]
  },
  {
   "cell_type": "code",
   "execution_count": 8,
   "metadata": {},
   "outputs": [
    {
     "output_type": "execute_result",
     "data": {
      "text/plain": [
       "(7588, 24)"
      ]
     },
     "metadata": {},
     "execution_count": 8
    }
   ],
   "source": [
    "data.dropna(inplace=True)\n",
    "data.shape"
   ]
  },
  {
   "cell_type": "code",
   "execution_count": 9,
   "metadata": {},
   "outputs": [
    {
     "output_type": "execute_result",
     "data": {
      "text/plain": [
       "(7588, 22)"
      ]
     },
     "metadata": {},
     "execution_count": 9
    }
   ],
   "source": [
    "output_data = data['Next_Tmax']\n",
    "input_data = data.drop(['Next_Tmax','Next_Tmin'],axis=1)\n",
    "input_data.shape"
   ]
  },
  {
   "cell_type": "markdown",
   "metadata": {},
   "source": [
    "# Centering and Normalizing\n",
    "Faça o _centering_ e _normalizing_ para todos os atributos de entrada (convertidos para numéricos)"
   ]
  },
  {
   "cell_type": "code",
   "execution_count": 10,
   "metadata": {},
   "outputs": [
    {
     "output_type": "execute_result",
     "data": {
      "text/plain": [
       "     station  Present_Tmax  Present_Tmin  LDAPS_RHmin  LDAPS_RHmax  \\\n",
       "0 -12.014101     -1.048366     -1.795809     1.530719     2.755540   \n",
       "1 -11.014101      2.151634     -1.595809    -4.461571     2.243898   \n",
       "2 -10.014101      1.851634      0.104191    -8.034489    -4.387236   \n",
       "\n",
       "   LDAPS_Tmax_lapse  LDAPS_Tmin_lapse  LDAPS_WS   LDAPS_LH  LDAPS_CC1  ...  \\\n",
       "0         -1.546026         -0.504850 -0.275210   6.959199  -0.134563  ...   \n",
       "1          0.230561          0.523223 -1.402207 -10.555158  -0.143002  ...   \n",
       "2          0.471164          1.053847 -0.955873 -41.919557  -0.159167  ...   \n",
       "\n",
       "   LDAPS_CC4  LDAPS_PPT1  LDAPS_PPT2  LDAPS_PPT3  LDAPS_PPT4       lat  \\\n",
       "0  -0.167339   -0.589008   -0.480738   -0.275007   -0.265373  0.059808   \n",
       "1  -0.170540   -0.589008   -0.480738   -0.275007   -0.265373  0.059808   \n",
       "2  -0.156142   -0.589008   -0.480738   -0.275007   -0.265373  0.032808   \n",
       "\n",
       "       lon         DEM     Slope  Solar radiation  \n",
       "0 -0.00042  150.416864  1.525245       649.171788  \n",
       "1  0.04058  -17.155736 -0.745655       525.588292  \n",
       "2  0.06658  -28.611336 -0.993655       519.831456  \n",
       "\n",
       "[3 rows x 22 columns]"
      ],
      "text/html": "<div>\n<style scoped>\n    .dataframe tbody tr th:only-of-type {\n        vertical-align: middle;\n    }\n\n    .dataframe tbody tr th {\n        vertical-align: top;\n    }\n\n    .dataframe thead th {\n        text-align: right;\n    }\n</style>\n<table border=\"1\" class=\"dataframe\">\n  <thead>\n    <tr style=\"text-align: right;\">\n      <th></th>\n      <th>station</th>\n      <th>Present_Tmax</th>\n      <th>Present_Tmin</th>\n      <th>LDAPS_RHmin</th>\n      <th>LDAPS_RHmax</th>\n      <th>LDAPS_Tmax_lapse</th>\n      <th>LDAPS_Tmin_lapse</th>\n      <th>LDAPS_WS</th>\n      <th>LDAPS_LH</th>\n      <th>LDAPS_CC1</th>\n      <th>...</th>\n      <th>LDAPS_CC4</th>\n      <th>LDAPS_PPT1</th>\n      <th>LDAPS_PPT2</th>\n      <th>LDAPS_PPT3</th>\n      <th>LDAPS_PPT4</th>\n      <th>lat</th>\n      <th>lon</th>\n      <th>DEM</th>\n      <th>Slope</th>\n      <th>Solar radiation</th>\n    </tr>\n  </thead>\n  <tbody>\n    <tr>\n      <th>0</th>\n      <td>-12.014101</td>\n      <td>-1.048366</td>\n      <td>-1.795809</td>\n      <td>1.530719</td>\n      <td>2.755540</td>\n      <td>-1.546026</td>\n      <td>-0.504850</td>\n      <td>-0.275210</td>\n      <td>6.959199</td>\n      <td>-0.134563</td>\n      <td>...</td>\n      <td>-0.167339</td>\n      <td>-0.589008</td>\n      <td>-0.480738</td>\n      <td>-0.275007</td>\n      <td>-0.265373</td>\n      <td>0.059808</td>\n      <td>-0.00042</td>\n      <td>150.416864</td>\n      <td>1.525245</td>\n      <td>649.171788</td>\n    </tr>\n    <tr>\n      <th>1</th>\n      <td>-11.014101</td>\n      <td>2.151634</td>\n      <td>-1.595809</td>\n      <td>-4.461571</td>\n      <td>2.243898</td>\n      <td>0.230561</td>\n      <td>0.523223</td>\n      <td>-1.402207</td>\n      <td>-10.555158</td>\n      <td>-0.143002</td>\n      <td>...</td>\n      <td>-0.170540</td>\n      <td>-0.589008</td>\n      <td>-0.480738</td>\n      <td>-0.275007</td>\n      <td>-0.265373</td>\n      <td>0.059808</td>\n      <td>0.04058</td>\n      <td>-17.155736</td>\n      <td>-0.745655</td>\n      <td>525.588292</td>\n    </tr>\n    <tr>\n      <th>2</th>\n      <td>-10.014101</td>\n      <td>1.851634</td>\n      <td>0.104191</td>\n      <td>-8.034489</td>\n      <td>-4.387236</td>\n      <td>0.471164</td>\n      <td>1.053847</td>\n      <td>-0.955873</td>\n      <td>-41.919557</td>\n      <td>-0.159167</td>\n      <td>...</td>\n      <td>-0.156142</td>\n      <td>-0.589008</td>\n      <td>-0.480738</td>\n      <td>-0.275007</td>\n      <td>-0.265373</td>\n      <td>0.032808</td>\n      <td>0.06658</td>\n      <td>-28.611336</td>\n      <td>-0.993655</td>\n      <td>519.831456</td>\n    </tr>\n  </tbody>\n</table>\n<p>3 rows × 22 columns</p>\n</div>"
     },
     "metadata": {},
     "execution_count": 10
    }
   ],
   "source": [
    "from sklearn.preprocessing import StandardScaler\n",
    "\n",
    "data_cent = DataFrame(StandardScaler(with_std=False).fit_transform(input_data), columns=input_data.columns)\n",
    "data_cent.head(3)\n"
   ]
  },
  {
   "cell_type": "code",
   "execution_count": 11,
   "metadata": {},
   "outputs": [
    {
     "output_type": "execute_result",
     "data": {
      "text/plain": [
       "    station  Present_Tmax  Present_Tmin  LDAPS_RHmin  LDAPS_RHmax  \\\n",
       "0  0.000000      0.494318      0.543011     0.488518     0.783659   \n",
       "1  0.041667      0.676136      0.553763     0.412406     0.771200   \n",
       "2  0.083333      0.659091      0.645161     0.367024     0.609716   \n",
       "\n",
       "   LDAPS_Tmax_lapse  LDAPS_Tmin_lapse  LDAPS_WS  LDAPS_LH  LDAPS_CC1  ...  \\\n",
       "0          0.499546          0.569132  0.207447  0.365853   0.241862  ...   \n",
       "1          0.584480          0.636121  0.148053  0.288703   0.233137  ...   \n",
       "2          0.595982          0.670697  0.171575  0.150545   0.216426  ...   \n",
       "\n",
       "   LDAPS_CC4  LDAPS_PPT1  LDAPS_PPT2  LDAPS_PPT3  LDAPS_PPT4       lat  \\\n",
       "0   0.134325         0.0         0.0         0.0         0.0  0.786017   \n",
       "1   0.131041         0.0         0.0         0.0         0.0  0.786017   \n",
       "2   0.145813         0.0         0.0         0.0         0.0  0.643008   \n",
       "\n",
       "        lon       DEM     Slope  Solar radiation  \n",
       "0  0.533981  1.000000  0.528870         1.000000  \n",
       "1  0.666667  0.161990  0.081816         0.925703  \n",
       "2  0.750809  0.104702  0.032994         0.922242  \n",
       "\n",
       "[3 rows x 22 columns]"
      ],
      "text/html": "<div>\n<style scoped>\n    .dataframe tbody tr th:only-of-type {\n        vertical-align: middle;\n    }\n\n    .dataframe tbody tr th {\n        vertical-align: top;\n    }\n\n    .dataframe thead th {\n        text-align: right;\n    }\n</style>\n<table border=\"1\" class=\"dataframe\">\n  <thead>\n    <tr style=\"text-align: right;\">\n      <th></th>\n      <th>station</th>\n      <th>Present_Tmax</th>\n      <th>Present_Tmin</th>\n      <th>LDAPS_RHmin</th>\n      <th>LDAPS_RHmax</th>\n      <th>LDAPS_Tmax_lapse</th>\n      <th>LDAPS_Tmin_lapse</th>\n      <th>LDAPS_WS</th>\n      <th>LDAPS_LH</th>\n      <th>LDAPS_CC1</th>\n      <th>...</th>\n      <th>LDAPS_CC4</th>\n      <th>LDAPS_PPT1</th>\n      <th>LDAPS_PPT2</th>\n      <th>LDAPS_PPT3</th>\n      <th>LDAPS_PPT4</th>\n      <th>lat</th>\n      <th>lon</th>\n      <th>DEM</th>\n      <th>Slope</th>\n      <th>Solar radiation</th>\n    </tr>\n  </thead>\n  <tbody>\n    <tr>\n      <th>0</th>\n      <td>0.000000</td>\n      <td>0.494318</td>\n      <td>0.543011</td>\n      <td>0.488518</td>\n      <td>0.783659</td>\n      <td>0.499546</td>\n      <td>0.569132</td>\n      <td>0.207447</td>\n      <td>0.365853</td>\n      <td>0.241862</td>\n      <td>...</td>\n      <td>0.134325</td>\n      <td>0.0</td>\n      <td>0.0</td>\n      <td>0.0</td>\n      <td>0.0</td>\n      <td>0.786017</td>\n      <td>0.533981</td>\n      <td>1.000000</td>\n      <td>0.528870</td>\n      <td>1.000000</td>\n    </tr>\n    <tr>\n      <th>1</th>\n      <td>0.041667</td>\n      <td>0.676136</td>\n      <td>0.553763</td>\n      <td>0.412406</td>\n      <td>0.771200</td>\n      <td>0.584480</td>\n      <td>0.636121</td>\n      <td>0.148053</td>\n      <td>0.288703</td>\n      <td>0.233137</td>\n      <td>...</td>\n      <td>0.131041</td>\n      <td>0.0</td>\n      <td>0.0</td>\n      <td>0.0</td>\n      <td>0.0</td>\n      <td>0.786017</td>\n      <td>0.666667</td>\n      <td>0.161990</td>\n      <td>0.081816</td>\n      <td>0.925703</td>\n    </tr>\n    <tr>\n      <th>2</th>\n      <td>0.083333</td>\n      <td>0.659091</td>\n      <td>0.645161</td>\n      <td>0.367024</td>\n      <td>0.609716</td>\n      <td>0.595982</td>\n      <td>0.670697</td>\n      <td>0.171575</td>\n      <td>0.150545</td>\n      <td>0.216426</td>\n      <td>...</td>\n      <td>0.145813</td>\n      <td>0.0</td>\n      <td>0.0</td>\n      <td>0.0</td>\n      <td>0.0</td>\n      <td>0.643008</td>\n      <td>0.750809</td>\n      <td>0.104702</td>\n      <td>0.032994</td>\n      <td>0.922242</td>\n    </tr>\n  </tbody>\n</table>\n<p>3 rows × 22 columns</p>\n</div>"
     },
     "metadata": {},
     "execution_count": 11
    }
   ],
   "source": [
    "from sklearn.preprocessing import MinMaxScaler\n",
    "\n",
    "data_norm = DataFrame(MinMaxScaler().fit_transform(data_cent), columns=data_cent.columns)\n",
    "data_norm.head(3)"
   ]
  },
  {
   "cell_type": "code",
   "execution_count": 12,
   "metadata": {},
   "outputs": [],
   "source": [
    "# Dictionary to keep the results from all algorithms\n",
    "results_dict = {}\n"
   ]
  },
  {
   "cell_type": "code",
   "execution_count": 13,
   "metadata": {},
   "outputs": [],
   "source": [
    "def get_default_rmes(regressor, X, y):\n",
    "    default_rmes = cross_val_score(regressor(), X, y, cv=5, scoring='neg_root_mean_squared_error')\n",
    "    return -mean(default_rmes)\n"
   ]
  },
  {
   "cell_type": "markdown",
   "metadata": {},
   "source": [
    "# Linear Regression"
   ]
  },
  {
   "cell_type": "code",
   "execution_count": 14,
   "metadata": {},
   "outputs": [
    {
     "output_type": "execute_result",
     "data": {
      "text/plain": [
       "                   RMES - Best hparams  RMES - Default hparams\n",
       "Linear Regression             1.577546                1.577546"
      ],
      "text/html": "<div>\n<style scoped>\n    .dataframe tbody tr th:only-of-type {\n        vertical-align: middle;\n    }\n\n    .dataframe tbody tr th {\n        vertical-align: top;\n    }\n\n    .dataframe thead th {\n        text-align: right;\n    }\n</style>\n<table border=\"1\" class=\"dataframe\">\n  <thead>\n    <tr style=\"text-align: right;\">\n      <th></th>\n      <th>RMES - Best hparams</th>\n      <th>RMES - Default hparams</th>\n    </tr>\n  </thead>\n  <tbody>\n    <tr>\n      <th>Linear Regression</th>\n      <td>1.577546</td>\n      <td>1.577546</td>\n    </tr>\n  </tbody>\n</table>\n</div>"
     },
     "metadata": {},
     "execution_count": 14
    }
   ],
   "source": [
    "from sklearn.linear_model import LinearRegression\n",
    "\n",
    "default_rmes = get_default_rmes(LinearRegression, data_norm, output_data)\n",
    "\n",
    "linear_regression_results = pd.DataFrame(index=['Linear Regression'])\n",
    "# No hyperparams\n",
    "linear_regression_results['RMES - Best hparams']    = default_rmes\n",
    "linear_regression_results['RMES - Default hparams'] = default_rmes\n",
    "\n",
    "results_dict['Linear Regression'] = linear_regression_results\n",
    "linear_regression_results.head()\n",
    "\n"
   ]
  },
  {
   "cell_type": "markdown",
   "metadata": {},
   "source": [
    "# Linear com regularização L2"
   ]
  },
  {
   "cell_type": "code",
   "execution_count": 15,
   "metadata": {},
   "outputs": [
    {
     "output_type": "execute_result",
     "data": {
      "text/plain": [
       "                               alpha  RMES - Best hparams  \\\n",
       "Linear com regularização L2  1.02049             1.575327   \n",
       "\n",
       "                             RMES - Default hparams  \n",
       "Linear com regularização L2                 1.57536  "
      ],
      "text/html": "<div>\n<style scoped>\n    .dataframe tbody tr th:only-of-type {\n        vertical-align: middle;\n    }\n\n    .dataframe tbody tr th {\n        vertical-align: top;\n    }\n\n    .dataframe thead th {\n        text-align: right;\n    }\n</style>\n<table border=\"1\" class=\"dataframe\">\n  <thead>\n    <tr style=\"text-align: right;\">\n      <th></th>\n      <th>alpha</th>\n      <th>RMES - Best hparams</th>\n      <th>RMES - Default hparams</th>\n    </tr>\n  </thead>\n  <tbody>\n    <tr>\n      <th>Linear com regularização L2</th>\n      <td>1.02049</td>\n      <td>1.575327</td>\n      <td>1.57536</td>\n    </tr>\n  </tbody>\n</table>\n</div>"
     },
     "metadata": {},
     "execution_count": 15
    }
   ],
   "source": [
    "from sklearn.linear_model import Ridge\n",
    "from sklearn.utils.fixes import loguniform\n",
    "from sklearn.model_selection import GridSearchCV, RandomizedSearchCV\n",
    "\n",
    "rdg = Ridge()\n",
    "\n",
    "parameters = {'alpha': loguniform(10**-3, 10**3)}\n",
    "\n",
    "rnd_search = RandomizedSearchCV(rdg, parameters, n_iter =10, cv=5, scoring='neg_root_mean_squared_error')\n",
    "\n",
    "rnd_search.fit(data_norm, output_data)\n",
    "\n",
    "rdg_results = pd.DataFrame(index=['Linear com regularização L2'])\n",
    "\n",
    "for i in parameters.keys():\n",
    "    rdg_results[i]= rnd_search.best_params_[i]\n",
    "\n",
    "rdg_results['RMES - Best hparams']    = -rnd_search.best_score_\n",
    "rdg_results['RMES - Default hparams'] = get_default_rmes(Ridge, data_norm, output_data)\n",
    "\n",
    "results_dict['Linear com regularização L2'] = rdg_results\n",
    "rdg_results.head()\n",
    "\n"
   ]
  },
  {
   "cell_type": "markdown",
   "metadata": {},
   "source": [
    "# Linear com regularização L1"
   ]
  },
  {
   "cell_type": "code",
   "execution_count": 16,
   "metadata": {},
   "outputs": [
    {
     "output_type": "execute_result",
     "data": {
      "text/plain": [
       "                                alpha  RMES - Best hparams  \\\n",
       "Linear com regularização L1  0.004834             1.563534   \n",
       "\n",
       "                             RMES - Default hparams  \n",
       "Linear com regularização L1                3.102547  "
      ],
      "text/html": "<div>\n<style scoped>\n    .dataframe tbody tr th:only-of-type {\n        vertical-align: middle;\n    }\n\n    .dataframe tbody tr th {\n        vertical-align: top;\n    }\n\n    .dataframe thead th {\n        text-align: right;\n    }\n</style>\n<table border=\"1\" class=\"dataframe\">\n  <thead>\n    <tr style=\"text-align: right;\">\n      <th></th>\n      <th>alpha</th>\n      <th>RMES - Best hparams</th>\n      <th>RMES - Default hparams</th>\n    </tr>\n  </thead>\n  <tbody>\n    <tr>\n      <th>Linear com regularização L1</th>\n      <td>0.004834</td>\n      <td>1.563534</td>\n      <td>3.102547</td>\n    </tr>\n  </tbody>\n</table>\n</div>"
     },
     "metadata": {},
     "execution_count": 16
    }
   ],
   "source": [
    "from sklearn.linear_model import Lasso\n",
    "\n",
    "lasso = Lasso()\n",
    "\n",
    "parameters = {'alpha': loguniform(10**-3, 10**3)}\n",
    "\n",
    "rnd_search = RandomizedSearchCV(lasso, parameters, n_iter =10, cv=5, scoring='neg_root_mean_squared_error')\n",
    "\n",
    "rnd_search.fit(data_norm, output_data)\n",
    "\n",
    "lasso_results = pd.DataFrame(index=['Linear com regularização L1'])\n",
    "\n",
    "for i in parameters.keys():\n",
    "    lasso_results[i]= rnd_search.best_params_[i]\n",
    "\n",
    "lasso_results['RMES - Best hparams']    = -rnd_search.best_score_\n",
    "lasso_results['RMES - Default hparams'] = get_default_rmes(Lasso, data_norm, output_data)\n",
    "\n",
    "results_dict['Linear com regularização L1'] = lasso_results\n",
    "lasso_results.head()"
   ]
  },
  {
   "cell_type": "markdown",
   "metadata": {},
   "source": [
    "# SVM Linear"
   ]
  },
  {
   "cell_type": "code",
   "execution_count": 17,
   "metadata": {},
   "outputs": [
    {
     "output_type": "stream",
     "name": "stdout",
     "text": [
      "Fitting 5 folds for each of 10 candidates, totalling 50 fits\n"
     ]
    },
    {
     "output_type": "execute_result",
     "data": {
      "text/plain": [
       "                   C  epsilon  kernel  RMES - Best hparams  \\\n",
       "SVM Linear  2.706641      0.1  linear             1.561924   \n",
       "\n",
       "            RMES - Default hparams  \n",
       "SVM Linear                1.561716  "
      ],
      "text/html": "<div>\n<style scoped>\n    .dataframe tbody tr th:only-of-type {\n        vertical-align: middle;\n    }\n\n    .dataframe tbody tr th {\n        vertical-align: top;\n    }\n\n    .dataframe thead th {\n        text-align: right;\n    }\n</style>\n<table border=\"1\" class=\"dataframe\">\n  <thead>\n    <tr style=\"text-align: right;\">\n      <th></th>\n      <th>C</th>\n      <th>epsilon</th>\n      <th>kernel</th>\n      <th>RMES - Best hparams</th>\n      <th>RMES - Default hparams</th>\n    </tr>\n  </thead>\n  <tbody>\n    <tr>\n      <th>SVM Linear</th>\n      <td>2.706641</td>\n      <td>0.1</td>\n      <td>linear</td>\n      <td>1.561924</td>\n      <td>1.561716</td>\n    </tr>\n  </tbody>\n</table>\n</div>"
     },
     "metadata": {},
     "execution_count": 17
    }
   ],
   "source": [
    "from sklearn.svm import SVR\n",
    "import scipy.stats as stats\n",
    "\n",
    "svr = SVR()\n",
    "\n",
    "parameters = {\n",
    "    'C'      : loguniform(2**-5, 2**15),\n",
    "    'epsilon': [0.1,0.3],\n",
    "    'kernel' : ['linear']\n",
    "    }\n",
    "\n",
    "rnd_search = RandomizedSearchCV(svr, parameters, n_iter =10, cv=5, scoring='neg_root_mean_squared_error', verbose=100, n_jobs = 12)\n",
    "rnd_search.fit(data_norm, output_data)\n",
    "\n",
    "svm_linear_results = pd.DataFrame(index=['SVM Linear'])\n",
    "\n",
    "for i in parameters.keys():\n",
    "    svm_linear_results[i]= rnd_search.best_params_[i]\n",
    "\n",
    "svm_linear_results['RMES - Best hparams']    = -rnd_search.best_score_\n",
    "svm_linear_results['RMES - Default hparams'] = -mean(cross_val_score(SVR(kernel='linear'), data_norm, output_data, cv=5, scoring='neg_root_mean_squared_error'))\n",
    "\n",
    "results_dict['SVM Linear'] = svm_linear_results\n",
    "svm_linear_results.head()\n",
    "\n"
   ]
  },
  {
   "cell_type": "markdown",
   "metadata": {},
   "source": [
    "# SVM RBF"
   ]
  },
  {
   "cell_type": "code",
   "execution_count": 18,
   "metadata": {},
   "outputs": [
    {
     "output_type": "stream",
     "name": "stdout",
     "text": [
      "Fitting 5 folds for each of 10 candidates, totalling 50 fits\n"
     ]
    },
    {
     "output_type": "execute_result",
     "data": {
      "text/plain": [
       "                C     gamma  epsilon kernel  RMES - Best hparams  \\\n",
       "SVM RBF  3.141233  0.034116      0.3    rbf             1.567881   \n",
       "\n",
       "         RMES - Default hparams  \n",
       "SVM RBF                1.599369  "
      ],
      "text/html": "<div>\n<style scoped>\n    .dataframe tbody tr th:only-of-type {\n        vertical-align: middle;\n    }\n\n    .dataframe tbody tr th {\n        vertical-align: top;\n    }\n\n    .dataframe thead th {\n        text-align: right;\n    }\n</style>\n<table border=\"1\" class=\"dataframe\">\n  <thead>\n    <tr style=\"text-align: right;\">\n      <th></th>\n      <th>C</th>\n      <th>gamma</th>\n      <th>epsilon</th>\n      <th>kernel</th>\n      <th>RMES - Best hparams</th>\n      <th>RMES - Default hparams</th>\n    </tr>\n  </thead>\n  <tbody>\n    <tr>\n      <th>SVM RBF</th>\n      <td>3.141233</td>\n      <td>0.034116</td>\n      <td>0.3</td>\n      <td>rbf</td>\n      <td>1.567881</td>\n      <td>1.599369</td>\n    </tr>\n  </tbody>\n</table>\n</div>"
     },
     "metadata": {},
     "execution_count": 18
    }
   ],
   "source": [
    "\n",
    "svr2 = SVR()\n",
    "\n",
    "parameters = {\n",
    "    'C'      : loguniform(2**-5, 2**15),\n",
    "    'gamma'  : loguniform(2**-9, 2**3),\n",
    "    'epsilon': [0.1,0.3],\n",
    "    'kernel' : ['rbf']\n",
    "    }\n",
    "\n",
    "rnd_search = RandomizedSearchCV(svr2, parameters, n_iter =10, cv=5, scoring='neg_root_mean_squared_error', verbose=100, n_jobs = 12)\n",
    "rnd_search.fit(data_norm, output_data)\n",
    "\n",
    "svm_rbf_results = pd.DataFrame(index=['SVM RBF'])\n",
    "\n",
    "for i in parameters.keys():\n",
    "    svm_rbf_results[i]= rnd_search.best_params_[i]\n",
    "\n",
    "svm_rbf_results['RMES - Best hparams']    = -rnd_search.best_score_\n",
    "svm_rbf_results['RMES - Default hparams'] = -mean(cross_val_score(SVR(kernel='rbf'), data_norm, output_data, cv=5, scoring='neg_root_mean_squared_error'))\n",
    "\n",
    "results_dict['SVM RBF'] = svm_rbf_results\n",
    "svm_rbf_results.head()"
   ]
  },
  {
   "cell_type": "markdown",
   "metadata": {},
   "source": [
    "# KNN"
   ]
  },
  {
   "cell_type": "code",
   "execution_count": 19,
   "metadata": {},
   "outputs": [
    {
     "output_type": "stream",
     "name": "stdout",
     "text": [
      "Fitting 5 folds for each of 10 candidates, totalling 50 fits\n"
     ]
    },
    {
     "output_type": "execute_result",
     "data": {
      "text/plain": [
       "                     n_neighbors  RMES - Best hparams  RMES - Default hparams\n",
       "K-Nearest Neighbors           11             1.940255                1.996947"
      ],
      "text/html": "<div>\n<style scoped>\n    .dataframe tbody tr th:only-of-type {\n        vertical-align: middle;\n    }\n\n    .dataframe tbody tr th {\n        vertical-align: top;\n    }\n\n    .dataframe thead th {\n        text-align: right;\n    }\n</style>\n<table border=\"1\" class=\"dataframe\">\n  <thead>\n    <tr style=\"text-align: right;\">\n      <th></th>\n      <th>n_neighbors</th>\n      <th>RMES - Best hparams</th>\n      <th>RMES - Default hparams</th>\n    </tr>\n  </thead>\n  <tbody>\n    <tr>\n      <th>K-Nearest Neighbors</th>\n      <td>11</td>\n      <td>1.940255</td>\n      <td>1.996947</td>\n    </tr>\n  </tbody>\n</table>\n</div>"
     },
     "metadata": {},
     "execution_count": 19
    }
   ],
   "source": [
    "import random\n",
    "from sklearn.neighbors import KNeighborsRegressor\n",
    "\n",
    "knn = KNeighborsRegressor()\n",
    "\n",
    "parameters = {'n_neighbors': stats.randint(1,1000)}\n",
    "\n",
    "rnd_search = RandomizedSearchCV(knn, parameters, n_iter =10, cv=5, scoring='neg_root_mean_squared_error',verbose=100, n_jobs = 12)\n",
    "rnd_search.fit(data_norm, output_data)\n",
    "\n",
    "knn_results = pd.DataFrame(index=['K-Nearest Neighbors'])\n",
    "\n",
    "for i in parameters.keys():\n",
    "    knn_results[i]= rnd_search.best_params_[i]\n",
    "\n",
    "knn_results['RMES - Best hparams']    = -rnd_search.best_score_\n",
    "knn_results['RMES - Default hparams'] = get_default_rmes(KNeighborsRegressor, data_norm, output_data)\n",
    "\n",
    "results_dict['K-Nearest Neighbors'] = knn_results\n",
    "knn_results.head()"
   ]
  },
  {
   "cell_type": "markdown",
   "metadata": {},
   "source": [
    "# MLP"
   ]
  },
  {
   "cell_type": "code",
   "execution_count": 20,
   "metadata": {},
   "outputs": [
    {
     "output_type": "execute_result",
     "data": {
      "text/plain": [
       "                        hidden_layer_sizes  RMES - Best hparams  \\\n",
       "Multi-layer Perceptron                  11             1.561749   \n",
       "\n",
       "                        RMES - Default hparams  \n",
       "Multi-layer Perceptron                1.790035  "
      ],
      "text/html": "<div>\n<style scoped>\n    .dataframe tbody tr th:only-of-type {\n        vertical-align: middle;\n    }\n\n    .dataframe tbody tr th {\n        vertical-align: top;\n    }\n\n    .dataframe thead th {\n        text-align: right;\n    }\n</style>\n<table border=\"1\" class=\"dataframe\">\n  <thead>\n    <tr style=\"text-align: right;\">\n      <th></th>\n      <th>hidden_layer_sizes</th>\n      <th>RMES - Best hparams</th>\n      <th>RMES - Default hparams</th>\n    </tr>\n  </thead>\n  <tbody>\n    <tr>\n      <th>Multi-layer Perceptron</th>\n      <td>11</td>\n      <td>1.561749</td>\n      <td>1.790035</td>\n    </tr>\n  </tbody>\n</table>\n</div>"
     },
     "metadata": {},
     "execution_count": 20
    }
   ],
   "source": [
    "from sklearn.neural_network import MLPRegressor\n",
    "\n",
    "mlp = MLPRegressor(max_iter=1000)\n",
    "\n",
    "parameters = {'hidden_layer_sizes': np.arange(5, 21, 3)}\n",
    "\n",
    "grid_search = GridSearchCV(mlp, param_grid=parameters, cv=5, scoring='neg_root_mean_squared_error', n_jobs = 12)\n",
    "grid_search.fit(data_norm, output_data)\n",
    "\n",
    "assert ([x['hidden_layer_sizes']for x in grid_search.cv_results_['params']] == np.arange(5, 21, 3)).all # Self check\n",
    "\n",
    "mlp_results = pd.DataFrame(index=['Multi-layer Perceptron'])\n",
    "\n",
    "for i in parameters.keys():\n",
    "    mlp_results[i]= grid_search.best_params_[i]\n",
    "\n",
    "mlp_results['RMES - Best hparams']     = -grid_search.best_score_\n",
    "mlp_results['RMES - Default hparams']  = -mean(cross_val_score(MLPRegressor(max_iter=1000), data_norm, output_data, cv=5, scoring='neg_root_mean_squared_error'))\n",
    "\n",
    "results_dict['Multi-layer Perceptron'] = mlp_results\n",
    "mlp_results.head()"
   ]
  },
  {
   "source": [
    "# Árvore de decisão\n",
    "- Usando prunning\n",
    "- Usando para o _ccp-alpha_ 10 números aleatórios entre $0.0$ e $0.04$"
   ],
   "cell_type": "markdown",
   "metadata": {}
  },
  {
   "cell_type": "code",
   "execution_count": 21,
   "metadata": {},
   "outputs": [
    {
     "output_type": "stream",
     "name": "stdout",
     "text": [
      "Fitting 5 folds for each of 10 candidates, totalling 50 fits\n"
     ]
    },
    {
     "output_type": "execute_result",
     "data": {
      "text/plain": [
       "               ccp_alpha  RMES - Best hparams  RMES - Default hparams\n",
       "Decision Tree   0.039896             1.854005                2.224947"
      ],
      "text/html": "<div>\n<style scoped>\n    .dataframe tbody tr th:only-of-type {\n        vertical-align: middle;\n    }\n\n    .dataframe tbody tr th {\n        vertical-align: top;\n    }\n\n    .dataframe thead th {\n        text-align: right;\n    }\n</style>\n<table border=\"1\" class=\"dataframe\">\n  <thead>\n    <tr style=\"text-align: right;\">\n      <th></th>\n      <th>ccp_alpha</th>\n      <th>RMES - Best hparams</th>\n      <th>RMES - Default hparams</th>\n    </tr>\n  </thead>\n  <tbody>\n    <tr>\n      <th>Decision Tree</th>\n      <td>0.039896</td>\n      <td>1.854005</td>\n      <td>2.224947</td>\n    </tr>\n  </tbody>\n</table>\n</div>"
     },
     "metadata": {},
     "execution_count": 21
    }
   ],
   "source": [
    "from sklearn.tree import DecisionTreeRegressor\n",
    "from scipy.stats import uniform\n",
    "\n",
    "dtr = DecisionTreeRegressor()\n",
    "\n",
    "parameters = {'ccp_alpha': uniform(loc=0.0, scale=0.04)}\n",
    "\n",
    "rnd_search = RandomizedSearchCV(dtr, parameters, n_iter = 10, cv=5, scoring='neg_root_mean_squared_error',verbose=100, n_jobs = 8)\n",
    "rnd_search.fit(data_norm, output_data)\n",
    "\n",
    "# Test the generated ccp_alpha values\n",
    "all_ccp_alpha_are_inside_range = [x['ccp_alpha']<0.04 and x['ccp_alpha']>0.00 for x in rnd_search.cv_results_['params']]\n",
    "assert all_ccp_alpha_are_inside_range\n",
    "\n",
    "decision_tree_results = pd.DataFrame(index=['Decision Tree'])\n",
    "\n",
    "decision_tree_results['ccp_alpha']              =  rnd_search.best_params_['ccp_alpha']\n",
    "decision_tree_results['RMES - Best hparams']    = -rnd_search.best_score_\n",
    "decision_tree_results['RMES - Default hparams'] =  get_default_rmes(DecisionTreeRegressor, data_norm, output_data)\n",
    "\n",
    "results_dict['Decision Tree'] = decision_tree_results\n",
    "decision_tree_results.head()"
   ]
  },
  {
   "source": [
    "# Random Forest\n",
    "\n",
    "Foram usadas todas as combinações dos valores abaixo.\n",
    "\n",
    "- n_estimators: 10, 100 e 1000\n",
    "- max_features: 5, 10, e 22\n"
   ],
   "cell_type": "markdown",
   "metadata": {}
  },
  {
   "cell_type": "code",
   "execution_count": 22,
   "metadata": {},
   "outputs": [
    {
     "output_type": "stream",
     "name": "stdout",
     "text": [
      "Fitting 5 folds for each of 9 candidates, totalling 45 fits\n"
     ]
    },
    {
     "output_type": "execute_result",
     "data": {
      "text/plain": [
       "               n_estimators  max_features  RMES - Best hparams  \\\n",
       "Random Forest          1000            10             1.623411   \n",
       "\n",
       "               RMES - Default hparams  \n",
       "Random Forest                1.653001  "
      ],
      "text/html": "<div>\n<style scoped>\n    .dataframe tbody tr th:only-of-type {\n        vertical-align: middle;\n    }\n\n    .dataframe tbody tr th {\n        vertical-align: top;\n    }\n\n    .dataframe thead th {\n        text-align: right;\n    }\n</style>\n<table border=\"1\" class=\"dataframe\">\n  <thead>\n    <tr style=\"text-align: right;\">\n      <th></th>\n      <th>n_estimators</th>\n      <th>max_features</th>\n      <th>RMES - Best hparams</th>\n      <th>RMES - Default hparams</th>\n    </tr>\n  </thead>\n  <tbody>\n    <tr>\n      <th>Random Forest</th>\n      <td>1000</td>\n      <td>10</td>\n      <td>1.623411</td>\n      <td>1.653001</td>\n    </tr>\n  </tbody>\n</table>\n</div>"
     },
     "metadata": {},
     "execution_count": 22
    }
   ],
   "source": [
    "from sklearn.ensemble import RandomForestRegressor\n",
    "\n",
    "rfr = RandomForestRegressor()\n",
    "\n",
    "parameters = {\n",
    "    'n_estimators': [10, 100, 1000],\n",
    "    'max_features': [5, 10, 22]\n",
    "}\n",
    "\n",
    "grid_search = GridSearchCV(rfr, param_grid=parameters, cv=5, scoring='neg_root_mean_squared_error', verbose=100, n_jobs=12)\n",
    "grid_search.fit(data_norm, output_data)\n",
    "\n",
    "random_forest_results = pd.DataFrame(index=['Random Forest'])\n",
    "\n",
    "for i in parameters.keys():\n",
    "    random_forest_results[i] = grid_search.best_params_[i]\n",
    "\n",
    "random_forest_results['RMES - Best hparams']    = -grid_search.best_score_\n",
    "random_forest_results['RMES - Default hparams'] =  get_default_rmes(RandomForestRegressor, data_norm, output_data)\n",
    "\n",
    "results_dict['Random Forest'] = random_forest_results\n",
    "random_forest_results.head()"
   ]
  },
  {
   "source": [
    "# GBM\n",
    "\n",
    "Foram selecionadas 10 trincas aleatórias entre:\n",
    "\n",
    "- n_estimators: de 5 a 100\n",
    "\n",
    "- learning_rate: de 0.01 a 0.3\n",
    "\n",
    "- max_depth: 2 ou 3\n"
   ],
   "cell_type": "markdown",
   "metadata": {}
  },
  {
   "cell_type": "code",
   "execution_count": 23,
   "metadata": {},
   "outputs": [
    {
     "output_type": "stream",
     "name": "stdout",
     "text": [
      "Fitting 5 folds for each of 10 candidates, totalling 50 fits\n"
     ]
    },
    {
     "output_type": "execute_result",
     "data": {
      "text/plain": [
       "                        n_estimators  learning_rate  max_depth  \\\n",
       "Gradient Boost Machine            80       0.184235          2   \n",
       "\n",
       "                        RMES - Best hparams  RMES - Default hparams  \n",
       "Gradient Boost Machine             1.591279                1.595334  "
      ],
      "text/html": "<div>\n<style scoped>\n    .dataframe tbody tr th:only-of-type {\n        vertical-align: middle;\n    }\n\n    .dataframe tbody tr th {\n        vertical-align: top;\n    }\n\n    .dataframe thead th {\n        text-align: right;\n    }\n</style>\n<table border=\"1\" class=\"dataframe\">\n  <thead>\n    <tr style=\"text-align: right;\">\n      <th></th>\n      <th>n_estimators</th>\n      <th>learning_rate</th>\n      <th>max_depth</th>\n      <th>RMES - Best hparams</th>\n      <th>RMES - Default hparams</th>\n    </tr>\n  </thead>\n  <tbody>\n    <tr>\n      <th>Gradient Boost Machine</th>\n      <td>80</td>\n      <td>0.184235</td>\n      <td>2</td>\n      <td>1.591279</td>\n      <td>1.595334</td>\n    </tr>\n  </tbody>\n</table>\n</div>"
     },
     "metadata": {},
     "execution_count": 23
    }
   ],
   "source": [
    "from sklearn.ensemble import GradientBoostingRegressor\n",
    "\n",
    "gbm = GradientBoostingRegressor()\n",
    "\n",
    "parameters = {\n",
    "    'n_estimators': np.arange(5, 101, 1),\n",
    "    'learning_rate': uniform(loc=0.01, scale=(0.3-0.01)),\n",
    "    'max_depth': [2,3]\n",
    "}\n",
    "\n",
    "rnd_search = RandomizedSearchCV(gbm, parameters, n_iter = 10, cv=5, scoring='neg_root_mean_squared_error',verbose=100, n_jobs = 12)\n",
    "rnd_search.fit(data_norm, output_data)\n",
    "\n",
    "# Test the hiperparams values\n",
    "all_n_estimators_inside_range = [x['n_estimators'] >= 5 and x['n_estimators']<= 100 for x in rnd_search.cv_results_['params']]\n",
    "assert all_n_estimators_inside_range\n",
    "\n",
    "all_learning_rate_inside_range = [x['learning_rate'] >= 0.01 and x['learning_rate']<= 0.3 for x in rnd_search.cv_results_['params']]\n",
    "assert all_learning_rate_inside_range\n",
    "\n",
    "all_max_depth_inside_range = [x['max_depth'] == 2 or x['max_depth'] == 3 for x in rnd_search.cv_results_['params']]\n",
    "assert all_max_depth_inside_range\n",
    "\n",
    "# Exibit and save results\n",
    "gbr_results = pd.DataFrame(index=['Gradient Boost Machine'])\n",
    "\n",
    "for i in parameters.keys():\n",
    "    gbr_results[i] = rnd_search.best_params_[i]\n",
    "\n",
    "gbr_results['RMES - Best hparams']     = -rnd_search.best_score_\n",
    "gbr_results['RMES - Default hparams']  =  get_default_rmes(GradientBoostingRegressor, data_norm, output_data)\n",
    "\n",
    "results_dict['Gradient Boost Machine'] = gbr_results\n",
    "\n",
    "gbr_results.head()\n"
   ]
  },
  {
   "source": [
    "# Tabela Final\n",
    "\n"
   ],
   "cell_type": "markdown",
   "metadata": {}
  },
  {
   "cell_type": "code",
   "execution_count": 24,
   "metadata": {},
   "outputs": [
    {
     "output_type": "execute_result",
     "data": {
      "text/plain": [
       "                             RMES - Best hparams  RMES - Default hparams  \\\n",
       "Multi-layer Perceptron                  1.561749                1.790035   \n",
       "SVM Linear                              1.561924                1.561716   \n",
       "Linear com regularização L1             1.563534                3.102547   \n",
       "SVM RBF                                 1.567881                1.599369   \n",
       "Linear com regularização L2             1.575327                1.575360   \n",
       "Linear Regression                       1.577546                1.577546   \n",
       "Gradient Boost Machine                  1.591279                1.595334   \n",
       "Random Forest                           1.623411                1.653001   \n",
       "Decision Tree                           1.854005                2.224947   \n",
       "K-Nearest Neighbors                     1.940255                1.996947   \n",
       "\n",
       "                             Reduction(%)  \n",
       "Multi-layer Perceptron         -12.753119  \n",
       "SVM Linear                       0.013313  \n",
       "Linear com regularização L1    -49.604816  \n",
       "SVM RBF                         -1.968784  \n",
       "Linear com regularização L2     -0.002042  \n",
       "Linear Regression                0.000000  \n",
       "Gradient Boost Machine          -0.254164  \n",
       "Random Forest                   -1.790045  \n",
       "Decision Tree                  -16.671941  \n",
       "K-Nearest Neighbors             -2.838938  "
      ],
      "text/html": "<div>\n<style scoped>\n    .dataframe tbody tr th:only-of-type {\n        vertical-align: middle;\n    }\n\n    .dataframe tbody tr th {\n        vertical-align: top;\n    }\n\n    .dataframe thead th {\n        text-align: right;\n    }\n</style>\n<table border=\"1\" class=\"dataframe\">\n  <thead>\n    <tr style=\"text-align: right;\">\n      <th></th>\n      <th>RMES - Best hparams</th>\n      <th>RMES - Default hparams</th>\n      <th>Reduction(%)</th>\n    </tr>\n  </thead>\n  <tbody>\n    <tr>\n      <th>Multi-layer Perceptron</th>\n      <td>1.561749</td>\n      <td>1.790035</td>\n      <td>-12.753119</td>\n    </tr>\n    <tr>\n      <th>SVM Linear</th>\n      <td>1.561924</td>\n      <td>1.561716</td>\n      <td>0.013313</td>\n    </tr>\n    <tr>\n      <th>Linear com regularização L1</th>\n      <td>1.563534</td>\n      <td>3.102547</td>\n      <td>-49.604816</td>\n    </tr>\n    <tr>\n      <th>SVM RBF</th>\n      <td>1.567881</td>\n      <td>1.599369</td>\n      <td>-1.968784</td>\n    </tr>\n    <tr>\n      <th>Linear com regularização L2</th>\n      <td>1.575327</td>\n      <td>1.575360</td>\n      <td>-0.002042</td>\n    </tr>\n    <tr>\n      <th>Linear Regression</th>\n      <td>1.577546</td>\n      <td>1.577546</td>\n      <td>0.000000</td>\n    </tr>\n    <tr>\n      <th>Gradient Boost Machine</th>\n      <td>1.591279</td>\n      <td>1.595334</td>\n      <td>-0.254164</td>\n    </tr>\n    <tr>\n      <th>Random Forest</th>\n      <td>1.623411</td>\n      <td>1.653001</td>\n      <td>-1.790045</td>\n    </tr>\n    <tr>\n      <th>Decision Tree</th>\n      <td>1.854005</td>\n      <td>2.224947</td>\n      <td>-16.671941</td>\n    </tr>\n    <tr>\n      <th>K-Nearest Neighbors</th>\n      <td>1.940255</td>\n      <td>1.996947</td>\n      <td>-2.838938</td>\n    </tr>\n  </tbody>\n</table>\n</div>"
     },
     "metadata": {},
     "execution_count": 24
    }
   ],
   "source": [
    "\n",
    "final_table = pd.DataFrame()\n",
    "\n",
    "for r in results_dict.values():\n",
    "    final_table = final_table.append(r)\n",
    "\n",
    "columns = final_table.columns\n",
    "for i in columns:\n",
    "    if i not in ['RMES - Best hparams', 'RMES - Default hparams']:\n",
    "        del final_table[i]\n",
    "\n",
    "final_table['Reduction(%)'] = (final_table['RMES - Best hparams'] - final_table['RMES - Default hparams'])/final_table['RMES - Default hparams'] * 100\n",
    "\n",
    "final_table.sort_values(by=['RMES - Best hparams'], inplace=True)\n",
    "final_table.head(final_table.shape[0])"
   ]
  }
 ],
 "metadata": {
  "kernelspec": {
   "name": "python3",
   "display_name": "Python 3.9.1 64-bit ('base': conda)"
  },
  "language_info": {
   "codemirror_mode": {
    "name": "ipython",
    "version": 3
   },
   "file_extension": ".py",
   "mimetype": "text/x-python",
   "name": "python",
   "nbconvert_exporter": "python",
   "pygments_lexer": "ipython3",
   "version": "3.9.1"
  },
  "interpreter": {
   "hash": "44cb6b1e90278a74d5ea4e6c26bb738f4833f9f1c0bed44228008f79a332744b"
  }
 },
 "nbformat": 4,
 "nbformat_minor": 4
}