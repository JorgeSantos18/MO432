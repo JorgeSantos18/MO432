{
 "cells": [
  {
   "cell_type": "markdown",
   "metadata": {},
   "source": [
    "## Grupo\n",
    "\n",
    "227124 Jorge Henrique Monteiro dos Santos\n",
    "\n",
    "262251 Vitor Mello de Araujo Lima\n",
    "\n",
    "## Objetivo\n",
    "\n",
    "Esta tarefa busca  ...\n"
   ]
  },
  {
   "cell_type": "code",
   "execution_count": 1,
   "metadata": {
    "id": "H04mPnLSZNBq"
   },
   "outputs": [],
   "source": [
    "import matplotlib.pyplot as plt\n",
    "import numpy as np\n",
    "import pandas as pd\n",
    "from pandas import DataFrame\n",
    "import math"
   ]
  },
  {
   "cell_type": "markdown",
   "metadata": {},
   "source": [
    "# Leia\n",
    "\n",
    "A leitura dos dados é relizada utilizando a biblioteca Pandas. Como os dados são separados por espaço em branco, é necesasario especificar o parametro sep. Além disso, como a primeira linha não faz parte do conjunto dados e não há um linha com os nomes dos atributos, foi especificado o parametro names e o header.\n"
   ]
  },
  {
   "cell_type": "code",
   "execution_count": 2,
   "metadata": {
    "id": "KG8dTkDrZXeV"
   },
   "outputs": [],
   "source": [
    "url = \"https://www.ic.unicamp.br/~wainer/cursos/1s2021/432/solar-flare.csv\"\n",
    "names = [\"Class\",\"Largest spot size\",\"Spot distribution\", \"Activity\", \"Evolution\", \"Prv 24h flare activity\", \"Historically-complex\", \n",
    "        \"Complexixity change in sun's disk\", \"Area\", \"Largest Spot Area\", \"C-Class\", \"M-Class\", \"X-Class\" ]\n",
    "data = pd.read_csv(url,sep = \" \", header = 0, names = names)"
   ]
  },
  {
   "cell_type": "code",
   "execution_count": 3,
   "metadata": {},
   "outputs": [
    {
     "data": {
      "text/plain": [
       "(1066, 13)"
      ]
     },
     "execution_count": 3,
     "metadata": {},
     "output_type": "execute_result"
    }
   ],
   "source": [
    "data.shape"
   ]
  },
  {
   "cell_type": "markdown",
   "metadata": {},
   "source": [
    "## Primeira linha"
   ]
  },
  {
   "cell_type": "code",
   "execution_count": 4,
   "metadata": {},
   "outputs": [
    {
     "data": {
      "text/html": [
       "<div>\n",
       "<style scoped>\n",
       "    .dataframe tbody tr th:only-of-type {\n",
       "        vertical-align: middle;\n",
       "    }\n",
       "\n",
       "    .dataframe tbody tr th {\n",
       "        vertical-align: top;\n",
       "    }\n",
       "\n",
       "    .dataframe thead th {\n",
       "        text-align: right;\n",
       "    }\n",
       "</style>\n",
       "<table border=\"1\" class=\"dataframe\">\n",
       "  <thead>\n",
       "    <tr style=\"text-align: right;\">\n",
       "      <th></th>\n",
       "      <th>Class</th>\n",
       "      <th>Largest spot size</th>\n",
       "      <th>Spot distribution</th>\n",
       "      <th>Activity</th>\n",
       "      <th>Evolution</th>\n",
       "      <th>Prv 24h flare activity</th>\n",
       "      <th>Historically-complex</th>\n",
       "      <th>Complexixity change in sun's disk</th>\n",
       "      <th>Area</th>\n",
       "      <th>Largest Spot Area</th>\n",
       "      <th>C-Class</th>\n",
       "      <th>M-Class</th>\n",
       "      <th>X-Class</th>\n",
       "    </tr>\n",
       "  </thead>\n",
       "  <tbody>\n",
       "    <tr>\n",
       "      <th>0</th>\n",
       "      <td>H</td>\n",
       "      <td>A</td>\n",
       "      <td>X</td>\n",
       "      <td>1</td>\n",
       "      <td>3</td>\n",
       "      <td>1</td>\n",
       "      <td>1</td>\n",
       "      <td>1</td>\n",
       "      <td>1</td>\n",
       "      <td>1</td>\n",
       "      <td>0</td>\n",
       "      <td>0</td>\n",
       "      <td>0</td>\n",
       "    </tr>\n",
       "  </tbody>\n",
       "</table>\n",
       "</div>"
      ],
      "text/plain": [
       "  Class Largest spot size Spot distribution  Activity  Evolution  \\\n",
       "0     H                 A                 X         1          3   \n",
       "\n",
       "   Prv 24h flare activity  Historically-complex  \\\n",
       "0                       1                     1   \n",
       "\n",
       "   Complexixity change in sun's disk  Area  Largest Spot Area  C-Class  \\\n",
       "0                                  1     1                  1        0   \n",
       "\n",
       "   M-Class  X-Class  \n",
       "0        0        0  "
      ]
     },
     "execution_count": 4,
     "metadata": {},
     "output_type": "execute_result"
    }
   ],
   "source": [
    "data.head(1)"
   ]
  },
  {
   "cell_type": "markdown",
   "metadata": {},
   "source": [
    "## Ultima Linha"
   ]
  },
  {
   "cell_type": "code",
   "execution_count": 5,
   "metadata": {},
   "outputs": [
    {
     "data": {
      "text/html": [
       "<div>\n",
       "<style scoped>\n",
       "    .dataframe tbody tr th:only-of-type {\n",
       "        vertical-align: middle;\n",
       "    }\n",
       "\n",
       "    .dataframe tbody tr th {\n",
       "        vertical-align: top;\n",
       "    }\n",
       "\n",
       "    .dataframe thead th {\n",
       "        text-align: right;\n",
       "    }\n",
       "</style>\n",
       "<table border=\"1\" class=\"dataframe\">\n",
       "  <thead>\n",
       "    <tr style=\"text-align: right;\">\n",
       "      <th></th>\n",
       "      <th>Class</th>\n",
       "      <th>Largest spot size</th>\n",
       "      <th>Spot distribution</th>\n",
       "      <th>Activity</th>\n",
       "      <th>Evolution</th>\n",
       "      <th>Prv 24h flare activity</th>\n",
       "      <th>Historically-complex</th>\n",
       "      <th>Complexixity change in sun's disk</th>\n",
       "      <th>Area</th>\n",
       "      <th>Largest Spot Area</th>\n",
       "      <th>C-Class</th>\n",
       "      <th>M-Class</th>\n",
       "      <th>X-Class</th>\n",
       "    </tr>\n",
       "  </thead>\n",
       "  <tbody>\n",
       "    <tr>\n",
       "      <th>1065</th>\n",
       "      <td>B</td>\n",
       "      <td>X</td>\n",
       "      <td>O</td>\n",
       "      <td>1</td>\n",
       "      <td>1</td>\n",
       "      <td>1</td>\n",
       "      <td>1</td>\n",
       "      <td>2</td>\n",
       "      <td>1</td>\n",
       "      <td>1</td>\n",
       "      <td>0</td>\n",
       "      <td>0</td>\n",
       "      <td>0</td>\n",
       "    </tr>\n",
       "  </tbody>\n",
       "</table>\n",
       "</div>"
      ],
      "text/plain": [
       "     Class Largest spot size Spot distribution  Activity  Evolution  \\\n",
       "1065     B                 X                 O         1          1   \n",
       "\n",
       "      Prv 24h flare activity  Historically-complex  \\\n",
       "1065                       1                     1   \n",
       "\n",
       "      Complexixity change in sun's disk  Area  Largest Spot Area  C-Class  \\\n",
       "1065                                  2     1                  1        0   \n",
       "\n",
       "      M-Class  X-Class  \n",
       "1065        0        0  "
      ]
     },
     "execution_count": 5,
     "metadata": {},
     "output_type": "execute_result"
    }
   ],
   "source": [
    "data.tail(1)"
   ]
  },
  {
   "cell_type": "markdown",
   "metadata": {},
   "source": [
    "# Converta os atributos categóricos para numéricos"
   ]
  },
  {
   "cell_type": "code",
   "execution_count": 6,
   "metadata": {},
   "outputs": [
    {
     "data": {
      "text/html": [
       "<div>\n",
       "<style scoped>\n",
       "    .dataframe tbody tr th:only-of-type {\n",
       "        vertical-align: middle;\n",
       "    }\n",
       "\n",
       "    .dataframe tbody tr th {\n",
       "        vertical-align: top;\n",
       "    }\n",
       "\n",
       "    .dataframe thead th {\n",
       "        text-align: right;\n",
       "    }\n",
       "</style>\n",
       "<table border=\"1\" class=\"dataframe\">\n",
       "  <thead>\n",
       "    <tr style=\"text-align: right;\">\n",
       "      <th></th>\n",
       "      <th>Activity</th>\n",
       "      <th>Evolution</th>\n",
       "      <th>Prv 24h flare activity</th>\n",
       "      <th>Historically-complex</th>\n",
       "      <th>Complexixity change in sun's disk</th>\n",
       "      <th>Area</th>\n",
       "      <th>Largest Spot Area</th>\n",
       "      <th>C-Class</th>\n",
       "      <th>M-Class</th>\n",
       "      <th>X-Class</th>\n",
       "      <th>...</th>\n",
       "      <th>Larg_spot_size_A</th>\n",
       "      <th>Larg_spot_size_H</th>\n",
       "      <th>Larg_spot_size_K</th>\n",
       "      <th>Larg_spot_size_R</th>\n",
       "      <th>Larg_spot_size_S</th>\n",
       "      <th>Larg_spot_size_X</th>\n",
       "      <th>Spot_distr_C</th>\n",
       "      <th>Spot_distr_I</th>\n",
       "      <th>Spot_distr_O</th>\n",
       "      <th>Spot_distr_X</th>\n",
       "    </tr>\n",
       "  </thead>\n",
       "  <tbody>\n",
       "    <tr>\n",
       "      <th>0</th>\n",
       "      <td>1</td>\n",
       "      <td>3</td>\n",
       "      <td>1</td>\n",
       "      <td>1</td>\n",
       "      <td>1</td>\n",
       "      <td>1</td>\n",
       "      <td>1</td>\n",
       "      <td>0</td>\n",
       "      <td>0</td>\n",
       "      <td>0</td>\n",
       "      <td>...</td>\n",
       "      <td>1</td>\n",
       "      <td>0</td>\n",
       "      <td>0</td>\n",
       "      <td>0</td>\n",
       "      <td>0</td>\n",
       "      <td>0</td>\n",
       "      <td>0</td>\n",
       "      <td>0</td>\n",
       "      <td>0</td>\n",
       "      <td>1</td>\n",
       "    </tr>\n",
       "    <tr>\n",
       "      <th>1</th>\n",
       "      <td>1</td>\n",
       "      <td>3</td>\n",
       "      <td>1</td>\n",
       "      <td>1</td>\n",
       "      <td>2</td>\n",
       "      <td>1</td>\n",
       "      <td>1</td>\n",
       "      <td>0</td>\n",
       "      <td>0</td>\n",
       "      <td>0</td>\n",
       "      <td>...</td>\n",
       "      <td>0</td>\n",
       "      <td>0</td>\n",
       "      <td>0</td>\n",
       "      <td>1</td>\n",
       "      <td>0</td>\n",
       "      <td>0</td>\n",
       "      <td>0</td>\n",
       "      <td>0</td>\n",
       "      <td>1</td>\n",
       "      <td>0</td>\n",
       "    </tr>\n",
       "    <tr>\n",
       "      <th>2</th>\n",
       "      <td>1</td>\n",
       "      <td>3</td>\n",
       "      <td>1</td>\n",
       "      <td>1</td>\n",
       "      <td>2</td>\n",
       "      <td>1</td>\n",
       "      <td>1</td>\n",
       "      <td>0</td>\n",
       "      <td>0</td>\n",
       "      <td>0</td>\n",
       "      <td>...</td>\n",
       "      <td>0</td>\n",
       "      <td>0</td>\n",
       "      <td>0</td>\n",
       "      <td>0</td>\n",
       "      <td>1</td>\n",
       "      <td>0</td>\n",
       "      <td>0</td>\n",
       "      <td>0</td>\n",
       "      <td>1</td>\n",
       "      <td>0</td>\n",
       "    </tr>\n",
       "    <tr>\n",
       "      <th>3</th>\n",
       "      <td>1</td>\n",
       "      <td>2</td>\n",
       "      <td>1</td>\n",
       "      <td>1</td>\n",
       "      <td>1</td>\n",
       "      <td>1</td>\n",
       "      <td>1</td>\n",
       "      <td>0</td>\n",
       "      <td>0</td>\n",
       "      <td>0</td>\n",
       "      <td>...</td>\n",
       "      <td>0</td>\n",
       "      <td>0</td>\n",
       "      <td>0</td>\n",
       "      <td>1</td>\n",
       "      <td>0</td>\n",
       "      <td>0</td>\n",
       "      <td>0</td>\n",
       "      <td>0</td>\n",
       "      <td>0</td>\n",
       "      <td>1</td>\n",
       "    </tr>\n",
       "    <tr>\n",
       "      <th>4</th>\n",
       "      <td>1</td>\n",
       "      <td>1</td>\n",
       "      <td>1</td>\n",
       "      <td>1</td>\n",
       "      <td>2</td>\n",
       "      <td>1</td>\n",
       "      <td>1</td>\n",
       "      <td>0</td>\n",
       "      <td>0</td>\n",
       "      <td>0</td>\n",
       "      <td>...</td>\n",
       "      <td>0</td>\n",
       "      <td>0</td>\n",
       "      <td>0</td>\n",
       "      <td>0</td>\n",
       "      <td>1</td>\n",
       "      <td>0</td>\n",
       "      <td>0</td>\n",
       "      <td>0</td>\n",
       "      <td>0</td>\n",
       "      <td>1</td>\n",
       "    </tr>\n",
       "  </tbody>\n",
       "</table>\n",
       "<p>5 rows × 26 columns</p>\n",
       "</div>"
      ],
      "text/plain": [
       "   Activity  Evolution  Prv 24h flare activity  Historically-complex  \\\n",
       "0         1          3                       1                     1   \n",
       "1         1          3                       1                     1   \n",
       "2         1          3                       1                     1   \n",
       "3         1          2                       1                     1   \n",
       "4         1          1                       1                     1   \n",
       "\n",
       "   Complexixity change in sun's disk  Area  Largest Spot Area  C-Class  \\\n",
       "0                                  1     1                  1        0   \n",
       "1                                  2     1                  1        0   \n",
       "2                                  2     1                  1        0   \n",
       "3                                  1     1                  1        0   \n",
       "4                                  2     1                  1        0   \n",
       "\n",
       "   M-Class  X-Class  ...  Larg_spot_size_A  Larg_spot_size_H  \\\n",
       "0        0        0  ...                 1                 0   \n",
       "1        0        0  ...                 0                 0   \n",
       "2        0        0  ...                 0                 0   \n",
       "3        0        0  ...                 0                 0   \n",
       "4        0        0  ...                 0                 0   \n",
       "\n",
       "   Larg_spot_size_K  Larg_spot_size_R  Larg_spot_size_S  Larg_spot_size_X  \\\n",
       "0                 0                 0                 0                 0   \n",
       "1                 0                 1                 0                 0   \n",
       "2                 0                 0                 1                 0   \n",
       "3                 0                 1                 0                 0   \n",
       "4                 0                 0                 1                 0   \n",
       "\n",
       "   Spot_distr_C  Spot_distr_I  Spot_distr_O  Spot_distr_X  \n",
       "0             0             0             0             1  \n",
       "1             0             0             1             0  \n",
       "2             0             0             1             0  \n",
       "3             0             0             0             1  \n",
       "4             0             0             0             1  \n",
       "\n",
       "[5 rows x 26 columns]"
      ]
     },
     "execution_count": 6,
     "metadata": {},
     "output_type": "execute_result"
    }
   ],
   "source": [
    "Class = pd.get_dummies(data['Class'], prefix='Class')\n",
    "#print(Class.head())\n",
    "\n",
    "largSpotSize = pd.get_dummies(data['Largest spot size'], prefix='Larg_spot_size')\n",
    "#print(largSpotSize.head())\n",
    "\n",
    "spotDistr = pd.get_dummies(data['Spot distribution'], prefix='Spot_distr')\n",
    "#print(spotDistr.head())\n",
    "\n",
    "data_num = pd.concat([data,Class,largSpotSize,spotDistr], axis=1)\n",
    "data_num.drop(['Class', 'Largest spot size','Spot distribution' ],axis=1, inplace=True)\n",
    "\n",
    "data_num.head()"
   ]
  },
  {
   "cell_type": "markdown",
   "metadata": {},
   "source": [
    "# Centering and scaling\n",
    "Faça o centering and standard scaling para todos os atributos de entrada (convertidos para numéricos)"
   ]
  },
  {
   "cell_type": "code",
   "execution_count": 7,
   "metadata": {},
   "outputs": [],
   "source": [
    "#Separate input and output data\n",
    "output_data_columns = [\"C-Class\", \"M-Class\", \"X-Class\"]\n",
    "output_data_num = data_num.loc[:, output_data_columns]\n",
    "\n",
    "assert output_data_num.shape[1] == 3\n",
    "assert output_data_num.shape[0] == data_num.shape[0]\n",
    "assert set(output_data_columns).issubset(output_data_num)\n",
    "\n",
    "input_data_num = data_num.drop(output_data_columns, axis=1, inplace=False)\n",
    "\n",
    "assert input_data_num.shape[0] == data_num.shape[0]\n",
    "assert input_data_num.shape[1] == (data_num.shape[1]-3)\n",
    "assert not set(output_data_columns).issubset(input_data_num) \n",
    "\n"
   ]
  },
  {
   "cell_type": "code",
   "execution_count": 8,
   "metadata": {},
   "outputs": [],
   "source": [
    "from sklearn.preprocessing import StandardScaler\n",
    "\n",
    "data_scaled = DataFrame(StandardScaler().fit_transform(input_data_num), columns=input_data_num.columns)\n",
    "data_scaled.head()\n",
    "\n",
    "## Quick check of mean and std\n",
    "assert  np.mean(data_scaled.Area)     < 1e-14\n",
    "assert (np.std(data_scaled.Area) - 1) < 1e-14\n",
    "\n"
   ]
  },
  {
   "cell_type": "code",
   "execution_count": 9,
   "metadata": {},
   "outputs": [
    {
     "name": "stdout",
     "output_type": "stream",
     "text": [
      "Index(['Activity', 'Evolution', 'Prv 24h flare activity',\n",
      "       'Historically-complex', 'Complexixity change in sun's disk', 'Area',\n",
      "       'Largest Spot Area', 'Class_B', 'Class_C', 'Class_D', 'Class_E',\n",
      "       'Class_F', 'Class_H', 'Larg_spot_size_A', 'Larg_spot_size_H',\n",
      "       'Larg_spot_size_K', 'Larg_spot_size_R', 'Larg_spot_size_S',\n",
      "       'Larg_spot_size_X', 'Spot_distr_C', 'Spot_distr_I', 'Spot_distr_O',\n",
      "       'Spot_distr_X'],\n",
      "      dtype='object')\n"
     ]
    }
   ],
   "source": [
    "print(data_scaled.columns)"
   ]
  },
  {
   "cell_type": "markdown",
   "metadata": {},
   "source": [
    "# PCA\n",
    "Reduza a dimensionalidade dos atributos de entrada usando PCA.\n",
    "\n",
    "## Quantas dimensões restarão se mantivermos 90% da variância dos dados?\n",
    "\n"
   ]
  },
  {
   "cell_type": "code",
   "execution_count": 10,
   "metadata": {},
   "outputs": [],
   "source": [
    "from sklearn.decomposition import PCA\n",
    "\n",
    "pca = PCA().fit(data_scaled)\n",
    "\n",
    "variance_cum_sum = np.cumsum(pca.explained_variance_ratio_)\n"
   ]
  },
  {
   "cell_type": "code",
   "execution_count": 11,
   "metadata": {},
   "outputs": [
    {
     "name": "stdout",
     "output_type": "stream",
     "text": [
      "Restarão 12 dimensões se mantivermos 90% da variância\n",
      "[0.89148517 0.91693329]\n"
     ]
    }
   ],
   "source": [
    "variance_until_90 = variance_cum_sum[variance_cum_sum<=0.90]\n",
    "n_dim = variance_until_90.size\n",
    "print(\"Restarão {} dimensões se mantivermos 90% da variância\".format(n_dim))\n",
    "\n",
    "## Testing:\n",
    "# Cumulative sum after n elements (0:n-1)  <= 90%\n",
    "assert (variance_cum_sum[n_dim-1] < 0.9)\n",
    "\n",
    "# Cumulative after n+1 elements (0-n) should be >= 90%\n",
    "assert(variance_cum_sum[n_dim] > 0.9)\n",
    "\n",
    "print(variance_cum_sum[n_dim-1:n_dim+1])\n",
    "\n",
    "# Total is 1\n",
    "assert variance_cum_sum[variance_cum_sum.size-1] - 1 < 1e-15"
   ]
  },
  {
   "cell_type": "markdown",
   "metadata": {},
   "source": [
    "## Use o _Scree Plot_ para determinar quantas dimensões devem ser mantidas"
   ]
  },
  {
   "cell_type": "code",
   "execution_count": 12,
   "metadata": {},
   "outputs": [
    {
     "data": {
      "image/png": "[encoded data removed]",
      "text/plain": [
       "<Figure size 432x288 with 1 Axes>"
      ]
     },
     "metadata": {
      "needs_background": "light"
     },
     "output_type": "display_data"
    }
   ],
   "source": [
    "plt.plot(pca.explained_variance_ratio_*100)\n",
    "plt.xlabel('number of components')\n",
    "plt.ylabel('Percentage explained variance')\n",
    "plt.title(\"Scree Plot\")\n",
    "plt.show()"
   ]
  },
  {
   "cell_type": "markdown",
   "metadata": {},
   "source": [
    "A partir do Scree Plot e utilizando a heurística do \"joelho\", podemos assumir que 5 dimensões devem ser mantidas."
   ]
  },
  {
   "cell_type": "markdown",
   "metadata": {},
   "source": [
    "## Converta os dados usando o PCA com 90% das variância.\n",
    "\n"
   ]
  },
  {
   "cell_type": "code",
   "execution_count": 13,
   "metadata": {},
   "outputs": [
    {
     "name": "stdout",
     "output_type": "stream",
     "text": [
      "O conjunto de dados foi reduzido para 90% da variância, continua com 1066 linhas, mas apenas 12 colunas, relativas aos 12 componentes de maior variâcia.\n"
     ]
    }
   ],
   "source": [
    "reduced_data = PCA(n_components=n_dim).fit_transform(data_scaled)\n",
    "\n",
    "\n",
    "print(\"O conjunto de dados foi reduzido para 90% da variância, continua com {} linhas, mas apenas {} colunas, relativas aos \\\n",
    "{} componentes de maior variâcia.\".format(reduced_data.shape[0], reduced_data.shape[1], n_dim))"
   ]
  },
  {
   "cell_type": "markdown",
   "metadata": {},
   "source": [
    "# Validação cruzada e regreção linear\n",
    "\n",
    "Nessa etapa, faz-se 5 repetições de validação cruzada aleatória, utilizando conjuntos de treino com 70% e conjuntos de teste com 30%.\n",
    "\n",
    "Utiliza-se uma regressão linear para cada um dos três atributos de saída.\n",
    "\n",
    "Exibe-se ao final o RMSE e MAE para cada uma das 5 regressões lineares."
   ]
  },
  {
   "cell_type": "code",
   "execution_count": 30,
   "metadata": {},
   "outputs": [],
   "source": [
    "def calc_rmes(actual, prediction):\n",
    "    return math.sqrt(( (actual-prediction)**2 ).sum()/actual.shape[0])\n",
    "\n",
    "def calc_mae(actual, prediction):\n",
    "    return ( (actual-prediction).abs() ).sum()/actual.shape[0]\n"
   ]
  },
  {
   "cell_type": "code",
   "execution_count": 31,
   "metadata": {},
   "outputs": [
    {
     "name": "stdout",
     "output_type": "stream",
     "text": [
      "-------------RMSE-------------\n"
     ]
    },
    {
     "data": {
      "text/html": [
       "<div>\n",
       "<style scoped>\n",
       "    .dataframe tbody tr th:only-of-type {\n",
       "        vertical-align: middle;\n",
       "    }\n",
       "\n",
       "    .dataframe tbody tr th {\n",
       "        vertical-align: top;\n",
       "    }\n",
       "\n",
       "    .dataframe thead th {\n",
       "        text-align: right;\n",
       "    }\n",
       "</style>\n",
       "<table border=\"1\" class=\"dataframe\">\n",
       "  <thead>\n",
       "    <tr style=\"text-align: right;\">\n",
       "      <th></th>\n",
       "      <th>C-Class</th>\n",
       "      <th>M-Class</th>\n",
       "      <th>X-Class</th>\n",
       "    </tr>\n",
       "  </thead>\n",
       "  <tbody>\n",
       "    <tr>\n",
       "      <th>0</th>\n",
       "      <td>0.737448</td>\n",
       "      <td>0.231278</td>\n",
       "      <td>0.132284</td>\n",
       "    </tr>\n",
       "    <tr>\n",
       "      <th>1</th>\n",
       "      <td>0.813513</td>\n",
       "      <td>0.243231</td>\n",
       "      <td>0.043673</td>\n",
       "    </tr>\n",
       "    <tr>\n",
       "      <th>2</th>\n",
       "      <td>0.817200</td>\n",
       "      <td>0.396455</td>\n",
       "      <td>0.057836</td>\n",
       "    </tr>\n",
       "    <tr>\n",
       "      <th>3</th>\n",
       "      <td>0.739801</td>\n",
       "      <td>0.372410</td>\n",
       "      <td>0.078950</td>\n",
       "    </tr>\n",
       "    <tr>\n",
       "      <th>4</th>\n",
       "      <td>0.784332</td>\n",
       "      <td>0.310760</td>\n",
       "      <td>0.106289</td>\n",
       "    </tr>\n",
       "    <tr>\n",
       "      <th>Avg</th>\n",
       "      <td>0.778459</td>\n",
       "      <td>0.310827</td>\n",
       "      <td>0.083806</td>\n",
       "    </tr>\n",
       "  </tbody>\n",
       "</table>\n",
       "</div>"
      ],
      "text/plain": [
       "      C-Class   M-Class   X-Class\n",
       "0    0.737448  0.231278  0.132284\n",
       "1    0.813513  0.243231  0.043673\n",
       "2    0.817200  0.396455  0.057836\n",
       "3    0.739801  0.372410  0.078950\n",
       "4    0.784332  0.310760  0.106289\n",
       "Avg  0.778459  0.310827  0.083806"
      ]
     },
     "execution_count": 31,
     "metadata": {},
     "output_type": "execute_result"
    }
   ],
   "source": [
    "from sklearn.linear_model import LinearRegression\n",
    "from sklearn.model_selection import train_test_split\n",
    "\n",
    "def calc_rmes_mae (input_data_, output_data_):\n",
    "    l_rmes = []\n",
    "    l_mae  = []\n",
    "\n",
    "    for i in range(5):\n",
    "        # Create test and train sets\n",
    "        x_train,x_test,y_train,y_test=train_test_split(input_data_, output_data_, test_size=0.3)\n",
    "\n",
    "        assert (x_test.shape[0] + x_train.shape[0]) == reduced_data.shape[0]\n",
    "        assert (y_test.shape[0] + y_train.shape[0]) == reduced_data.shape[0]\n",
    "\n",
    "        lreg = LinearRegression().fit(x_train, y_train)\n",
    "\n",
    "        l_rmes.append( calc_rmes(y_test, lreg.predict(x_test)) )\n",
    "        l_mae.append(  calc_mae( y_test, lreg.predict(x_test)) )\n",
    "    \n",
    "    return l_rmes, l_mae\n",
    "\n",
    "def format_table(measure, cols):\n",
    "    table = pd.DataFrame(columns=cols)\n",
    "    for col in cols:\n",
    "        table[col] = np.append(np.array(error_measures.at[measure, col]), np.mean(np.array(error_measures.at[measure, col])))\n",
    "    table.index = [0, 1, 2, 3, 4, 'Avg']\n",
    "    return table\n",
    "    \n",
    "# Get the measures\n",
    "error_measures = pd.DataFrame(columns=output_data_columns)\n",
    "for col in output_data_columns:\n",
    "    error_measures[col] = calc_rmes_mae(reduced_data, output_data_num[col])\n",
    "error_measures.index = [\"RMSE\", \"MAE\"]\n",
    "\n",
    "# Print them in columns\n",
    "table = format_table(\"RMSE\", output_data_columns)\n",
    "print(\"-------------RMSE-------------\")\n",
    "table.head(6)"
   ]
  },
  {
   "cell_type": "code",
   "execution_count": 32,
   "metadata": {},
   "outputs": [
    {
     "name": "stdout",
     "output_type": "stream",
     "text": [
      "-------------MAE-------------\n"
     ]
    },
    {
     "data": {
      "text/html": [
       "<div>\n",
       "<style scoped>\n",
       "    .dataframe tbody tr th:only-of-type {\n",
       "        vertical-align: middle;\n",
       "    }\n",
       "\n",
       "    .dataframe tbody tr th {\n",
       "        vertical-align: top;\n",
       "    }\n",
       "\n",
       "    .dataframe thead th {\n",
       "        text-align: right;\n",
       "    }\n",
       "</style>\n",
       "<table border=\"1\" class=\"dataframe\">\n",
       "  <thead>\n",
       "    <tr style=\"text-align: right;\">\n",
       "      <th></th>\n",
       "      <th>C-Class</th>\n",
       "      <th>M-Class</th>\n",
       "      <th>X-Class</th>\n",
       "    </tr>\n",
       "  </thead>\n",
       "  <tbody>\n",
       "    <tr>\n",
       "      <th>0</th>\n",
       "      <td>0.436361</td>\n",
       "      <td>0.101306</td>\n",
       "      <td>0.018481</td>\n",
       "    </tr>\n",
       "    <tr>\n",
       "      <th>1</th>\n",
       "      <td>0.425306</td>\n",
       "      <td>0.089635</td>\n",
       "      <td>0.013991</td>\n",
       "    </tr>\n",
       "    <tr>\n",
       "      <th>2</th>\n",
       "      <td>0.436237</td>\n",
       "      <td>0.111686</td>\n",
       "      <td>0.016737</td>\n",
       "    </tr>\n",
       "    <tr>\n",
       "      <th>3</th>\n",
       "      <td>0.405757</td>\n",
       "      <td>0.102058</td>\n",
       "      <td>0.019062</td>\n",
       "    </tr>\n",
       "    <tr>\n",
       "      <th>4</th>\n",
       "      <td>0.440042</td>\n",
       "      <td>0.092212</td>\n",
       "      <td>0.014250</td>\n",
       "    </tr>\n",
       "    <tr>\n",
       "      <th>Avg</th>\n",
       "      <td>0.428741</td>\n",
       "      <td>0.099379</td>\n",
       "      <td>0.016504</td>\n",
       "    </tr>\n",
       "  </tbody>\n",
       "</table>\n",
       "</div>"
      ],
      "text/plain": [
       "      C-Class   M-Class   X-Class\n",
       "0    0.436361  0.101306  0.018481\n",
       "1    0.425306  0.089635  0.013991\n",
       "2    0.436237  0.111686  0.016737\n",
       "3    0.405757  0.102058  0.019062\n",
       "4    0.440042  0.092212  0.014250\n",
       "Avg  0.428741  0.099379  0.016504"
      ]
     },
     "execution_count": 32,
     "metadata": {},
     "output_type": "execute_result"
    }
   ],
   "source": [
    "print(\"-------------MAE-------------\")\n",
    "table = format_table(\"MAE\", output_data_columns)\n",
    "table.head(6)"
   ]
  }
 ],
 "metadata": {
  "colab": {
   "collapsed_sections": [],
   "name": "Untitled3.ipynb",
   "provenance": []
  },
  "kernelspec": {
   "display_name": "Python 3",
   "language": "python",
   "name": "python3"
  },
  "language_info": {
   "codemirror_mode": {
    "name": "ipython",
    "version": 3
   },
   "file_extension": ".py",
   "mimetype": "text/x-python",
   "name": "python",
   "nbconvert_exporter": "python",
   "pygments_lexer": "ipython3",
   "version": "3.8.5"
  },
  "metadata": {
   "interpreter": {
    "hash": "00e6996aa542c6b116e8c42dcc4a8b5b9e1c7411c0569bbe48eab7d765763188"
   }
  }
 },
 "nbformat": 4,
 "nbformat_minor": 4
}
