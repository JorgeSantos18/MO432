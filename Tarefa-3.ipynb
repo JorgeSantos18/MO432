{
 "cells": [
  {
   "cell_type": "markdown",
   "metadata": {},
   "source": [
    "## Grupo\n",
    "\n",
    "227124 Jorge Henrique Monteiro dos Santos\n",
    "\n",
    "262251 Vitor Mello de Araujo Lima\n",
    "\n",
    "## Objetivo\n",
    "\n",
    "Esta tarefa busca  ...\n"
   ]
  },
  {
   "cell_type": "code",
   "execution_count": 133,
   "metadata": {
    "id": "H04mPnLSZNBq"
   },
   "outputs": [],
   "source": [
    "import matplotlib.pyplot as plt\n",
    "import numpy as np\n",
    "import pandas as pd\n",
    "from pandas import DataFrame"
   ]
  },
  {
   "cell_type": "markdown",
   "metadata": {},
   "source": [
    "# Leia\n",
    "\n",
    "A leitura dos dados é relizada utilizando a biblioteca Pandas. Como os dados são separados por espaço em branco, é necesasario especificar o parametro sep. Além disso, como a primeira linha não faz parte do conjunto dados e não há um linha com os nomes dos atributos, foi especificado o parametro names e o header.\n"
   ]
  },
  {
   "cell_type": "code",
   "execution_count": 134,
   "metadata": {
    "id": "KG8dTkDrZXeV"
   },
   "outputs": [],
   "source": [
    "url = \"https://www.ic.unicamp.br/~wainer/cursos/1s2021/432/solar-flare.csv\"\n",
    "names = [\"Class\",\"Largest spot size\",\"Spot distribution\", \"Activity\", \"Evolution\", \"Prv 24h flare activity\", \"Historically-complex\", \n",
    "        \"Complexixity change in sun's disk\", \"Area\", \"Largest Spot Area\", \"C-Class\", \"M-Class\", \"X-Class\" ]\n",
    "data = pd.read_csv(url,sep = \" \", header = 0, names = names)"
   ]
  },
  {
   "cell_type": "code",
   "execution_count": 135,
   "metadata": {},
   "outputs": [
    {
     "output_type": "execute_result",
     "data": {
      "text/plain": [
       "(1066, 13)"
      ]
     },
     "metadata": {},
     "execution_count": 135
    }
   ],
   "source": [
    "data.shape"
   ]
  },
  {
   "cell_type": "markdown",
   "metadata": {},
   "source": [
    "## Primeira linha"
   ]
  },
  {
   "cell_type": "code",
   "execution_count": 136,
   "metadata": {},
   "outputs": [
    {
     "output_type": "execute_result",
     "data": {
      "text/plain": [
       "  Class Largest spot size Spot distribution  Activity  Evolution  \\\n",
       "0     H                 A                 X         1          3   \n",
       "\n",
       "   Prv 24h flare activity  Historically-complex  \\\n",
       "0                       1                     1   \n",
       "\n",
       "   Complexixity change in sun's disk  Area  Largest Spot Area  C-Class  \\\n",
       "0                                  1     1                  1        0   \n",
       "\n",
       "   M-Class  X-Class  \n",
       "0        0        0  "
      ],
      "text/html": "<div>\n<style scoped>\n    .dataframe tbody tr th:only-of-type {\n        vertical-align: middle;\n    }\n\n    .dataframe tbody tr th {\n        vertical-align: top;\n    }\n\n    .dataframe thead th {\n        text-align: right;\n    }\n</style>\n<table border=\"1\" class=\"dataframe\">\n  <thead>\n    <tr style=\"text-align: right;\">\n      <th></th>\n      <th>Class</th>\n      <th>Largest spot size</th>\n      <th>Spot distribution</th>\n      <th>Activity</th>\n      <th>Evolution</th>\n      <th>Prv 24h flare activity</th>\n      <th>Historically-complex</th>\n      <th>Complexixity change in sun's disk</th>\n      <th>Area</th>\n      <th>Largest Spot Area</th>\n      <th>C-Class</th>\n      <th>M-Class</th>\n      <th>X-Class</th>\n    </tr>\n  </thead>\n  <tbody>\n    <tr>\n      <th>0</th>\n      <td>H</td>\n      <td>A</td>\n      <td>X</td>\n      <td>1</td>\n      <td>3</td>\n      <td>1</td>\n      <td>1</td>\n      <td>1</td>\n      <td>1</td>\n      <td>1</td>\n      <td>0</td>\n      <td>0</td>\n      <td>0</td>\n    </tr>\n  </tbody>\n</table>\n</div>"
     },
     "metadata": {},
     "execution_count": 136
    }
   ],
   "source": [
    "data.head(1)"
   ]
  },
  {
   "cell_type": "markdown",
   "metadata": {},
   "source": [
    "## Ultima Linha"
   ]
  },
  {
   "cell_type": "code",
   "execution_count": 137,
   "metadata": {},
   "outputs": [
    {
     "output_type": "execute_result",
     "data": {
      "text/plain": [
       "     Class Largest spot size Spot distribution  Activity  Evolution  \\\n",
       "1065     B                 X                 O         1          1   \n",
       "\n",
       "      Prv 24h flare activity  Historically-complex  \\\n",
       "1065                       1                     1   \n",
       "\n",
       "      Complexixity change in sun's disk  Area  Largest Spot Area  C-Class  \\\n",
       "1065                                  2     1                  1        0   \n",
       "\n",
       "      M-Class  X-Class  \n",
       "1065        0        0  "
      ],
      "text/html": "<div>\n<style scoped>\n    .dataframe tbody tr th:only-of-type {\n        vertical-align: middle;\n    }\n\n    .dataframe tbody tr th {\n        vertical-align: top;\n    }\n\n    .dataframe thead th {\n        text-align: right;\n    }\n</style>\n<table border=\"1\" class=\"dataframe\">\n  <thead>\n    <tr style=\"text-align: right;\">\n      <th></th>\n      <th>Class</th>\n      <th>Largest spot size</th>\n      <th>Spot distribution</th>\n      <th>Activity</th>\n      <th>Evolution</th>\n      <th>Prv 24h flare activity</th>\n      <th>Historically-complex</th>\n      <th>Complexixity change in sun's disk</th>\n      <th>Area</th>\n      <th>Largest Spot Area</th>\n      <th>C-Class</th>\n      <th>M-Class</th>\n      <th>X-Class</th>\n    </tr>\n  </thead>\n  <tbody>\n    <tr>\n      <th>1065</th>\n      <td>B</td>\n      <td>X</td>\n      <td>O</td>\n      <td>1</td>\n      <td>1</td>\n      <td>1</td>\n      <td>1</td>\n      <td>2</td>\n      <td>1</td>\n      <td>1</td>\n      <td>0</td>\n      <td>0</td>\n      <td>0</td>\n    </tr>\n  </tbody>\n</table>\n</div>"
     },
     "metadata": {},
     "execution_count": 137
    }
   ],
   "source": [
    "data.tail(1)"
   ]
  },
  {
   "cell_type": "markdown",
   "metadata": {},
   "source": [
    "# Converta os atributos categóricos para numéricos"
   ]
  },
  {
   "cell_type": "code",
   "execution_count": 138,
   "metadata": {},
   "outputs": [
    {
     "output_type": "execute_result",
     "data": {
      "text/plain": [
       "   Activity  Evolution  Prv 24h flare activity  Historically-complex  \\\n",
       "0         1          3                       1                     1   \n",
       "1         1          3                       1                     1   \n",
       "2         1          3                       1                     1   \n",
       "3         1          2                       1                     1   \n",
       "4         1          1                       1                     1   \n",
       "\n",
       "   Complexixity change in sun's disk  Area  Largest Spot Area  C-Class  \\\n",
       "0                                  1     1                  1        0   \n",
       "1                                  2     1                  1        0   \n",
       "2                                  2     1                  1        0   \n",
       "3                                  1     1                  1        0   \n",
       "4                                  2     1                  1        0   \n",
       "\n",
       "   M-Class  X-Class  ...  Larg_spot_size_A  Larg_spot_size_H  \\\n",
       "0        0        0  ...                 1                 0   \n",
       "1        0        0  ...                 0                 0   \n",
       "2        0        0  ...                 0                 0   \n",
       "3        0        0  ...                 0                 0   \n",
       "4        0        0  ...                 0                 0   \n",
       "\n",
       "   Larg_spot_size_K  Larg_spot_size_R  Larg_spot_size_S  Larg_spot_size_X  \\\n",
       "0                 0                 0                 0                 0   \n",
       "1                 0                 1                 0                 0   \n",
       "2                 0                 0                 1                 0   \n",
       "3                 0                 1                 0                 0   \n",
       "4                 0                 0                 1                 0   \n",
       "\n",
       "   Spot_distr_C  Spot_distr_I  Spot_distr_O  Spot_distr_X  \n",
       "0             0             0             0             1  \n",
       "1             0             0             1             0  \n",
       "2             0             0             1             0  \n",
       "3             0             0             0             1  \n",
       "4             0             0             0             1  \n",
       "\n",
       "[5 rows x 26 columns]"
      ],
      "text/html": "<div>\n<style scoped>\n    .dataframe tbody tr th:only-of-type {\n        vertical-align: middle;\n    }\n\n    .dataframe tbody tr th {\n        vertical-align: top;\n    }\n\n    .dataframe thead th {\n        text-align: right;\n    }\n</style>\n<table border=\"1\" class=\"dataframe\">\n  <thead>\n    <tr style=\"text-align: right;\">\n      <th></th>\n      <th>Activity</th>\n      <th>Evolution</th>\n      <th>Prv 24h flare activity</th>\n      <th>Historically-complex</th>\n      <th>Complexixity change in sun's disk</th>\n      <th>Area</th>\n      <th>Largest Spot Area</th>\n      <th>C-Class</th>\n      <th>M-Class</th>\n      <th>X-Class</th>\n      <th>...</th>\n      <th>Larg_spot_size_A</th>\n      <th>Larg_spot_size_H</th>\n      <th>Larg_spot_size_K</th>\n      <th>Larg_spot_size_R</th>\n      <th>Larg_spot_size_S</th>\n      <th>Larg_spot_size_X</th>\n      <th>Spot_distr_C</th>\n      <th>Spot_distr_I</th>\n      <th>Spot_distr_O</th>\n      <th>Spot_distr_X</th>\n    </tr>\n  </thead>\n  <tbody>\n    <tr>\n      <th>0</th>\n      <td>1</td>\n      <td>3</td>\n      <td>1</td>\n      <td>1</td>\n      <td>1</td>\n      <td>1</td>\n      <td>1</td>\n      <td>0</td>\n      <td>0</td>\n      <td>0</td>\n      <td>...</td>\n      <td>1</td>\n      <td>0</td>\n      <td>0</td>\n      <td>0</td>\n      <td>0</td>\n      <td>0</td>\n      <td>0</td>\n      <td>0</td>\n      <td>0</td>\n      <td>1</td>\n    </tr>\n    <tr>\n      <th>1</th>\n      <td>1</td>\n      <td>3</td>\n      <td>1</td>\n      <td>1</td>\n      <td>2</td>\n      <td>1</td>\n      <td>1</td>\n      <td>0</td>\n      <td>0</td>\n      <td>0</td>\n      <td>...</td>\n      <td>0</td>\n      <td>0</td>\n      <td>0</td>\n      <td>1</td>\n      <td>0</td>\n      <td>0</td>\n      <td>0</td>\n      <td>0</td>\n      <td>1</td>\n      <td>0</td>\n    </tr>\n    <tr>\n      <th>2</th>\n      <td>1</td>\n      <td>3</td>\n      <td>1</td>\n      <td>1</td>\n      <td>2</td>\n      <td>1</td>\n      <td>1</td>\n      <td>0</td>\n      <td>0</td>\n      <td>0</td>\n      <td>...</td>\n      <td>0</td>\n      <td>0</td>\n      <td>0</td>\n      <td>0</td>\n      <td>1</td>\n      <td>0</td>\n      <td>0</td>\n      <td>0</td>\n      <td>1</td>\n      <td>0</td>\n    </tr>\n    <tr>\n      <th>3</th>\n      <td>1</td>\n      <td>2</td>\n      <td>1</td>\n      <td>1</td>\n      <td>1</td>\n      <td>1</td>\n      <td>1</td>\n      <td>0</td>\n      <td>0</td>\n      <td>0</td>\n      <td>...</td>\n      <td>0</td>\n      <td>0</td>\n      <td>0</td>\n      <td>1</td>\n      <td>0</td>\n      <td>0</td>\n      <td>0</td>\n      <td>0</td>\n      <td>0</td>\n      <td>1</td>\n    </tr>\n    <tr>\n      <th>4</th>\n      <td>1</td>\n      <td>1</td>\n      <td>1</td>\n      <td>1</td>\n      <td>2</td>\n      <td>1</td>\n      <td>1</td>\n      <td>0</td>\n      <td>0</td>\n      <td>0</td>\n      <td>...</td>\n      <td>0</td>\n      <td>0</td>\n      <td>0</td>\n      <td>0</td>\n      <td>1</td>\n      <td>0</td>\n      <td>0</td>\n      <td>0</td>\n      <td>0</td>\n      <td>1</td>\n    </tr>\n  </tbody>\n</table>\n<p>5 rows × 26 columns</p>\n</div>"
     },
     "metadata": {},
     "execution_count": 138
    }
   ],
   "source": [
    "Class = pd.get_dummies(data['Class'], prefix='Class')\n",
    "#print(Class.head())\n",
    "\n",
    "largSpotSize = pd.get_dummies(data['Largest spot size'], prefix='Larg_spot_size')\n",
    "#print(largSpotSize.head())\n",
    "\n",
    "spotDistr = pd.get_dummies(data['Spot distribution'], prefix='Spot_distr')\n",
    "#print(spotDistr.head())\n",
    "\n",
    "data_num = pd.concat([data,Class,largSpotSize,spotDistr], axis=1)\n",
    "data_num.drop(['Class', 'Largest spot size','Spot distribution' ],axis=1, inplace=True)\n",
    "\n",
    "data_num.head()"
   ]
  },
  {
   "cell_type": "markdown",
   "metadata": {},
   "source": [
    "# Centering and scaling\n",
    "Faça o centering and standard scaling para todos os atributos de entrada (convertidos para numéricos)"
   ]
  },
  {
   "cell_type": "code",
   "execution_count": 139,
   "metadata": {},
   "outputs": [],
   "source": [
    "#Separate input and output data\n",
    "output_data_columns = [\"C-Class\", \"M-Class\", \"X-Class\"]\n",
    "output_data_num = data_num.loc[:, output_data_columns]\n",
    "\n",
    "assert output_data_num.shape[1] == 3\n",
    "assert output_data_num.shape[0] == data_num.shape[0]\n",
    "assert set(output_data_columns).issubset(output_data_num)\n",
    "\n",
    "input_data_num = data_num.drop(output_data_columns, axis=1, inplace=False)\n",
    "\n",
    "assert input_data_num.shape[0] == data_num.shape[0]\n",
    "assert input_data_num.shape[1] == (data_num.shape[1]-3)\n",
    "assert not set(output_data_columns).issubset(input_data_num) \n",
    "\n"
   ]
  },
  {
   "cell_type": "code",
   "execution_count": 168,
   "metadata": {},
   "outputs": [],
   "source": [
    "from sklearn.preprocessing import StandardScaler\n",
    "\n",
    "data_scaled = DataFrame(StandardScaler().fit_transform(input_data_num), columns=input_data_num.columns)\n",
    "data_scaled.head()\n",
    "\n",
    "## Quick check of mean and std\n",
    "assert  np.mean(data_scaled.Area)     < 1e-15\n",
    "assert (np.std(data_scaled.Area) - 1) < 1e-15\n",
    "\n"
   ]
  },
  {
   "cell_type": "code",
   "execution_count": 167,
   "metadata": {},
   "outputs": [
    {
     "output_type": "stream",
     "name": "stdout",
     "text": [
      "Index(['Activity', 'Evolution', 'Prv 24h flare activity',\n       'Historically-complex', 'Complexixity change in sun's disk', 'Area',\n       'Largest Spot Area', 'Class_B', 'Class_C', 'Class_D', 'Class_E',\n       'Class_F', 'Class_H', 'Larg_spot_size_A', 'Larg_spot_size_H',\n       'Larg_spot_size_K', 'Larg_spot_size_R', 'Larg_spot_size_S',\n       'Larg_spot_size_X', 'Spot_distr_C', 'Spot_distr_I', 'Spot_distr_O',\n       'Spot_distr_X'],\n      dtype='object')\n"
     ]
    }
   ],
   "source": [
    "print(data_scaled.columns)"
   ]
  },
  {
   "source": [
    "# PCA\n",
    "Reduza a dimensionalidade dos atributos de entrada usando PCA.\n",
    "\n",
    "## Quantas dimensões restarão se mantivermos 90% da variância dos dados?\n",
    "\n"
   ],
   "cell_type": "markdown",
   "metadata": {}
  },
  {
   "cell_type": "code",
   "execution_count": 169,
   "metadata": {},
   "outputs": [],
   "source": [
    "from sklearn.decomposition import PCA\n",
    "\n",
    "pca = PCA().fit(data_scaled)\n",
    "\n",
    "variance_cum_sum = np.cumsum(pca.explained_variance_ratio_)\n"
   ]
  },
  {
   "cell_type": "code",
   "execution_count": 210,
   "metadata": {},
   "outputs": [
    {
     "output_type": "stream",
     "name": "stdout",
     "text": [
      "Restarão 12 dimensões se mantivermos 90% da variância\n[0.89148517 0.91693329]\n"
     ]
    }
   ],
   "source": [
    "variance_until_90 = variance_cum_sum[variance_cum_sum<=0.90]\n",
    "n_dim = variance_until_90.size\n",
    "print(\"Restarão {} dimensões se mantivermos 90% da variância\".format(n_dim))\n",
    "\n",
    "## Testing:\n",
    "# Cumulative sum after n elements (0:n-1)  <= 90%\n",
    "assert (variance_cum_sum[n_dim-1] < 0.9)\n",
    "\n",
    "# Cumulative after n+1 elements (0-n) should be >= 90%\n",
    "assert(variance_cum_sum[n_dim] > 0.9)\n",
    "\n",
    "print(variance_cum_sum[n_dim-1:n_dim+1])\n",
    "\n",
    "# Total is 1\n",
    "assert variance_cum_sum[variance_cum_sum.size-1] - 1 < 1e-15"
   ]
  },
  {
   "source": [
    "## Use o _Scree Plot_ para determinar quantas dimensões devem ser mantidas"
   ],
   "cell_type": "markdown",
   "metadata": {}
  },
  {
   "cell_type": "code",
   "execution_count": 176,
   "metadata": {},
   "outputs": [
    {
     "output_type": "display_data",
     "data": {
      "text/plain": "<Figure size 432x288 with 1 Axes>",
      "image/svg+xml": "<?xml version=\"1.0\" encoding=\"utf-8\" standalone=\"no\"?>\n<!DOCTYPE svg PUBLIC \"-//W3C//DTD SVG 1.1//EN\"\n  \"http://www.w3.org/Graphics/SVG/1.1/DTD/svg11.dtd\">\n<svg height=\"277.314375pt\" version=\"1.1\" viewBox=\"0 0 392.14375 277.314375\" width=\"392.14375pt\" xmlns=\"http://www.w3.org/2000/svg\" xmlns:xlink=\"http://www.w3.org/1999/xlink\">\n <metadata>\n  <rdf:RDF xmlns:cc=\"http://creativecommons.org/ns#\" xmlns:dc=\"http://purl.org/dc/elements/1.1/\" xmlns:rdf=\"http://www.w3.org/1999/02/22-rdf-syntax-ns#\">\n   <cc:Work>\n    <dc:type rdf:resource=\"http://purl.org/dc/dcmitype/StillImage\"/>\n    <dc:date>2021-05-29T16:24:31.870820</dc:date>\n    <dc:format>image/svg+xml</dc:format>\n    <dc:creator>\n     <cc:Agent>\n      <dc:title>Matplotlib v3.4.2, https://matplotlib.org/</dc:title>\n     </cc:Agent>\n    </dc:creator>\n   </cc:Work>\n  </rdf:RDF>\n </metadata>\n <defs>\n  <style type=\"text/css\">*{stroke-linecap:butt;stroke-linejoin:round;}</style>\n </defs>\n <g id=\"figure_1\">\n  <g id=\"patch_1\">\n   <path d=\"M -0 277.314375 \nL 392.14375 277.314375 \nL 392.14375 0 \nL -0 0 \nz\n\" style=\"fill:none;\"/>\n  </g>\n  <g id=\"axes_1\">\n   <g id=\"patch_2\">\n    <path d=\"M 50.14375 239.758125 \nL 384.94375 239.758125 \nL 384.94375 22.318125 \nL 50.14375 22.318125 \nz\n\" style=\"fill:#ffffff;\"/>\n   </g>\n   <g id=\"matplotlib.axis_1\">\n    <g id=\"xtick_1\">\n     <g id=\"line2d_1\">\n      <defs>\n       <path d=\"M 0 0 \nL 0 3.5 \n\" id=\"m67667acac3\" style=\"stroke:#000000;stroke-width:0.8;\"/>\n      </defs>\n      <g>\n       <use style=\"stroke:#000000;stroke-width:0.8;\" x=\"65.361932\" xlink:href=\"#m67667acac3\" y=\"239.758125\"/>\n      </g>\n     </g>\n     <g id=\"text_1\">\n      <!-- 0 -->\n      <g transform=\"translate(62.180682 254.356562)scale(0.1 -0.1)\">\n       <defs>\n        <path d=\"M 2034 4250 \nQ 1547 4250 1301 3770 \nQ 1056 3291 1056 2328 \nQ 1056 1369 1301 889 \nQ 1547 409 2034 409 \nQ 2525 409 2770 889 \nQ 3016 1369 3016 2328 \nQ 3016 3291 2770 3770 \nQ 2525 4250 2034 4250 \nz\nM 2034 4750 \nQ 2819 4750 3233 4129 \nQ 3647 3509 3647 2328 \nQ 3647 1150 3233 529 \nQ 2819 -91 2034 -91 \nQ 1250 -91 836 529 \nQ 422 1150 422 2328 \nQ 422 3509 836 4129 \nQ 1250 4750 2034 4750 \nz\n\" id=\"DejaVuSans-30\" transform=\"scale(0.015625)\"/>\n       </defs>\n       <use xlink:href=\"#DejaVuSans-30\"/>\n      </g>\n     </g>\n    </g>\n    <g id=\"xtick_2\">\n     <g id=\"line2d_2\">\n      <g>\n       <use style=\"stroke:#000000;stroke-width:0.8;\" x=\"134.535486\" xlink:href=\"#m67667acac3\" y=\"239.758125\"/>\n      </g>\n     </g>\n     <g id=\"text_2\">\n      <!-- 5 -->\n      <g transform=\"translate(131.354236 254.356562)scale(0.1 -0.1)\">\n       <defs>\n        <path d=\"M 691 4666 \nL 3169 4666 \nL 3169 4134 \nL 1269 4134 \nL 1269 2991 \nQ 1406 3038 1543 3061 \nQ 1681 3084 1819 3084 \nQ 2600 3084 3056 2656 \nQ 3513 2228 3513 1497 \nQ 3513 744 3044 326 \nQ 2575 -91 1722 -91 \nQ 1428 -91 1123 -41 \nQ 819 9 494 109 \nL 494 744 \nQ 775 591 1075 516 \nQ 1375 441 1709 441 \nQ 2250 441 2565 725 \nQ 2881 1009 2881 1497 \nQ 2881 1984 2565 2268 \nQ 2250 2553 1709 2553 \nQ 1456 2553 1204 2497 \nQ 953 2441 691 2322 \nL 691 4666 \nz\n\" id=\"DejaVuSans-35\" transform=\"scale(0.015625)\"/>\n       </defs>\n       <use xlink:href=\"#DejaVuSans-35\"/>\n      </g>\n     </g>\n    </g>\n    <g id=\"xtick_3\">\n     <g id=\"line2d_3\">\n      <g>\n       <use style=\"stroke:#000000;stroke-width:0.8;\" x=\"203.709039\" xlink:href=\"#m67667acac3\" y=\"239.758125\"/>\n      </g>\n     </g>\n     <g id=\"text_3\">\n      <!-- 10 -->\n      <g transform=\"translate(197.346539 254.356562)scale(0.1 -0.1)\">\n       <defs>\n        <path d=\"M 794 531 \nL 1825 531 \nL 1825 4091 \nL 703 3866 \nL 703 4441 \nL 1819 4666 \nL 2450 4666 \nL 2450 531 \nL 3481 531 \nL 3481 0 \nL 794 0 \nL 794 531 \nz\n\" id=\"DejaVuSans-31\" transform=\"scale(0.015625)\"/>\n       </defs>\n       <use xlink:href=\"#DejaVuSans-31\"/>\n       <use x=\"63.623047\" xlink:href=\"#DejaVuSans-30\"/>\n      </g>\n     </g>\n    </g>\n    <g id=\"xtick_4\">\n     <g id=\"line2d_4\">\n      <g>\n       <use style=\"stroke:#000000;stroke-width:0.8;\" x=\"272.882593\" xlink:href=\"#m67667acac3\" y=\"239.758125\"/>\n      </g>\n     </g>\n     <g id=\"text_4\">\n      <!-- 15 -->\n      <g transform=\"translate(266.520093 254.356562)scale(0.1 -0.1)\">\n       <use xlink:href=\"#DejaVuSans-31\"/>\n       <use x=\"63.623047\" xlink:href=\"#DejaVuSans-35\"/>\n      </g>\n     </g>\n    </g>\n    <g id=\"xtick_5\">\n     <g id=\"line2d_5\">\n      <g>\n       <use style=\"stroke:#000000;stroke-width:0.8;\" x=\"342.056147\" xlink:href=\"#m67667acac3\" y=\"239.758125\"/>\n      </g>\n     </g>\n     <g id=\"text_5\">\n      <!-- 20 -->\n      <g transform=\"translate(335.693647 254.356562)scale(0.1 -0.1)\">\n       <defs>\n        <path d=\"M 1228 531 \nL 3431 531 \nL 3431 0 \nL 469 0 \nL 469 531 \nQ 828 903 1448 1529 \nQ 2069 2156 2228 2338 \nQ 2531 2678 2651 2914 \nQ 2772 3150 2772 3378 \nQ 2772 3750 2511 3984 \nQ 2250 4219 1831 4219 \nQ 1534 4219 1204 4116 \nQ 875 4013 500 3803 \nL 500 4441 \nQ 881 4594 1212 4672 \nQ 1544 4750 1819 4750 \nQ 2544 4750 2975 4387 \nQ 3406 4025 3406 3419 \nQ 3406 3131 3298 2873 \nQ 3191 2616 2906 2266 \nQ 2828 2175 2409 1742 \nQ 1991 1309 1228 531 \nz\n\" id=\"DejaVuSans-32\" transform=\"scale(0.015625)\"/>\n       </defs>\n       <use xlink:href=\"#DejaVuSans-32\"/>\n       <use x=\"63.623047\" xlink:href=\"#DejaVuSans-30\"/>\n      </g>\n     </g>\n    </g>\n    <g id=\"text_6\">\n     <!-- number of components -->\n     <g transform=\"translate(159.140625 268.034687)scale(0.1 -0.1)\">\n      <defs>\n       <path d=\"M 3513 2113 \nL 3513 0 \nL 2938 0 \nL 2938 2094 \nQ 2938 2591 2744 2837 \nQ 2550 3084 2163 3084 \nQ 1697 3084 1428 2787 \nQ 1159 2491 1159 1978 \nL 1159 0 \nL 581 0 \nL 581 3500 \nL 1159 3500 \nL 1159 2956 \nQ 1366 3272 1645 3428 \nQ 1925 3584 2291 3584 \nQ 2894 3584 3203 3211 \nQ 3513 2838 3513 2113 \nz\n\" id=\"DejaVuSans-6e\" transform=\"scale(0.015625)\"/>\n       <path d=\"M 544 1381 \nL 544 3500 \nL 1119 3500 \nL 1119 1403 \nQ 1119 906 1312 657 \nQ 1506 409 1894 409 \nQ 2359 409 2629 706 \nQ 2900 1003 2900 1516 \nL 2900 3500 \nL 3475 3500 \nL 3475 0 \nL 2900 0 \nL 2900 538 \nQ 2691 219 2414 64 \nQ 2138 -91 1772 -91 \nQ 1169 -91 856 284 \nQ 544 659 544 1381 \nz\nM 1991 3584 \nL 1991 3584 \nz\n\" id=\"DejaVuSans-75\" transform=\"scale(0.015625)\"/>\n       <path d=\"M 3328 2828 \nQ 3544 3216 3844 3400 \nQ 4144 3584 4550 3584 \nQ 5097 3584 5394 3201 \nQ 5691 2819 5691 2113 \nL 5691 0 \nL 5113 0 \nL 5113 2094 \nQ 5113 2597 4934 2840 \nQ 4756 3084 4391 3084 \nQ 3944 3084 3684 2787 \nQ 3425 2491 3425 1978 \nL 3425 0 \nL 2847 0 \nL 2847 2094 \nQ 2847 2600 2669 2842 \nQ 2491 3084 2119 3084 \nQ 1678 3084 1418 2786 \nQ 1159 2488 1159 1978 \nL 1159 0 \nL 581 0 \nL 581 3500 \nL 1159 3500 \nL 1159 2956 \nQ 1356 3278 1631 3431 \nQ 1906 3584 2284 3584 \nQ 2666 3584 2933 3390 \nQ 3200 3197 3328 2828 \nz\n\" id=\"DejaVuSans-6d\" transform=\"scale(0.015625)\"/>\n       <path d=\"M 3116 1747 \nQ 3116 2381 2855 2742 \nQ 2594 3103 2138 3103 \nQ 1681 3103 1420 2742 \nQ 1159 2381 1159 1747 \nQ 1159 1113 1420 752 \nQ 1681 391 2138 391 \nQ 2594 391 2855 752 \nQ 3116 1113 3116 1747 \nz\nM 1159 2969 \nQ 1341 3281 1617 3432 \nQ 1894 3584 2278 3584 \nQ 2916 3584 3314 3078 \nQ 3713 2572 3713 1747 \nQ 3713 922 3314 415 \nQ 2916 -91 2278 -91 \nQ 1894 -91 1617 61 \nQ 1341 213 1159 525 \nL 1159 0 \nL 581 0 \nL 581 4863 \nL 1159 4863 \nL 1159 2969 \nz\n\" id=\"DejaVuSans-62\" transform=\"scale(0.015625)\"/>\n       <path d=\"M 3597 1894 \nL 3597 1613 \nL 953 1613 \nQ 991 1019 1311 708 \nQ 1631 397 2203 397 \nQ 2534 397 2845 478 \nQ 3156 559 3463 722 \nL 3463 178 \nQ 3153 47 2828 -22 \nQ 2503 -91 2169 -91 \nQ 1331 -91 842 396 \nQ 353 884 353 1716 \nQ 353 2575 817 3079 \nQ 1281 3584 2069 3584 \nQ 2775 3584 3186 3129 \nQ 3597 2675 3597 1894 \nz\nM 3022 2063 \nQ 3016 2534 2758 2815 \nQ 2500 3097 2075 3097 \nQ 1594 3097 1305 2825 \nQ 1016 2553 972 2059 \nL 3022 2063 \nz\n\" id=\"DejaVuSans-65\" transform=\"scale(0.015625)\"/>\n       <path d=\"M 2631 2963 \nQ 2534 3019 2420 3045 \nQ 2306 3072 2169 3072 \nQ 1681 3072 1420 2755 \nQ 1159 2438 1159 1844 \nL 1159 0 \nL 581 0 \nL 581 3500 \nL 1159 3500 \nL 1159 2956 \nQ 1341 3275 1631 3429 \nQ 1922 3584 2338 3584 \nQ 2397 3584 2469 3576 \nQ 2541 3569 2628 3553 \nL 2631 2963 \nz\n\" id=\"DejaVuSans-72\" transform=\"scale(0.015625)\"/>\n       <path id=\"DejaVuSans-20\" transform=\"scale(0.015625)\"/>\n       <path d=\"M 1959 3097 \nQ 1497 3097 1228 2736 \nQ 959 2375 959 1747 \nQ 959 1119 1226 758 \nQ 1494 397 1959 397 \nQ 2419 397 2687 759 \nQ 2956 1122 2956 1747 \nQ 2956 2369 2687 2733 \nQ 2419 3097 1959 3097 \nz\nM 1959 3584 \nQ 2709 3584 3137 3096 \nQ 3566 2609 3566 1747 \nQ 3566 888 3137 398 \nQ 2709 -91 1959 -91 \nQ 1206 -91 779 398 \nQ 353 888 353 1747 \nQ 353 2609 779 3096 \nQ 1206 3584 1959 3584 \nz\n\" id=\"DejaVuSans-6f\" transform=\"scale(0.015625)\"/>\n       <path d=\"M 2375 4863 \nL 2375 4384 \nL 1825 4384 \nQ 1516 4384 1395 4259 \nQ 1275 4134 1275 3809 \nL 1275 3500 \nL 2222 3500 \nL 2222 3053 \nL 1275 3053 \nL 1275 0 \nL 697 0 \nL 697 3053 \nL 147 3053 \nL 147 3500 \nL 697 3500 \nL 697 3744 \nQ 697 4328 969 4595 \nQ 1241 4863 1831 4863 \nL 2375 4863 \nz\n\" id=\"DejaVuSans-66\" transform=\"scale(0.015625)\"/>\n       <path d=\"M 3122 3366 \nL 3122 2828 \nQ 2878 2963 2633 3030 \nQ 2388 3097 2138 3097 \nQ 1578 3097 1268 2742 \nQ 959 2388 959 1747 \nQ 959 1106 1268 751 \nQ 1578 397 2138 397 \nQ 2388 397 2633 464 \nQ 2878 531 3122 666 \nL 3122 134 \nQ 2881 22 2623 -34 \nQ 2366 -91 2075 -91 \nQ 1284 -91 818 406 \nQ 353 903 353 1747 \nQ 353 2603 823 3093 \nQ 1294 3584 2113 3584 \nQ 2378 3584 2631 3529 \nQ 2884 3475 3122 3366 \nz\n\" id=\"DejaVuSans-63\" transform=\"scale(0.015625)\"/>\n       <path d=\"M 1159 525 \nL 1159 -1331 \nL 581 -1331 \nL 581 3500 \nL 1159 3500 \nL 1159 2969 \nQ 1341 3281 1617 3432 \nQ 1894 3584 2278 3584 \nQ 2916 3584 3314 3078 \nQ 3713 2572 3713 1747 \nQ 3713 922 3314 415 \nQ 2916 -91 2278 -91 \nQ 1894 -91 1617 61 \nQ 1341 213 1159 525 \nz\nM 3116 1747 \nQ 3116 2381 2855 2742 \nQ 2594 3103 2138 3103 \nQ 1681 3103 1420 2742 \nQ 1159 2381 1159 1747 \nQ 1159 1113 1420 752 \nQ 1681 391 2138 391 \nQ 2594 391 2855 752 \nQ 3116 1113 3116 1747 \nz\n\" id=\"DejaVuSans-70\" transform=\"scale(0.015625)\"/>\n       <path d=\"M 1172 4494 \nL 1172 3500 \nL 2356 3500 \nL 2356 3053 \nL 1172 3053 \nL 1172 1153 \nQ 1172 725 1289 603 \nQ 1406 481 1766 481 \nL 2356 481 \nL 2356 0 \nL 1766 0 \nQ 1100 0 847 248 \nQ 594 497 594 1153 \nL 594 3053 \nL 172 3053 \nL 172 3500 \nL 594 3500 \nL 594 4494 \nL 1172 4494 \nz\n\" id=\"DejaVuSans-74\" transform=\"scale(0.015625)\"/>\n       <path d=\"M 2834 3397 \nL 2834 2853 \nQ 2591 2978 2328 3040 \nQ 2066 3103 1784 3103 \nQ 1356 3103 1142 2972 \nQ 928 2841 928 2578 \nQ 928 2378 1081 2264 \nQ 1234 2150 1697 2047 \nL 1894 2003 \nQ 2506 1872 2764 1633 \nQ 3022 1394 3022 966 \nQ 3022 478 2636 193 \nQ 2250 -91 1575 -91 \nQ 1294 -91 989 -36 \nQ 684 19 347 128 \nL 347 722 \nQ 666 556 975 473 \nQ 1284 391 1588 391 \nQ 1994 391 2212 530 \nQ 2431 669 2431 922 \nQ 2431 1156 2273 1281 \nQ 2116 1406 1581 1522 \nL 1381 1569 \nQ 847 1681 609 1914 \nQ 372 2147 372 2553 \nQ 372 3047 722 3315 \nQ 1072 3584 1716 3584 \nQ 2034 3584 2315 3537 \nQ 2597 3491 2834 3397 \nz\n\" id=\"DejaVuSans-73\" transform=\"scale(0.015625)\"/>\n      </defs>\n      <use xlink:href=\"#DejaVuSans-6e\"/>\n      <use x=\"63.378906\" xlink:href=\"#DejaVuSans-75\"/>\n      <use x=\"126.757812\" xlink:href=\"#DejaVuSans-6d\"/>\n      <use x=\"224.169922\" xlink:href=\"#DejaVuSans-62\"/>\n      <use x=\"287.646484\" xlink:href=\"#DejaVuSans-65\"/>\n      <use x=\"349.169922\" xlink:href=\"#DejaVuSans-72\"/>\n      <use x=\"390.283203\" xlink:href=\"#DejaVuSans-20\"/>\n      <use x=\"422.070312\" xlink:href=\"#DejaVuSans-6f\"/>\n      <use x=\"483.251953\" xlink:href=\"#DejaVuSans-66\"/>\n      <use x=\"518.457031\" xlink:href=\"#DejaVuSans-20\"/>\n      <use x=\"550.244141\" xlink:href=\"#DejaVuSans-63\"/>\n      <use x=\"605.224609\" xlink:href=\"#DejaVuSans-6f\"/>\n      <use x=\"666.40625\" xlink:href=\"#DejaVuSans-6d\"/>\n      <use x=\"763.818359\" xlink:href=\"#DejaVuSans-70\"/>\n      <use x=\"827.294922\" xlink:href=\"#DejaVuSans-6f\"/>\n      <use x=\"888.476562\" xlink:href=\"#DejaVuSans-6e\"/>\n      <use x=\"951.855469\" xlink:href=\"#DejaVuSans-65\"/>\n      <use x=\"1013.378906\" xlink:href=\"#DejaVuSans-6e\"/>\n      <use x=\"1076.757812\" xlink:href=\"#DejaVuSans-74\"/>\n      <use x=\"1115.966797\" xlink:href=\"#DejaVuSans-73\"/>\n     </g>\n    </g>\n   </g>\n   <g id=\"matplotlib.axis_2\">\n    <g id=\"ytick_1\">\n     <g id=\"line2d_6\">\n      <defs>\n       <path d=\"M 0 0 \nL -3.5 0 \n\" id=\"m189f866948\" style=\"stroke:#000000;stroke-width:0.8;\"/>\n      </defs>\n      <g>\n       <use style=\"stroke:#000000;stroke-width:0.8;\" x=\"50.14375\" xlink:href=\"#m189f866948\" y=\"229.874489\"/>\n      </g>\n     </g>\n     <g id=\"text_7\">\n      <!-- 0.0 -->\n      <g transform=\"translate(27.240625 233.673707)scale(0.1 -0.1)\">\n       <defs>\n        <path d=\"M 684 794 \nL 1344 794 \nL 1344 0 \nL 684 0 \nL 684 794 \nz\n\" id=\"DejaVuSans-2e\" transform=\"scale(0.015625)\"/>\n       </defs>\n       <use xlink:href=\"#DejaVuSans-30\"/>\n       <use x=\"63.623047\" xlink:href=\"#DejaVuSans-2e\"/>\n       <use x=\"95.410156\" xlink:href=\"#DejaVuSans-30\"/>\n      </g>\n     </g>\n    </g>\n    <g id=\"ytick_2\">\n     <g id=\"line2d_7\">\n      <g>\n       <use style=\"stroke:#000000;stroke-width:0.8;\" x=\"50.14375\" xlink:href=\"#m189f866948\" y=\"202.256191\"/>\n      </g>\n     </g>\n     <g id=\"text_8\">\n      <!-- 2.5 -->\n      <g transform=\"translate(27.240625 206.055409)scale(0.1 -0.1)\">\n       <use xlink:href=\"#DejaVuSans-32\"/>\n       <use x=\"63.623047\" xlink:href=\"#DejaVuSans-2e\"/>\n       <use x=\"95.410156\" xlink:href=\"#DejaVuSans-35\"/>\n      </g>\n     </g>\n    </g>\n    <g id=\"ytick_3\">\n     <g id=\"line2d_8\">\n      <g>\n       <use style=\"stroke:#000000;stroke-width:0.8;\" x=\"50.14375\" xlink:href=\"#m189f866948\" y=\"174.637893\"/>\n      </g>\n     </g>\n     <g id=\"text_9\">\n      <!-- 5.0 -->\n      <g transform=\"translate(27.240625 178.437112)scale(0.1 -0.1)\">\n       <use xlink:href=\"#DejaVuSans-35\"/>\n       <use x=\"63.623047\" xlink:href=\"#DejaVuSans-2e\"/>\n       <use x=\"95.410156\" xlink:href=\"#DejaVuSans-30\"/>\n      </g>\n     </g>\n    </g>\n    <g id=\"ytick_4\">\n     <g id=\"line2d_9\">\n      <g>\n       <use style=\"stroke:#000000;stroke-width:0.8;\" x=\"50.14375\" xlink:href=\"#m189f866948\" y=\"147.019595\"/>\n      </g>\n     </g>\n     <g id=\"text_10\">\n      <!-- 7.5 -->\n      <g transform=\"translate(27.240625 150.818814)scale(0.1 -0.1)\">\n       <defs>\n        <path d=\"M 525 4666 \nL 3525 4666 \nL 3525 4397 \nL 1831 0 \nL 1172 0 \nL 2766 4134 \nL 525 4134 \nL 525 4666 \nz\n\" id=\"DejaVuSans-37\" transform=\"scale(0.015625)\"/>\n       </defs>\n       <use xlink:href=\"#DejaVuSans-37\"/>\n       <use x=\"63.623047\" xlink:href=\"#DejaVuSans-2e\"/>\n       <use x=\"95.410156\" xlink:href=\"#DejaVuSans-35\"/>\n      </g>\n     </g>\n    </g>\n    <g id=\"ytick_5\">\n     <g id=\"line2d_10\">\n      <g>\n       <use style=\"stroke:#000000;stroke-width:0.8;\" x=\"50.14375\" xlink:href=\"#m189f866948\" y=\"119.401297\"/>\n      </g>\n     </g>\n     <g id=\"text_11\">\n      <!-- 10.0 -->\n      <g transform=\"translate(20.878125 123.200516)scale(0.1 -0.1)\">\n       <use xlink:href=\"#DejaVuSans-31\"/>\n       <use x=\"63.623047\" xlink:href=\"#DejaVuSans-30\"/>\n       <use x=\"127.246094\" xlink:href=\"#DejaVuSans-2e\"/>\n       <use x=\"159.033203\" xlink:href=\"#DejaVuSans-30\"/>\n      </g>\n     </g>\n    </g>\n    <g id=\"ytick_6\">\n     <g id=\"line2d_11\">\n      <g>\n       <use style=\"stroke:#000000;stroke-width:0.8;\" x=\"50.14375\" xlink:href=\"#m189f866948\" y=\"91.782999\"/>\n      </g>\n     </g>\n     <g id=\"text_12\">\n      <!-- 12.5 -->\n      <g transform=\"translate(20.878125 95.582218)scale(0.1 -0.1)\">\n       <use xlink:href=\"#DejaVuSans-31\"/>\n       <use x=\"63.623047\" xlink:href=\"#DejaVuSans-32\"/>\n       <use x=\"127.246094\" xlink:href=\"#DejaVuSans-2e\"/>\n       <use x=\"159.033203\" xlink:href=\"#DejaVuSans-35\"/>\n      </g>\n     </g>\n    </g>\n    <g id=\"ytick_7\">\n     <g id=\"line2d_12\">\n      <g>\n       <use style=\"stroke:#000000;stroke-width:0.8;\" x=\"50.14375\" xlink:href=\"#m189f866948\" y=\"64.164701\"/>\n      </g>\n     </g>\n     <g id=\"text_13\">\n      <!-- 15.0 -->\n      <g transform=\"translate(20.878125 67.96392)scale(0.1 -0.1)\">\n       <use xlink:href=\"#DejaVuSans-31\"/>\n       <use x=\"63.623047\" xlink:href=\"#DejaVuSans-35\"/>\n       <use x=\"127.246094\" xlink:href=\"#DejaVuSans-2e\"/>\n       <use x=\"159.033203\" xlink:href=\"#DejaVuSans-30\"/>\n      </g>\n     </g>\n    </g>\n    <g id=\"ytick_8\">\n     <g id=\"line2d_13\">\n      <g>\n       <use style=\"stroke:#000000;stroke-width:0.8;\" x=\"50.14375\" xlink:href=\"#m189f866948\" y=\"36.546403\"/>\n      </g>\n     </g>\n     <g id=\"text_14\">\n      <!-- 17.5 -->\n      <g transform=\"translate(20.878125 40.345622)scale(0.1 -0.1)\">\n       <use xlink:href=\"#DejaVuSans-31\"/>\n       <use x=\"63.623047\" xlink:href=\"#DejaVuSans-37\"/>\n       <use x=\"127.246094\" xlink:href=\"#DejaVuSans-2e\"/>\n       <use x=\"159.033203\" xlink:href=\"#DejaVuSans-35\"/>\n      </g>\n     </g>\n    </g>\n    <g id=\"text_15\">\n     <!-- Percentage explained variance -->\n     <g transform=\"translate(14.798438 208.249844)rotate(-90)scale(0.1 -0.1)\">\n      <defs>\n       <path d=\"M 1259 4147 \nL 1259 2394 \nL 2053 2394 \nQ 2494 2394 2734 2622 \nQ 2975 2850 2975 3272 \nQ 2975 3691 2734 3919 \nQ 2494 4147 2053 4147 \nL 1259 4147 \nz\nM 628 4666 \nL 2053 4666 \nQ 2838 4666 3239 4311 \nQ 3641 3956 3641 3272 \nQ 3641 2581 3239 2228 \nQ 2838 1875 2053 1875 \nL 1259 1875 \nL 1259 0 \nL 628 0 \nL 628 4666 \nz\n\" id=\"DejaVuSans-50\" transform=\"scale(0.015625)\"/>\n       <path d=\"M 2194 1759 \nQ 1497 1759 1228 1600 \nQ 959 1441 959 1056 \nQ 959 750 1161 570 \nQ 1363 391 1709 391 \nQ 2188 391 2477 730 \nQ 2766 1069 2766 1631 \nL 2766 1759 \nL 2194 1759 \nz\nM 3341 1997 \nL 3341 0 \nL 2766 0 \nL 2766 531 \nQ 2569 213 2275 61 \nQ 1981 -91 1556 -91 \nQ 1019 -91 701 211 \nQ 384 513 384 1019 \nQ 384 1609 779 1909 \nQ 1175 2209 1959 2209 \nL 2766 2209 \nL 2766 2266 \nQ 2766 2663 2505 2880 \nQ 2244 3097 1772 3097 \nQ 1472 3097 1187 3025 \nQ 903 2953 641 2809 \nL 641 3341 \nQ 956 3463 1253 3523 \nQ 1550 3584 1831 3584 \nQ 2591 3584 2966 3190 \nQ 3341 2797 3341 1997 \nz\n\" id=\"DejaVuSans-61\" transform=\"scale(0.015625)\"/>\n       <path d=\"M 2906 1791 \nQ 2906 2416 2648 2759 \nQ 2391 3103 1925 3103 \nQ 1463 3103 1205 2759 \nQ 947 2416 947 1791 \nQ 947 1169 1205 825 \nQ 1463 481 1925 481 \nQ 2391 481 2648 825 \nQ 2906 1169 2906 1791 \nz\nM 3481 434 \nQ 3481 -459 3084 -895 \nQ 2688 -1331 1869 -1331 \nQ 1566 -1331 1297 -1286 \nQ 1028 -1241 775 -1147 \nL 775 -588 \nQ 1028 -725 1275 -790 \nQ 1522 -856 1778 -856 \nQ 2344 -856 2625 -561 \nQ 2906 -266 2906 331 \nL 2906 616 \nQ 2728 306 2450 153 \nQ 2172 0 1784 0 \nQ 1141 0 747 490 \nQ 353 981 353 1791 \nQ 353 2603 747 3093 \nQ 1141 3584 1784 3584 \nQ 2172 3584 2450 3431 \nQ 2728 3278 2906 2969 \nL 2906 3500 \nL 3481 3500 \nL 3481 434 \nz\n\" id=\"DejaVuSans-67\" transform=\"scale(0.015625)\"/>\n       <path d=\"M 3513 3500 \nL 2247 1797 \nL 3578 0 \nL 2900 0 \nL 1881 1375 \nL 863 0 \nL 184 0 \nL 1544 1831 \nL 300 3500 \nL 978 3500 \nL 1906 2253 \nL 2834 3500 \nL 3513 3500 \nz\n\" id=\"DejaVuSans-78\" transform=\"scale(0.015625)\"/>\n       <path d=\"M 603 4863 \nL 1178 4863 \nL 1178 0 \nL 603 0 \nL 603 4863 \nz\n\" id=\"DejaVuSans-6c\" transform=\"scale(0.015625)\"/>\n       <path d=\"M 603 3500 \nL 1178 3500 \nL 1178 0 \nL 603 0 \nL 603 3500 \nz\nM 603 4863 \nL 1178 4863 \nL 1178 4134 \nL 603 4134 \nL 603 4863 \nz\n\" id=\"DejaVuSans-69\" transform=\"scale(0.015625)\"/>\n       <path d=\"M 2906 2969 \nL 2906 4863 \nL 3481 4863 \nL 3481 0 \nL 2906 0 \nL 2906 525 \nQ 2725 213 2448 61 \nQ 2172 -91 1784 -91 \nQ 1150 -91 751 415 \nQ 353 922 353 1747 \nQ 353 2572 751 3078 \nQ 1150 3584 1784 3584 \nQ 2172 3584 2448 3432 \nQ 2725 3281 2906 2969 \nz\nM 947 1747 \nQ 947 1113 1208 752 \nQ 1469 391 1925 391 \nQ 2381 391 2643 752 \nQ 2906 1113 2906 1747 \nQ 2906 2381 2643 2742 \nQ 2381 3103 1925 3103 \nQ 1469 3103 1208 2742 \nQ 947 2381 947 1747 \nz\n\" id=\"DejaVuSans-64\" transform=\"scale(0.015625)\"/>\n       <path d=\"M 191 3500 \nL 800 3500 \nL 1894 563 \nL 2988 3500 \nL 3597 3500 \nL 2284 0 \nL 1503 0 \nL 191 3500 \nz\n\" id=\"DejaVuSans-76\" transform=\"scale(0.015625)\"/>\n      </defs>\n      <use xlink:href=\"#DejaVuSans-50\"/>\n      <use x=\"56.677734\" xlink:href=\"#DejaVuSans-65\"/>\n      <use x=\"118.201172\" xlink:href=\"#DejaVuSans-72\"/>\n      <use x=\"157.064453\" xlink:href=\"#DejaVuSans-63\"/>\n      <use x=\"212.044922\" xlink:href=\"#DejaVuSans-65\"/>\n      <use x=\"273.568359\" xlink:href=\"#DejaVuSans-6e\"/>\n      <use x=\"336.947266\" xlink:href=\"#DejaVuSans-74\"/>\n      <use x=\"376.15625\" xlink:href=\"#DejaVuSans-61\"/>\n      <use x=\"437.435547\" xlink:href=\"#DejaVuSans-67\"/>\n      <use x=\"500.912109\" xlink:href=\"#DejaVuSans-65\"/>\n      <use x=\"562.435547\" xlink:href=\"#DejaVuSans-20\"/>\n      <use x=\"594.222656\" xlink:href=\"#DejaVuSans-65\"/>\n      <use x=\"653.996094\" xlink:href=\"#DejaVuSans-78\"/>\n      <use x=\"713.175781\" xlink:href=\"#DejaVuSans-70\"/>\n      <use x=\"776.652344\" xlink:href=\"#DejaVuSans-6c\"/>\n      <use x=\"804.435547\" xlink:href=\"#DejaVuSans-61\"/>\n      <use x=\"865.714844\" xlink:href=\"#DejaVuSans-69\"/>\n      <use x=\"893.498047\" xlink:href=\"#DejaVuSans-6e\"/>\n      <use x=\"956.876953\" xlink:href=\"#DejaVuSans-65\"/>\n      <use x=\"1018.400391\" xlink:href=\"#DejaVuSans-64\"/>\n      <use x=\"1081.876953\" xlink:href=\"#DejaVuSans-20\"/>\n      <use x=\"1113.664062\" xlink:href=\"#DejaVuSans-76\"/>\n      <use x=\"1172.84375\" xlink:href=\"#DejaVuSans-61\"/>\n      <use x=\"1234.123047\" xlink:href=\"#DejaVuSans-72\"/>\n      <use x=\"1275.236328\" xlink:href=\"#DejaVuSans-69\"/>\n      <use x=\"1303.019531\" xlink:href=\"#DejaVuSans-61\"/>\n      <use x=\"1364.298828\" xlink:href=\"#DejaVuSans-6e\"/>\n      <use x=\"1427.677734\" xlink:href=\"#DejaVuSans-63\"/>\n      <use x=\"1482.658203\" xlink:href=\"#DejaVuSans-65\"/>\n     </g>\n    </g>\n   </g>\n   <g id=\"line2d_14\">\n    <path clip-path=\"url(#p69f16258b7)\" d=\"M 65.361932 32.201761 \nL 79.196643 57.340537 \nL 93.031353 119.334671 \nL 106.866064 132.883511 \nL 120.700775 161.916719 \nL 134.535486 170.246838 \nL 148.370196 172.484692 \nL 162.204907 175.351356 \nL 176.039618 180.174693 \nL 189.874329 185.525244 \nL 203.709039 188.316155 \nL 217.54375 197.865569 \nL 231.378461 201.761138 \nL 245.213171 202.919731 \nL 259.047882 203.870217 \nL 272.882593 207.526027 \nL 286.717304 213.890544 \nL 300.552014 229.399476 \nL 314.386725 229.874489 \nL 328.221436 229.874489 \nL 342.056147 229.874489 \nL 355.890857 229.874489 \nL 369.725568 229.874489 \n\" style=\"fill:none;stroke:#1f77b4;stroke-linecap:square;stroke-width:1.5;\"/>\n   </g>\n   <g id=\"patch_3\">\n    <path d=\"M 50.14375 239.758125 \nL 50.14375 22.318125 \n\" style=\"fill:none;stroke:#000000;stroke-linecap:square;stroke-linejoin:miter;stroke-width:0.8;\"/>\n   </g>\n   <g id=\"patch_4\">\n    <path d=\"M 384.94375 239.758125 \nL 384.94375 22.318125 \n\" style=\"fill:none;stroke:#000000;stroke-linecap:square;stroke-linejoin:miter;stroke-width:0.8;\"/>\n   </g>\n   <g id=\"patch_5\">\n    <path d=\"M 50.14375 239.758125 \nL 384.94375 239.758125 \n\" style=\"fill:none;stroke:#000000;stroke-linecap:square;stroke-linejoin:miter;stroke-width:0.8;\"/>\n   </g>\n   <g id=\"patch_6\">\n    <path d=\"M 50.14375 22.318125 \nL 384.94375 22.318125 \n\" style=\"fill:none;stroke:#000000;stroke-linecap:square;stroke-linejoin:miter;stroke-width:0.8;\"/>\n   </g>\n   <g id=\"text_16\">\n    <!-- Scree Plot -->\n    <g transform=\"translate(187.505313 16.318125)scale(0.12 -0.12)\">\n     <defs>\n      <path d=\"M 3425 4513 \nL 3425 3897 \nQ 3066 4069 2747 4153 \nQ 2428 4238 2131 4238 \nQ 1616 4238 1336 4038 \nQ 1056 3838 1056 3469 \nQ 1056 3159 1242 3001 \nQ 1428 2844 1947 2747 \nL 2328 2669 \nQ 3034 2534 3370 2195 \nQ 3706 1856 3706 1288 \nQ 3706 609 3251 259 \nQ 2797 -91 1919 -91 \nQ 1588 -91 1214 -16 \nQ 841 59 441 206 \nL 441 856 \nQ 825 641 1194 531 \nQ 1563 422 1919 422 \nQ 2459 422 2753 634 \nQ 3047 847 3047 1241 \nQ 3047 1584 2836 1778 \nQ 2625 1972 2144 2069 \nL 1759 2144 \nQ 1053 2284 737 2584 \nQ 422 2884 422 3419 \nQ 422 4038 858 4394 \nQ 1294 4750 2059 4750 \nQ 2388 4750 2728 4690 \nQ 3069 4631 3425 4513 \nz\n\" id=\"DejaVuSans-53\" transform=\"scale(0.015625)\"/>\n     </defs>\n     <use xlink:href=\"#DejaVuSans-53\"/>\n     <use x=\"63.476562\" xlink:href=\"#DejaVuSans-63\"/>\n     <use x=\"118.457031\" xlink:href=\"#DejaVuSans-72\"/>\n     <use x=\"157.320312\" xlink:href=\"#DejaVuSans-65\"/>\n     <use x=\"218.84375\" xlink:href=\"#DejaVuSans-65\"/>\n     <use x=\"280.367188\" xlink:href=\"#DejaVuSans-20\"/>\n     <use x=\"312.154297\" xlink:href=\"#DejaVuSans-50\"/>\n     <use x=\"372.457031\" xlink:href=\"#DejaVuSans-6c\"/>\n     <use x=\"400.240234\" xlink:href=\"#DejaVuSans-6f\"/>\n     <use x=\"461.421875\" xlink:href=\"#DejaVuSans-74\"/>\n    </g>\n   </g>\n  </g>\n </g>\n <defs>\n  <clipPath id=\"p69f16258b7\">\n   <rect height=\"217.44\" width=\"334.8\" x=\"50.14375\" y=\"22.318125\"/>\n  </clipPath>\n </defs>\n</svg>\n",
      "image/png": "[encoded data removed]"
     },
     "metadata": {
      "needs_background": "light"
     }
    }
   ],
   "source": [
    "plt.plot(pca.explained_variance_ratio_*100)\n",
    "plt.xlabel('number of components')\n",
    "plt.ylabel('Percentage explained variance')\n",
    "plt.title(\"Scree Plot\")\n",
    "plt.show()"
   ]
  },
  {
   "source": [
    "O Scree Plot mostra que os componentes a partir do 17 tem contribuição mínima para a variância. Utilizando essa estrategia, o numero de dimensões escolhido seria 16."
   ],
   "cell_type": "markdown",
   "metadata": {}
  },
  {
   "source": [
    "## Converta os dados usando o PCA com 90% das variância.\n",
    "\n"
   ],
   "cell_type": "markdown",
   "metadata": {}
  },
  {
   "cell_type": "code",
   "execution_count": 200,
   "metadata": {},
   "outputs": [
    {
     "output_type": "stream",
     "name": "stdout",
     "text": [
      "O conjunto de dados foi reduzido para 90% da variância, continua com 1066 linhas, mas apenas 12 colunas, relativas aos 12 componentes de maior variâcia.\n"
     ]
    }
   ],
   "source": [
    "reduced_data = PCA(n_components=n_dim).fit_transform(data_scaled)\n",
    "\n",
    "\n",
    "print(\"O conjunto de dados foi reduzido para 90% da variância, continua com {} linhas, mas apenas {} colunas, relativas aos \\\n",
    "{} componentes de maior variâcia.\".format(reduced_data.shape[0], reduced_data.shape[1], n_dim))"
   ]
  },
  {
   "source": [
    "# Validação cruzada e regreção linear\n",
    "\n",
    "Nessa etapa, faz-se 5 repetições de validação cruzada aleatória, utilizando conjuntos de treino com 70% e conjuntos de teste com 30%.\n",
    "\n",
    "Utiliza-se uma regressão linear para cada um dos três atributos de saída.\n",
    "\n",
    "Exibe-se ao final o RMSE e MAE para cada uma das 5 regressões lineares."
   ],
   "cell_type": "markdown",
   "metadata": {}
  },
  {
   "cell_type": "code",
   "execution_count": 290,
   "metadata": {},
   "outputs": [],
   "source": [
    "def calc_rmes(actual, prediction):\n",
    "    return ( (actual-prediction)**2 ).sum()/actual.shape[0]\n",
    "\n",
    "def calc_mae(actual, prediction):\n",
    "    return ( (actual-prediction).abs() ).sum()/actual.shape[0]\n"
   ]
  },
  {
   "cell_type": "code",
   "execution_count": 451,
   "metadata": {},
   "outputs": [
    {
     "output_type": "stream",
     "name": "stdout",
     "text": [
      "---------------RMES---------------\n      C-Class   M-Class   X-Class\n0    0.591627  0.106883  0.006384\n1    0.586580  0.029098  0.004031\n2    0.474856  0.190454  0.004786\n3    0.631789  0.033449  0.016905\n4    0.439261  0.040474  0.002936\nAvg  0.544823  0.080072  0.007008\n---------------------------------\n---------------MAE---------------\n      C-Class   M-Class   X-Class\n0    0.419813  0.099450  0.018882\n1    0.432257  0.082754  0.016088\n2    0.401792  0.108094  0.013324\n3    0.443358  0.081884  0.017914\n4    0.396055  0.080456  0.013359\nAvg  0.418655  0.090528  0.015913\n---------------------------------\n"
     ]
    }
   ],
   "source": [
    "from sklearn.linear_model import LinearRegression\n",
    "from sklearn.model_selection import train_test_split\n",
    "\n",
    "def calc_rmes_mae (input_data_, output_data_):\n",
    "    l_rmes = []\n",
    "    l_mae  = []\n",
    "\n",
    "    for i in range(5):\n",
    "        # Create test and train sets\n",
    "        x_train,x_test,y_train,y_test=train_test_split(input_data_, output_data_, test_size=0.3)\n",
    "\n",
    "        assert (x_test.shape[0] + x_train.shape[0]) == reduced_data.shape[0]\n",
    "        assert (y_test.shape[0] + y_train.shape[0]) == reduced_data.shape[0]\n",
    "\n",
    "        lreg = LinearRegression().fit(x_train, y_train)\n",
    "\n",
    "        l_rmes.append( calc_rmes(y_test, lreg.predict(x_test)) )\n",
    "        l_mae.append(  calc_mae( y_test, lreg.predict(x_test)) )\n",
    "    \n",
    "    return l_rmes, l_mae\n",
    "\n",
    "def print_tables(measure, cols):\n",
    "    table = pd.DataFrame(columns=cols)\n",
    "    for col in cols:\n",
    "        table[col] = np.append(np.array(error_measures.at[measure, col]), np.mean(np.array(error_measures.at[measure, col])))\n",
    "    table.index = [0, 1, 2, 3, 4, 'Avg']\n",
    "    print(\"---------------{}---------------\".format(measure))\n",
    "    print(table)\n",
    "    print(\"---------------------------------\")\n",
    "    \n",
    "# Get the measures\n",
    "error_measures = pd.DataFrame(columns=output_data_columns)\n",
    "for col in output_data_columns:\n",
    "    error_measures[col] = calc_rmes_mae(reduced_data, output_data_num[col])\n",
    "error_measures.index = [\"RMES\", \"MAE\"]\n",
    "\n",
    "# Print them in columns\n",
    "print_tables(\"RMES\", output_data_columns)\n",
    "\n",
    "print_tables(\"MAE\", output_data_columns)\n"
   ]
  }
 ],
 "metadata": {
  "colab": {
   "collapsed_sections": [],
   "name": "Untitled3.ipynb",
   "provenance": []
  },
  "kernelspec": {
   "name": "python391jvsc74a57bd044cb6b1e90278a74d5ea4e6c26bb738f4833f9f1c0bed44228008f79a332744b",
   "display_name": "Python 3.9.1 64-bit ('base': conda)"
  },
  "language_info": {
   "codemirror_mode": {
    "name": "ipython",
    "version": 3
   },
   "file_extension": ".py",
   "mimetype": "text/x-python",
   "name": "python",
   "nbconvert_exporter": "python",
   "pygments_lexer": "ipython3",
   "version": "3.9.1"
  },
  "metadata": {
   "interpreter": {
    "hash": "00e6996aa542c6b116e8c42dcc4a8b5b9e1c7411c0569bbe48eab7d765763188"
   }
  }
 },
 "nbformat": 4,
 "nbformat_minor": 4
}