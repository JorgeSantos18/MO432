{
 "cells": [
  {
   "cell_type": "markdown",
   "metadata": {},
   "source": [
    "## Grupo\n",
    "\n",
    "227124 Jorge Henrique Monteiro dos Santos\n",
    "\n",
    "262251 Vitor Mello de Araujo Lima\n",
    "\n",
    "## Objetivo\n",
    "\n",
    "Aplicar os vários regressores visto em aula. Busca de hiperparametros.\n"
   ]
  },
  {
   "cell_type": "code",
   "execution_count": 473,
   "metadata": {},
   "outputs": [],
   "source": [
    "import matplotlib.pyplot as plt\n",
    "import numpy as np\n",
    "import pandas as pd\n",
    "from pandas import DataFrame as df\n",
    "from statistics import mean\n",
    "import math\n",
    "from sklearn.model_selection import cross_val_score\n",
    "from sklearn.model_selection import KFold, TimeSeriesSplit, GridSearchCV,RandomizedSearchCV\n",
    "import numpy as np\n",
    "from sklearn.model_selection import StratifiedKFold"
   ]
  },
  {
   "cell_type": "markdown",
   "metadata": {},
   "source": [
    "# Leia\n",
    "\n",
    "## Leia o arquivo dados4.csv.\n"
   ]
  },
  {
   "cell_type": "code",
   "execution_count": 474,
   "metadata": {},
   "outputs": [
    {
     "output_type": "execute_result",
     "data": {
      "text/plain": [
       "(690, 15)"
      ]
     },
     "metadata": {},
     "execution_count": 474
    }
   ],
   "source": [
    "url = \"https://www.ic.unicamp.br/~wainer/cursos/1s2021/432/dados4.csv\"\n",
    "data = pd.read_csv(url)\n",
    "data.shape"
   ]
  },
  {
   "cell_type": "code",
   "execution_count": 475,
   "metadata": {},
   "outputs": [
    {
     "output_type": "execute_result",
     "data": {
      "text/plain": [
       "     V1     V2      V3  V4  V5  V6     V7  V8  V9  V10  V11 V12  V13   V14  \\\n",
       "0     1  22.08  11.460   2   k  bb  1.585   0   0    0    1   g  100  1213   \n",
       "1     0  22.67   7.000   2   c  bb  0.165   0   0    0    0   g  160     1   \n",
       "2     0  29.58   1.750   1   k  bb  1.250   0   0    0    1   g  280     1   \n",
       "3     0  21.67  11.500   1   j   j  0.000   1   1   11    1   g    0     1   \n",
       "4     1  20.17   8.170   2  aa  bb  1.960   1   1   14    0   g   60   159   \n",
       "..   ..    ...     ...  ..  ..  ..    ...  ..  ..  ...  ...  ..  ...   ...   \n",
       "685   1  31.57  10.500   2   x  bb  6.500   1   0    0    0   g    0     1   \n",
       "686   1  20.67   0.415   2   c  bb  0.125   0   0    0    0   g    0    45   \n",
       "687   0  18.83   9.540   2  aa  bb  0.085   1   0    0    0   g  100     1   \n",
       "688   0  27.42  14.500   2   x   h  3.085   1   1    1    0   g  120    12   \n",
       "689   1  41.00   0.040   2   e  bb  0.040   0   1    1    0   s  560     1   \n",
       "\n",
       "     V15  \n",
       "0      0  \n",
       "1      0  \n",
       "2      0  \n",
       "3      1  \n",
       "4      1  \n",
       "..   ...  \n",
       "685    1  \n",
       "686    0  \n",
       "687    1  \n",
       "688    1  \n",
       "689    1  \n",
       "\n",
       "[690 rows x 15 columns]"
      ],
      "text/html": "<div>\n<style scoped>\n    .dataframe tbody tr th:only-of-type {\n        vertical-align: middle;\n    }\n\n    .dataframe tbody tr th {\n        vertical-align: top;\n    }\n\n    .dataframe thead th {\n        text-align: right;\n    }\n</style>\n<table border=\"1\" class=\"dataframe\">\n  <thead>\n    <tr style=\"text-align: right;\">\n      <th></th>\n      <th>V1</th>\n      <th>V2</th>\n      <th>V3</th>\n      <th>V4</th>\n      <th>V5</th>\n      <th>V6</th>\n      <th>V7</th>\n      <th>V8</th>\n      <th>V9</th>\n      <th>V10</th>\n      <th>V11</th>\n      <th>V12</th>\n      <th>V13</th>\n      <th>V14</th>\n      <th>V15</th>\n    </tr>\n  </thead>\n  <tbody>\n    <tr>\n      <th>0</th>\n      <td>1</td>\n      <td>22.08</td>\n      <td>11.460</td>\n      <td>2</td>\n      <td>k</td>\n      <td>bb</td>\n      <td>1.585</td>\n      <td>0</td>\n      <td>0</td>\n      <td>0</td>\n      <td>1</td>\n      <td>g</td>\n      <td>100</td>\n      <td>1213</td>\n      <td>0</td>\n    </tr>\n    <tr>\n      <th>1</th>\n      <td>0</td>\n      <td>22.67</td>\n      <td>7.000</td>\n      <td>2</td>\n      <td>c</td>\n      <td>bb</td>\n      <td>0.165</td>\n      <td>0</td>\n      <td>0</td>\n      <td>0</td>\n      <td>0</td>\n      <td>g</td>\n      <td>160</td>\n      <td>1</td>\n      <td>0</td>\n    </tr>\n    <tr>\n      <th>2</th>\n      <td>0</td>\n      <td>29.58</td>\n      <td>1.750</td>\n      <td>1</td>\n      <td>k</td>\n      <td>bb</td>\n      <td>1.250</td>\n      <td>0</td>\n      <td>0</td>\n      <td>0</td>\n      <td>1</td>\n      <td>g</td>\n      <td>280</td>\n      <td>1</td>\n      <td>0</td>\n    </tr>\n    <tr>\n      <th>3</th>\n      <td>0</td>\n      <td>21.67</td>\n      <td>11.500</td>\n      <td>1</td>\n      <td>j</td>\n      <td>j</td>\n      <td>0.000</td>\n      <td>1</td>\n      <td>1</td>\n      <td>11</td>\n      <td>1</td>\n      <td>g</td>\n      <td>0</td>\n      <td>1</td>\n      <td>1</td>\n    </tr>\n    <tr>\n      <th>4</th>\n      <td>1</td>\n      <td>20.17</td>\n      <td>8.170</td>\n      <td>2</td>\n      <td>aa</td>\n      <td>bb</td>\n      <td>1.960</td>\n      <td>1</td>\n      <td>1</td>\n      <td>14</td>\n      <td>0</td>\n      <td>g</td>\n      <td>60</td>\n      <td>159</td>\n      <td>1</td>\n    </tr>\n    <tr>\n      <th>...</th>\n      <td>...</td>\n      <td>...</td>\n      <td>...</td>\n      <td>...</td>\n      <td>...</td>\n      <td>...</td>\n      <td>...</td>\n      <td>...</td>\n      <td>...</td>\n      <td>...</td>\n      <td>...</td>\n      <td>...</td>\n      <td>...</td>\n      <td>...</td>\n      <td>...</td>\n    </tr>\n    <tr>\n      <th>685</th>\n      <td>1</td>\n      <td>31.57</td>\n      <td>10.500</td>\n      <td>2</td>\n      <td>x</td>\n      <td>bb</td>\n      <td>6.500</td>\n      <td>1</td>\n      <td>0</td>\n      <td>0</td>\n      <td>0</td>\n      <td>g</td>\n      <td>0</td>\n      <td>1</td>\n      <td>1</td>\n    </tr>\n    <tr>\n      <th>686</th>\n      <td>1</td>\n      <td>20.67</td>\n      <td>0.415</td>\n      <td>2</td>\n      <td>c</td>\n      <td>bb</td>\n      <td>0.125</td>\n      <td>0</td>\n      <td>0</td>\n      <td>0</td>\n      <td>0</td>\n      <td>g</td>\n      <td>0</td>\n      <td>45</td>\n      <td>0</td>\n    </tr>\n    <tr>\n      <th>687</th>\n      <td>0</td>\n      <td>18.83</td>\n      <td>9.540</td>\n      <td>2</td>\n      <td>aa</td>\n      <td>bb</td>\n      <td>0.085</td>\n      <td>1</td>\n      <td>0</td>\n      <td>0</td>\n      <td>0</td>\n      <td>g</td>\n      <td>100</td>\n      <td>1</td>\n      <td>1</td>\n    </tr>\n    <tr>\n      <th>688</th>\n      <td>0</td>\n      <td>27.42</td>\n      <td>14.500</td>\n      <td>2</td>\n      <td>x</td>\n      <td>h</td>\n      <td>3.085</td>\n      <td>1</td>\n      <td>1</td>\n      <td>1</td>\n      <td>0</td>\n      <td>g</td>\n      <td>120</td>\n      <td>12</td>\n      <td>1</td>\n    </tr>\n    <tr>\n      <th>689</th>\n      <td>1</td>\n      <td>41.00</td>\n      <td>0.040</td>\n      <td>2</td>\n      <td>e</td>\n      <td>bb</td>\n      <td>0.040</td>\n      <td>0</td>\n      <td>1</td>\n      <td>1</td>\n      <td>0</td>\n      <td>s</td>\n      <td>560</td>\n      <td>1</td>\n      <td>1</td>\n    </tr>\n  </tbody>\n</table>\n<p>690 rows × 15 columns</p>\n</div>"
     },
     "metadata": {},
     "execution_count": 475
    }
   ],
   "source": [
    "data[::]"
   ]
  },
  {
   "cell_type": "markdown",
   "metadata": {},
   "source": [
    "##  Converta os atributos categóricos para numéricos (V5,V6,V12)"
   ]
  },
  {
   "cell_type": "code",
   "execution_count": 476,
   "metadata": {},
   "outputs": [
    {
     "output_type": "execute_result",
     "data": {
      "text/plain": [
       "   V1     V2     V3  V4     V7  V8  V9  V10  V11  V13  ...  V6_dd  V6_ff  \\\n",
       "0   1  22.08  11.46   2  1.585   0   0    0    1  100  ...      0      0   \n",
       "1   0  22.67   7.00   2  0.165   0   0    0    0  160  ...      0      0   \n",
       "2   0  29.58   1.75   1  1.250   0   0    0    1  280  ...      0      0   \n",
       "3   0  21.67  11.50   1  0.000   1   1   11    1    0  ...      0      0   \n",
       "4   1  20.17   8.17   2  1.960   1   1   14    0   60  ...      0      0   \n",
       "\n",
       "   V6_h  V6_j  V6_o  V6_v  V6_z  V12_g  V12_p  V12_s  \n",
       "0     0     0     0     0     0      1      0      0  \n",
       "1     0     0     0     0     0      1      0      0  \n",
       "2     0     0     0     0     0      1      0      0  \n",
       "3     0     1     0     0     0      1      0      0  \n",
       "4     0     0     0     0     0      1      0      0  \n",
       "\n",
       "[5 rows x 37 columns]"
      ],
      "text/html": "<div>\n<style scoped>\n    .dataframe tbody tr th:only-of-type {\n        vertical-align: middle;\n    }\n\n    .dataframe tbody tr th {\n        vertical-align: top;\n    }\n\n    .dataframe thead th {\n        text-align: right;\n    }\n</style>\n<table border=\"1\" class=\"dataframe\">\n  <thead>\n    <tr style=\"text-align: right;\">\n      <th></th>\n      <th>V1</th>\n      <th>V2</th>\n      <th>V3</th>\n      <th>V4</th>\n      <th>V7</th>\n      <th>V8</th>\n      <th>V9</th>\n      <th>V10</th>\n      <th>V11</th>\n      <th>V13</th>\n      <th>...</th>\n      <th>V6_dd</th>\n      <th>V6_ff</th>\n      <th>V6_h</th>\n      <th>V6_j</th>\n      <th>V6_o</th>\n      <th>V6_v</th>\n      <th>V6_z</th>\n      <th>V12_g</th>\n      <th>V12_p</th>\n      <th>V12_s</th>\n    </tr>\n  </thead>\n  <tbody>\n    <tr>\n      <th>0</th>\n      <td>1</td>\n      <td>22.08</td>\n      <td>11.46</td>\n      <td>2</td>\n      <td>1.585</td>\n      <td>0</td>\n      <td>0</td>\n      <td>0</td>\n      <td>1</td>\n      <td>100</td>\n      <td>...</td>\n      <td>0</td>\n      <td>0</td>\n      <td>0</td>\n      <td>0</td>\n      <td>0</td>\n      <td>0</td>\n      <td>0</td>\n      <td>1</td>\n      <td>0</td>\n      <td>0</td>\n    </tr>\n    <tr>\n      <th>1</th>\n      <td>0</td>\n      <td>22.67</td>\n      <td>7.00</td>\n      <td>2</td>\n      <td>0.165</td>\n      <td>0</td>\n      <td>0</td>\n      <td>0</td>\n      <td>0</td>\n      <td>160</td>\n      <td>...</td>\n      <td>0</td>\n      <td>0</td>\n      <td>0</td>\n      <td>0</td>\n      <td>0</td>\n      <td>0</td>\n      <td>0</td>\n      <td>1</td>\n      <td>0</td>\n      <td>0</td>\n    </tr>\n    <tr>\n      <th>2</th>\n      <td>0</td>\n      <td>29.58</td>\n      <td>1.75</td>\n      <td>1</td>\n      <td>1.250</td>\n      <td>0</td>\n      <td>0</td>\n      <td>0</td>\n      <td>1</td>\n      <td>280</td>\n      <td>...</td>\n      <td>0</td>\n      <td>0</td>\n      <td>0</td>\n      <td>0</td>\n      <td>0</td>\n      <td>0</td>\n      <td>0</td>\n      <td>1</td>\n      <td>0</td>\n      <td>0</td>\n    </tr>\n    <tr>\n      <th>3</th>\n      <td>0</td>\n      <td>21.67</td>\n      <td>11.50</td>\n      <td>1</td>\n      <td>0.000</td>\n      <td>1</td>\n      <td>1</td>\n      <td>11</td>\n      <td>1</td>\n      <td>0</td>\n      <td>...</td>\n      <td>0</td>\n      <td>0</td>\n      <td>0</td>\n      <td>1</td>\n      <td>0</td>\n      <td>0</td>\n      <td>0</td>\n      <td>1</td>\n      <td>0</td>\n      <td>0</td>\n    </tr>\n    <tr>\n      <th>4</th>\n      <td>1</td>\n      <td>20.17</td>\n      <td>8.17</td>\n      <td>2</td>\n      <td>1.960</td>\n      <td>1</td>\n      <td>1</td>\n      <td>14</td>\n      <td>0</td>\n      <td>60</td>\n      <td>...</td>\n      <td>0</td>\n      <td>0</td>\n      <td>0</td>\n      <td>0</td>\n      <td>0</td>\n      <td>0</td>\n      <td>0</td>\n      <td>1</td>\n      <td>0</td>\n      <td>0</td>\n    </tr>\n  </tbody>\n</table>\n<p>5 rows × 37 columns</p>\n</div>"
     },
     "metadata": {},
     "execution_count": 476
    }
   ],
   "source": [
    "V5  = pd.get_dummies(data['V5'],  prefix='V5')\n",
    "V6  = pd.get_dummies(data['V6'],  prefix='V6')\n",
    "V12 = pd.get_dummies(data['V12'], prefix='V12')\n",
    "\n",
    "data_num = data.drop(['V5', 'V6','V12' ],  axis=1)\n",
    "data_num = pd.concat([data_num,V5,V6,V12], axis=1)\n",
    "\n",
    "data_num.head()"
   ]
  },
  {
   "cell_type": "code",
   "execution_count": 477,
   "metadata": {},
   "outputs": [],
   "source": [
    "y_data = data_num['V15']\n",
    "x_data = data_num.drop(['V15'], axis=1)"
   ]
  },
  {
   "cell_type": "markdown",
   "metadata": {},
   "source": [
    "# Centering and Scaling"
   ]
  },
  {
   "cell_type": "code",
   "execution_count": 478,
   "metadata": {},
   "outputs": [
    {
     "output_type": "execute_result",
     "data": {
      "text/plain": [
       "         V1        V2        V3        V4        V7        V8        V9  \\\n",
       "0  0.688737 -0.801052  1.347111  0.542950 -0.190906 -1.047504 -0.864196   \n",
       "1 -1.451933 -0.751240  0.450548  0.542950 -0.615536 -1.047504 -0.864196   \n",
       "2 -1.451933 -0.167856 -0.604823 -1.783978 -0.291083 -1.047504 -0.864196   \n",
       "3 -1.451933 -0.835667  1.355152 -1.783978 -0.664877  0.954650  1.157144   \n",
       "4  0.688737 -0.962306  0.685745  0.542950 -0.078768  0.954650  1.157144   \n",
       "\n",
       "        V10       V11       V13  ...     V6_dd     V6_ff  V6_h      V6_j  \\\n",
       "0 -0.493887  1.087908 -0.488358  ... -0.093659 -0.300079  -0.5 -0.108306   \n",
       "1 -0.493887 -0.919195 -0.139591  ... -0.093659 -0.300079  -0.5 -0.108306   \n",
       "2 -0.493887  1.087908  0.557943  ... -0.093659 -0.300079  -0.5 -0.108306   \n",
       "3  1.769760  1.087908 -1.069637  ... -0.093659 -0.300079  -0.5  9.233093   \n",
       "4  2.387119 -0.919195 -0.720870  ... -0.093659 -0.300079  -0.5 -0.108306   \n",
       "\n",
       "       V6_o      V6_v      V6_z    V12_g     V12_p     V12_s  \n",
       "0 -0.093659 -0.305782 -0.108306  0.32249 -0.108306 -0.300079  \n",
       "1 -0.093659 -0.305782 -0.108306  0.32249 -0.108306 -0.300079  \n",
       "2 -0.093659 -0.305782 -0.108306  0.32249 -0.108306 -0.300079  \n",
       "3 -0.093659 -0.305782 -0.108306  0.32249 -0.108306 -0.300079  \n",
       "4 -0.093659 -0.305782 -0.108306  0.32249 -0.108306 -0.300079  \n",
       "\n",
       "[5 rows x 36 columns]"
      ],
      "text/html": "<div>\n<style scoped>\n    .dataframe tbody tr th:only-of-type {\n        vertical-align: middle;\n    }\n\n    .dataframe tbody tr th {\n        vertical-align: top;\n    }\n\n    .dataframe thead th {\n        text-align: right;\n    }\n</style>\n<table border=\"1\" class=\"dataframe\">\n  <thead>\n    <tr style=\"text-align: right;\">\n      <th></th>\n      <th>V1</th>\n      <th>V2</th>\n      <th>V3</th>\n      <th>V4</th>\n      <th>V7</th>\n      <th>V8</th>\n      <th>V9</th>\n      <th>V10</th>\n      <th>V11</th>\n      <th>V13</th>\n      <th>...</th>\n      <th>V6_dd</th>\n      <th>V6_ff</th>\n      <th>V6_h</th>\n      <th>V6_j</th>\n      <th>V6_o</th>\n      <th>V6_v</th>\n      <th>V6_z</th>\n      <th>V12_g</th>\n      <th>V12_p</th>\n      <th>V12_s</th>\n    </tr>\n  </thead>\n  <tbody>\n    <tr>\n      <th>0</th>\n      <td>0.688737</td>\n      <td>-0.801052</td>\n      <td>1.347111</td>\n      <td>0.542950</td>\n      <td>-0.190906</td>\n      <td>-1.047504</td>\n      <td>-0.864196</td>\n      <td>-0.493887</td>\n      <td>1.087908</td>\n      <td>-0.488358</td>\n      <td>...</td>\n      <td>-0.093659</td>\n      <td>-0.300079</td>\n      <td>-0.5</td>\n      <td>-0.108306</td>\n      <td>-0.093659</td>\n      <td>-0.305782</td>\n      <td>-0.108306</td>\n      <td>0.32249</td>\n      <td>-0.108306</td>\n      <td>-0.300079</td>\n    </tr>\n    <tr>\n      <th>1</th>\n      <td>-1.451933</td>\n      <td>-0.751240</td>\n      <td>0.450548</td>\n      <td>0.542950</td>\n      <td>-0.615536</td>\n      <td>-1.047504</td>\n      <td>-0.864196</td>\n      <td>-0.493887</td>\n      <td>-0.919195</td>\n      <td>-0.139591</td>\n      <td>...</td>\n      <td>-0.093659</td>\n      <td>-0.300079</td>\n      <td>-0.5</td>\n      <td>-0.108306</td>\n      <td>-0.093659</td>\n      <td>-0.305782</td>\n      <td>-0.108306</td>\n      <td>0.32249</td>\n      <td>-0.108306</td>\n      <td>-0.300079</td>\n    </tr>\n    <tr>\n      <th>2</th>\n      <td>-1.451933</td>\n      <td>-0.167856</td>\n      <td>-0.604823</td>\n      <td>-1.783978</td>\n      <td>-0.291083</td>\n      <td>-1.047504</td>\n      <td>-0.864196</td>\n      <td>-0.493887</td>\n      <td>1.087908</td>\n      <td>0.557943</td>\n      <td>...</td>\n      <td>-0.093659</td>\n      <td>-0.300079</td>\n      <td>-0.5</td>\n      <td>-0.108306</td>\n      <td>-0.093659</td>\n      <td>-0.305782</td>\n      <td>-0.108306</td>\n      <td>0.32249</td>\n      <td>-0.108306</td>\n      <td>-0.300079</td>\n    </tr>\n    <tr>\n      <th>3</th>\n      <td>-1.451933</td>\n      <td>-0.835667</td>\n      <td>1.355152</td>\n      <td>-1.783978</td>\n      <td>-0.664877</td>\n      <td>0.954650</td>\n      <td>1.157144</td>\n      <td>1.769760</td>\n      <td>1.087908</td>\n      <td>-1.069637</td>\n      <td>...</td>\n      <td>-0.093659</td>\n      <td>-0.300079</td>\n      <td>-0.5</td>\n      <td>9.233093</td>\n      <td>-0.093659</td>\n      <td>-0.305782</td>\n      <td>-0.108306</td>\n      <td>0.32249</td>\n      <td>-0.108306</td>\n      <td>-0.300079</td>\n    </tr>\n    <tr>\n      <th>4</th>\n      <td>0.688737</td>\n      <td>-0.962306</td>\n      <td>0.685745</td>\n      <td>0.542950</td>\n      <td>-0.078768</td>\n      <td>0.954650</td>\n      <td>1.157144</td>\n      <td>2.387119</td>\n      <td>-0.919195</td>\n      <td>-0.720870</td>\n      <td>...</td>\n      <td>-0.093659</td>\n      <td>-0.300079</td>\n      <td>-0.5</td>\n      <td>-0.108306</td>\n      <td>-0.093659</td>\n      <td>-0.305782</td>\n      <td>-0.108306</td>\n      <td>0.32249</td>\n      <td>-0.108306</td>\n      <td>-0.300079</td>\n    </tr>\n  </tbody>\n</table>\n<p>5 rows × 36 columns</p>\n</div>"
     },
     "metadata": {},
     "execution_count": 478
    }
   ],
   "source": [
    "from sklearn.preprocessing import StandardScaler\n",
    "from pandas import DataFrame\n",
    "\n",
    "x_data_scaled = DataFrame(StandardScaler().fit_transform(x_data), columns=x_data.columns)\n",
    "x_data_scaled.head()"
   ]
  },
  {
   "cell_type": "code",
   "execution_count": 479,
   "metadata": {},
   "outputs": [
    {
     "output_type": "execute_result",
     "data": {
      "text/plain": [
       "           V1        V2        V3        V4        V7        V8        V9  \\\n",
       "0    0.688737 -0.801052  1.347111  0.542950 -0.190906 -1.047504 -0.864196   \n",
       "1   -1.451933 -0.751240  0.450548  0.542950 -0.615536 -1.047504 -0.864196   \n",
       "2   -1.451933 -0.167856 -0.604823 -1.783978 -0.291083 -1.047504 -0.864196   \n",
       "3   -1.451933 -0.835667  1.355152 -1.783978 -0.664877  0.954650  1.157144   \n",
       "4    0.688737 -0.962306  0.685745  0.542950 -0.078768  0.954650  1.157144   \n",
       "..        ...       ...       ...       ...       ...       ...       ...   \n",
       "685  0.688737  0.000152  1.154129  0.542950  1.278852  0.954650 -0.864196   \n",
       "686  0.688737 -0.920093 -0.873189  0.542950 -0.627497 -1.047504 -0.864196   \n",
       "687 -1.451933 -1.075437  0.961146  0.542950 -0.639459  0.954650 -0.864196   \n",
       "688 -1.451933 -0.350217  1.958221  0.542950  0.257647  0.954650  1.157144   \n",
       "689  0.688737  0.796290 -0.948572  0.542950 -0.652915 -1.047504  1.157144   \n",
       "\n",
       "          V10       V11       V13  ...     V6_dd     V6_ff  V6_h      V6_j  \\\n",
       "0   -0.493887  1.087908 -0.488358  ... -0.093659 -0.300079  -0.5 -0.108306   \n",
       "1   -0.493887 -0.919195 -0.139591  ... -0.093659 -0.300079  -0.5 -0.108306   \n",
       "2   -0.493887  1.087908  0.557943  ... -0.093659 -0.300079  -0.5 -0.108306   \n",
       "3    1.769760  1.087908 -1.069637  ... -0.093659 -0.300079  -0.5  9.233093   \n",
       "4    2.387119 -0.919195 -0.720870  ... -0.093659 -0.300079  -0.5 -0.108306   \n",
       "..        ...       ...       ...  ...       ...       ...   ...       ...   \n",
       "685 -0.493887 -0.919195 -1.069637  ... -0.093659 -0.300079  -0.5 -0.108306   \n",
       "686 -0.493887 -0.919195 -1.069637  ... -0.093659 -0.300079  -0.5 -0.108306   \n",
       "687 -0.493887 -0.919195 -0.488358  ... -0.093659 -0.300079  -0.5 -0.108306   \n",
       "688 -0.288101 -0.919195 -0.372103  ... -0.093659 -0.300079   2.0 -0.108306   \n",
       "689 -0.288101 -0.919195  2.185524  ... -0.093659 -0.300079  -0.5 -0.108306   \n",
       "\n",
       "         V6_o      V6_v      V6_z     V12_g     V12_p     V12_s  \n",
       "0   -0.093659 -0.305782 -0.108306  0.322490 -0.108306 -0.300079  \n",
       "1   -0.093659 -0.305782 -0.108306  0.322490 -0.108306 -0.300079  \n",
       "2   -0.093659 -0.305782 -0.108306  0.322490 -0.108306 -0.300079  \n",
       "3   -0.093659 -0.305782 -0.108306  0.322490 -0.108306 -0.300079  \n",
       "4   -0.093659 -0.305782 -0.108306  0.322490 -0.108306 -0.300079  \n",
       "..        ...       ...       ...       ...       ...       ...  \n",
       "685 -0.093659 -0.305782 -0.108306  0.322490 -0.108306 -0.300079  \n",
       "686 -0.093659 -0.305782 -0.108306  0.322490 -0.108306 -0.300079  \n",
       "687 -0.093659 -0.305782 -0.108306  0.322490 -0.108306 -0.300079  \n",
       "688 -0.093659 -0.305782 -0.108306  0.322490 -0.108306 -0.300079  \n",
       "689 -0.093659 -0.305782 -0.108306 -3.100868 -0.108306  3.332456  \n",
       "\n",
       "[690 rows x 36 columns]"
      ],
      "text/html": "<div>\n<style scoped>\n    .dataframe tbody tr th:only-of-type {\n        vertical-align: middle;\n    }\n\n    .dataframe tbody tr th {\n        vertical-align: top;\n    }\n\n    .dataframe thead th {\n        text-align: right;\n    }\n</style>\n<table border=\"1\" class=\"dataframe\">\n  <thead>\n    <tr style=\"text-align: right;\">\n      <th></th>\n      <th>V1</th>\n      <th>V2</th>\n      <th>V3</th>\n      <th>V4</th>\n      <th>V7</th>\n      <th>V8</th>\n      <th>V9</th>\n      <th>V10</th>\n      <th>V11</th>\n      <th>V13</th>\n      <th>...</th>\n      <th>V6_dd</th>\n      <th>V6_ff</th>\n      <th>V6_h</th>\n      <th>V6_j</th>\n      <th>V6_o</th>\n      <th>V6_v</th>\n      <th>V6_z</th>\n      <th>V12_g</th>\n      <th>V12_p</th>\n      <th>V12_s</th>\n    </tr>\n  </thead>\n  <tbody>\n    <tr>\n      <th>0</th>\n      <td>0.688737</td>\n      <td>-0.801052</td>\n      <td>1.347111</td>\n      <td>0.542950</td>\n      <td>-0.190906</td>\n      <td>-1.047504</td>\n      <td>-0.864196</td>\n      <td>-0.493887</td>\n      <td>1.087908</td>\n      <td>-0.488358</td>\n      <td>...</td>\n      <td>-0.093659</td>\n      <td>-0.300079</td>\n      <td>-0.5</td>\n      <td>-0.108306</td>\n      <td>-0.093659</td>\n      <td>-0.305782</td>\n      <td>-0.108306</td>\n      <td>0.322490</td>\n      <td>-0.108306</td>\n      <td>-0.300079</td>\n    </tr>\n    <tr>\n      <th>1</th>\n      <td>-1.451933</td>\n      <td>-0.751240</td>\n      <td>0.450548</td>\n      <td>0.542950</td>\n      <td>-0.615536</td>\n      <td>-1.047504</td>\n      <td>-0.864196</td>\n      <td>-0.493887</td>\n      <td>-0.919195</td>\n      <td>-0.139591</td>\n      <td>...</td>\n      <td>-0.093659</td>\n      <td>-0.300079</td>\n      <td>-0.5</td>\n      <td>-0.108306</td>\n      <td>-0.093659</td>\n      <td>-0.305782</td>\n      <td>-0.108306</td>\n      <td>0.322490</td>\n      <td>-0.108306</td>\n      <td>-0.300079</td>\n    </tr>\n    <tr>\n      <th>2</th>\n      <td>-1.451933</td>\n      <td>-0.167856</td>\n      <td>-0.604823</td>\n      <td>-1.783978</td>\n      <td>-0.291083</td>\n      <td>-1.047504</td>\n      <td>-0.864196</td>\n      <td>-0.493887</td>\n      <td>1.087908</td>\n      <td>0.557943</td>\n      <td>...</td>\n      <td>-0.093659</td>\n      <td>-0.300079</td>\n      <td>-0.5</td>\n      <td>-0.108306</td>\n      <td>-0.093659</td>\n      <td>-0.305782</td>\n      <td>-0.108306</td>\n      <td>0.322490</td>\n      <td>-0.108306</td>\n      <td>-0.300079</td>\n    </tr>\n    <tr>\n      <th>3</th>\n      <td>-1.451933</td>\n      <td>-0.835667</td>\n      <td>1.355152</td>\n      <td>-1.783978</td>\n      <td>-0.664877</td>\n      <td>0.954650</td>\n      <td>1.157144</td>\n      <td>1.769760</td>\n      <td>1.087908</td>\n      <td>-1.069637</td>\n      <td>...</td>\n      <td>-0.093659</td>\n      <td>-0.300079</td>\n      <td>-0.5</td>\n      <td>9.233093</td>\n      <td>-0.093659</td>\n      <td>-0.305782</td>\n      <td>-0.108306</td>\n      <td>0.322490</td>\n      <td>-0.108306</td>\n      <td>-0.300079</td>\n    </tr>\n    <tr>\n      <th>4</th>\n      <td>0.688737</td>\n      <td>-0.962306</td>\n      <td>0.685745</td>\n      <td>0.542950</td>\n      <td>-0.078768</td>\n      <td>0.954650</td>\n      <td>1.157144</td>\n      <td>2.387119</td>\n      <td>-0.919195</td>\n      <td>-0.720870</td>\n      <td>...</td>\n      <td>-0.093659</td>\n      <td>-0.300079</td>\n      <td>-0.5</td>\n      <td>-0.108306</td>\n      <td>-0.093659</td>\n      <td>-0.305782</td>\n      <td>-0.108306</td>\n      <td>0.322490</td>\n      <td>-0.108306</td>\n      <td>-0.300079</td>\n    </tr>\n    <tr>\n      <th>...</th>\n      <td>...</td>\n      <td>...</td>\n      <td>...</td>\n      <td>...</td>\n      <td>...</td>\n      <td>...</td>\n      <td>...</td>\n      <td>...</td>\n      <td>...</td>\n      <td>...</td>\n      <td>...</td>\n      <td>...</td>\n      <td>...</td>\n      <td>...</td>\n      <td>...</td>\n      <td>...</td>\n      <td>...</td>\n      <td>...</td>\n      <td>...</td>\n      <td>...</td>\n      <td>...</td>\n    </tr>\n    <tr>\n      <th>685</th>\n      <td>0.688737</td>\n      <td>0.000152</td>\n      <td>1.154129</td>\n      <td>0.542950</td>\n      <td>1.278852</td>\n      <td>0.954650</td>\n      <td>-0.864196</td>\n      <td>-0.493887</td>\n      <td>-0.919195</td>\n      <td>-1.069637</td>\n      <td>...</td>\n      <td>-0.093659</td>\n      <td>-0.300079</td>\n      <td>-0.5</td>\n      <td>-0.108306</td>\n      <td>-0.093659</td>\n      <td>-0.305782</td>\n      <td>-0.108306</td>\n      <td>0.322490</td>\n      <td>-0.108306</td>\n      <td>-0.300079</td>\n    </tr>\n    <tr>\n      <th>686</th>\n      <td>0.688737</td>\n      <td>-0.920093</td>\n      <td>-0.873189</td>\n      <td>0.542950</td>\n      <td>-0.627497</td>\n      <td>-1.047504</td>\n      <td>-0.864196</td>\n      <td>-0.493887</td>\n      <td>-0.919195</td>\n      <td>-1.069637</td>\n      <td>...</td>\n      <td>-0.093659</td>\n      <td>-0.300079</td>\n      <td>-0.5</td>\n      <td>-0.108306</td>\n      <td>-0.093659</td>\n      <td>-0.305782</td>\n      <td>-0.108306</td>\n      <td>0.322490</td>\n      <td>-0.108306</td>\n      <td>-0.300079</td>\n    </tr>\n    <tr>\n      <th>687</th>\n      <td>-1.451933</td>\n      <td>-1.075437</td>\n      <td>0.961146</td>\n      <td>0.542950</td>\n      <td>-0.639459</td>\n      <td>0.954650</td>\n      <td>-0.864196</td>\n      <td>-0.493887</td>\n      <td>-0.919195</td>\n      <td>-0.488358</td>\n      <td>...</td>\n      <td>-0.093659</td>\n      <td>-0.300079</td>\n      <td>-0.5</td>\n      <td>-0.108306</td>\n      <td>-0.093659</td>\n      <td>-0.305782</td>\n      <td>-0.108306</td>\n      <td>0.322490</td>\n      <td>-0.108306</td>\n      <td>-0.300079</td>\n    </tr>\n    <tr>\n      <th>688</th>\n      <td>-1.451933</td>\n      <td>-0.350217</td>\n      <td>1.958221</td>\n      <td>0.542950</td>\n      <td>0.257647</td>\n      <td>0.954650</td>\n      <td>1.157144</td>\n      <td>-0.288101</td>\n      <td>-0.919195</td>\n      <td>-0.372103</td>\n      <td>...</td>\n      <td>-0.093659</td>\n      <td>-0.300079</td>\n      <td>2.0</td>\n      <td>-0.108306</td>\n      <td>-0.093659</td>\n      <td>-0.305782</td>\n      <td>-0.108306</td>\n      <td>0.322490</td>\n      <td>-0.108306</td>\n      <td>-0.300079</td>\n    </tr>\n    <tr>\n      <th>689</th>\n      <td>0.688737</td>\n      <td>0.796290</td>\n      <td>-0.948572</td>\n      <td>0.542950</td>\n      <td>-0.652915</td>\n      <td>-1.047504</td>\n      <td>1.157144</td>\n      <td>-0.288101</td>\n      <td>-0.919195</td>\n      <td>2.185524</td>\n      <td>...</td>\n      <td>-0.093659</td>\n      <td>-0.300079</td>\n      <td>-0.5</td>\n      <td>-0.108306</td>\n      <td>-0.093659</td>\n      <td>-0.305782</td>\n      <td>-0.108306</td>\n      <td>-3.100868</td>\n      <td>-0.108306</td>\n      <td>3.332456</td>\n    </tr>\n  </tbody>\n</table>\n<p>690 rows × 36 columns</p>\n</div>"
     },
     "metadata": {},
     "execution_count": 479
    }
   ],
   "source": [
    "x_data_scaled"
   ]
  },
  {
   "cell_type": "code",
   "execution_count": 480,
   "metadata": {},
   "outputs": [],
   "source": [
    "assert all (x_data_scaled.mean().values > -10e-14)\n",
    "assert all (x_data_scaled.mean().values <  10e-14)\n",
    "assert all (x_data_scaled.std() < 1.001)\n",
    "assert all (x_data_scaled.std() > 0.999)\n"
   ]
  },
  {
   "cell_type": "markdown",
   "metadata": {},
   "source": [
    "# Classificação "
   ]
  },
  {
   "cell_type": "code",
   "execution_count": 481,
   "metadata": {},
   "outputs": [],
   "source": [
    "# Generate all classifiers and parameters\n",
    "import pprint\n",
    "from sklearn.linear_model import LogisticRegression\n",
    "import scipy.stats as stats\n",
    "from sklearn.utils.fixes import loguniform\n",
    "from sklearn.discriminant_analysis import LinearDiscriminantAnalysis\n",
    "from sklearn.discriminant_analysis import QuadraticDiscriminantAnalysis\n",
    "from sklearn.neighbors import KNeighborsClassifier\n",
    "import random\n",
    "from sklearn.svm import SVC\n",
    "from sklearn.neural_network import MLPClassifier\n",
    "from sklearn.tree import DecisionTreeClassifier\n",
    "from scipy.stats import uniform\n",
    "from sklearn.ensemble import RandomForestClassifier\n",
    "from sklearn.ensemble import GradientBoostingClassifier\n",
    "from sklearn.naive_bayes import GaussianNB\n",
    "\n",
    "\n",
    "test_model = {\n",
    "\n",
    "    'Logistic Regression': {\n",
    "        'regressor' : LogisticRegression,\n",
    "        'parameters': {'max_iter': [2000]},\n",
    "        'n_iter'    : 1,\n",
    "        'results'   : {}\n",
    "    },\n",
    "    'Logistic Regression - L2': {\n",
    "        'regressor': LogisticRegression,\n",
    "        'parameters': {\n",
    "            'penalty': ['l2'],\n",
    "            'C' : loguniform(10**-3, 10**3),\n",
    "            'max_iter': [2000]\n",
    "        },\n",
    "        'n_iter' : 10,\n",
    "        'results' : {}\n",
    "    },\n",
    "    'Linear Discriminant Analysisr':{\n",
    "        'regressor': LinearDiscriminantAnalysis,\n",
    "        'parameters': {},\n",
    "        'n_iter'    : 1,\n",
    "        'results'   : {}\n",
    "    },\n",
    "    'Quadratic Discriminant Analysis':{\n",
    "        'regressor': QuadraticDiscriminantAnalysis,\n",
    "        'parameters': {},\n",
    "        'n_iter'    : 1,\n",
    "        'results'   : {}\n",
    "    },\n",
    "    'K-Nearest Neighbors': {\n",
    "        'regressor': KNeighborsClassifier,\n",
    "        'parameters': {\n",
    "            'n_neighbors': stats.randint(1,302)\n",
    "            },\n",
    "        'n_iter' : 10,\n",
    "        'results' : {} \n",
    "    },\n",
    "    'SVM Linear': {\n",
    "        'regressor': SVC,\n",
    "        'parameters': {\n",
    "            'C'      : loguniform(2**-5, 2**15),\n",
    "            'kernel' : ['linear'],\n",
    "            'probability': [True]\n",
    "        },\n",
    "        'n_iter' : 10,\n",
    "        'results' : {} \n",
    "    },\n",
    "    'SVM RBF': {\n",
    "        'regressor': SVC,\n",
    "        'parameters': {\n",
    "            'C'      : loguniform(2**-5, 2**15),\n",
    "            'gamma'  : loguniform(2**-9, 2**3),\n",
    "            'kernel' : ['rbf'],\n",
    "            'probability': [True]\n",
    "        },\n",
    "        'n_iter' : 10,\n",
    "        'results' : {} \n",
    "    },\n",
    "    'Multi-layer Perceptron': {\n",
    "        'regressor': MLPClassifier,\n",
    "        'parameters': {\n",
    "            'hidden_layer_sizes': np.arange(5, 20+1, 3),\n",
    "            'max_iter': [5000]\n",
    "            },\n",
    "        'n_iter' : 10,\n",
    "        'results' : {} \n",
    "    },\n",
    "    'Decision Tree': {\n",
    "        'regressor': DecisionTreeClassifier,\n",
    "        'parameters': {\n",
    "            'ccp_alpha': uniform(loc=0.0, scale=0.04)\n",
    "            },\n",
    "        'n_iter' : 10,\n",
    "        'results' : {} \n",
    "    },\n",
    "    'Random Forest': {\n",
    "        'regressor': RandomForestClassifier,\n",
    "        'parameters': {\n",
    "            'n_estimators': [10, 100, 1000],\n",
    "            'max_features': [5,8,10]\n",
    "            },\n",
    "        'n_iter' : 10,\n",
    "        'results' : {} \n",
    "    },\n",
    "    'Gradient Boost Machine': {\n",
    "        'regressor': GradientBoostingClassifier,\n",
    "        'parameters': {\n",
    "            'n_estimators': np.arange(5, 101, 1),\n",
    "            'learning_rate': uniform(loc=0.01, scale=(0.3-0.01)),\n",
    "            'max_depth': [2,3]\n",
    "            },\n",
    "        'n_iter' : 10,\n",
    "        'results' : {} \n",
    "    },\n",
    "    'Gaussian Naive Bayes': {\n",
    "        'regressor': GaussianNB,\n",
    "        'parameters': {},\n",
    "        'n_iter'    : 1,\n",
    "        'results'   : {} \n",
    "    }\n",
    "}"
   ]
  },
  {
   "cell_type": "markdown",
   "metadata": {},
   "source": [
    "## Nested-Cross Validation\n",
    "\n",
    "- Outer-loop: 4 repetições de split de 70% para treino e 30% para teste no outer loop\n",
    "- Inner-loop: 3-fold estratificado\n",
    "\n",
    "A implemetação utilizada neste trabalho é baseada no seguinte exemplo:\n",
    "\n",
    "https://machinelearningmastery.com/nested-cross-validation-for-machine-learning-with-python/"
   ]
  },
  {
   "cell_type": "code",
   "execution_count": 482,
   "metadata": {},
   "outputs": [
    {
     "output_type": "stream",
     "name": "stdout",
     "text": [
      "Logistic Regression\n",
      "Logistic Regression - L2\n",
      "Linear Discriminant Analysisr\n",
      "Quadratic Discriminant Analysis\n",
      "K-Nearest Neighbors\n",
      "/home/vmello/miniconda3/lib/python3.9/site-packages/sklearn/discriminant_analysis.py:808: UserWarning: Variables are collinear\n",
      "  warnings.warn(\"Variables are collinear\")\n",
      "/home/vmello/miniconda3/lib/python3.9/site-packages/sklearn/discriminant_analysis.py:808: UserWarning: Variables are collinear\n",
      "  warnings.warn(\"Variables are collinear\")\n",
      "/home/vmello/miniconda3/lib/python3.9/site-packages/sklearn/discriminant_analysis.py:808: UserWarning: Variables are collinear\n",
      "  warnings.warn(\"Variables are collinear\")\n",
      "/home/vmello/miniconda3/lib/python3.9/site-packages/sklearn/discriminant_analysis.py:808: UserWarning: Variables are collinear\n",
      "  warnings.warn(\"Variables are collinear\")\n",
      "SVM Linear\n",
      "SVM RBF\n",
      "Multi-layer Perceptron\n",
      "/home/vmello/miniconda3/lib/python3.9/site-packages/sklearn/model_selection/_search.py:285: UserWarning: The total space of parameters 6 is smaller than n_iter=10. Running 6 iterations. For exhaustive searches, use GridSearchCV.\n",
      "  warnings.warn(\n",
      "/home/vmello/miniconda3/lib/python3.9/site-packages/sklearn/model_selection/_search.py:285: UserWarning: The total space of parameters 6 is smaller than n_iter=10. Running 6 iterations. For exhaustive searches, use GridSearchCV.\n",
      "  warnings.warn(\n",
      "/home/vmello/miniconda3/lib/python3.9/site-packages/sklearn/model_selection/_search.py:285: UserWarning: The total space of parameters 6 is smaller than n_iter=10. Running 6 iterations. For exhaustive searches, use GridSearchCV.\n",
      "  warnings.warn(\n",
      "/home/vmello/miniconda3/lib/python3.9/site-packages/sklearn/model_selection/_search.py:285: UserWarning: The total space of parameters 6 is smaller than n_iter=10. Running 6 iterations. For exhaustive searches, use GridSearchCV.\n",
      "  warnings.warn(\n",
      "Decision Tree\n",
      "Random Forest\n",
      "/home/vmello/miniconda3/lib/python3.9/site-packages/sklearn/model_selection/_search.py:285: UserWarning: The total space of parameters 9 is smaller than n_iter=10. Running 9 iterations. For exhaustive searches, use GridSearchCV.\n",
      "  warnings.warn(\n",
      "/home/vmello/miniconda3/lib/python3.9/site-packages/sklearn/model_selection/_search.py:285: UserWarning: The total space of parameters 9 is smaller than n_iter=10. Running 9 iterations. For exhaustive searches, use GridSearchCV.\n",
      "  warnings.warn(\n",
      "/home/vmello/miniconda3/lib/python3.9/site-packages/sklearn/model_selection/_search.py:285: UserWarning: The total space of parameters 9 is smaller than n_iter=10. Running 9 iterations. For exhaustive searches, use GridSearchCV.\n",
      "  warnings.warn(\n",
      "/home/vmello/miniconda3/lib/python3.9/site-packages/sklearn/model_selection/_search.py:285: UserWarning: The total space of parameters 9 is smaller than n_iter=10. Running 9 iterations. For exhaustive searches, use GridSearchCV.\n",
      "  warnings.warn(\n",
      "Gradient Boost Machine\n",
      "Gaussian Naive Bayes\n"
     ]
    }
   ],
   "source": [
    "from sklearn.model_selection import train_test_split\n",
    "from sklearn.metrics import roc_auc_score\n",
    "from numpy import mean\n",
    "from numpy import std\n",
    "\n",
    "def nested_cross_val_random(model,parameters,X_data, y_data, n_it, classifier):\n",
    "    auc_list = []\n",
    "    \n",
    "    for i in range(4):\n",
    "        # Create test and train sets\n",
    "        X_train,X_test,y_train,y_test=train_test_split(X_data, y_data, test_size=0.3)\n",
    "\n",
    "        inner_cv = StratifiedKFold(n_splits=3)\n",
    "\n",
    "        rnd_search = RandomizedSearchCV(estimator=model(), param_distributions=parameters, cv=inner_cv, scoring='roc_auc', refit=True, n_iter=n_it, n_jobs=12)\n",
    "        result = rnd_search.fit(X_train, y_train)\n",
    "        # get the best performing model fit on the whole training set\n",
    "        best_model = result.best_estimator_\n",
    "        auc = roc_auc_score(y_test,best_model.predict_proba(X_test)[:, 1])\n",
    "        auc_list.append(auc)\n",
    "    \n",
    "                        \n",
    "    return mean(auc_list), std(auc_list)\n",
    "\n",
    "    \n",
    "for classifier in test_model.keys():\n",
    "    print(classifier)\n",
    "    auc_mean,auc_std = nested_cross_val_random(test_model[classifier]['regressor'],\n",
    "                                               test_model[classifier]['parameters'],\n",
    "                                               x_data_scaled,y_data, \n",
    "                                               test_model[classifier]['n_iter'],\n",
    "                                               classifier)\n",
    "    test_model[classifier]['results']['auc_mean'] = auc_mean\n",
    "    test_model[classifier]['results']['auc_std']  = auc_std"
   ]
  },
  {
   "cell_type": "code",
   "execution_count": 483,
   "metadata": {},
   "outputs": [
    {
     "output_type": "stream",
     "name": "stdout",
     "text": [
      "{'Decision Tree': {'auc_men': 0.9088409742793432,\n                   'auc_std': 0.01709131051122639},\n 'Gaussian Naive Bayes': {'auc_men': 0.8505942986776118,\n                          'auc_std': 0.026975802910637198},\n 'Gradient Boost Machine': {'auc_men': 0.9444885290254885,\n                            'auc_std': 0.016874891125064063},\n 'K-Nearest Neighbors': {'auc_men': 0.9127618257424943,\n                         'auc_std': 0.01900042301153708},\n 'Linear Discriminant Analysisr': {'auc_men': 0.9053055321414869,\n                                   'auc_std': 0.007788908513463214},\n 'Logistic Regression': {'auc_men': 0.9251128867679435,\n                         'auc_std': 0.019969398306604703},\n 'Logistic Regression - L2': {'auc_men': 0.9236849156685958,\n                              'auc_std': 0.012218430508017365},\n 'Multi-layer Perceptron': {'auc_men': 0.9057846302093933,\n                            'auc_std': 0.008945351800091835},\n 'Quadratic Discriminant Analysis': {'auc_men': 0.8099217383145674,\n                                     'auc_std': 0.038589654517313325},\n 'Random Forest': {'auc_men': 0.9369435580282452,\n                   'auc_std': 0.01610618965790543},\n 'SVM Linear': {'auc_men': 0.9284020298659543, 'auc_std': 0.016457669598314982},\n 'SVM RBF': {'auc_men': 0.9002526242948807, 'auc_std': 0.015831221533351474}}\n"
     ]
    }
   ],
   "source": [
    "import pprint\n",
    "cls_results_dict = {}\n",
    "\n",
    "for classifier in test_model.keys():\n",
    "    cls_results_dict[classifier] = {'auc_men':test_model[classifier]['results']['auc_mean'],\n",
    "                                    'auc_std':test_model[classifier]['results']['auc_std']}\n",
    "\n",
    "pprint.pprint(cls_results_dict)\n",
    "\n"
   ]
  },
  {
   "source": [
    "# Tabela Final\n",
    "\n",
    "Segue a tabela com o valor de _AUC_ médio e seu desvio padrão calculado no _outer loop_ para cada algoritmo:"
   ],
   "cell_type": "markdown",
   "metadata": {}
  },
  {
   "cell_type": "code",
   "execution_count": 484,
   "metadata": {},
   "outputs": [
    {
     "output_type": "execute_result",
     "data": {
      "text/plain": [
       "                                  auc_men   auc_std\n",
       "Logistic Regression              0.925113  0.019969\n",
       "Logistic Regression - L2         0.923685  0.012218\n",
       "Linear Discriminant Analysisr    0.905306  0.007789\n",
       "Quadratic Discriminant Analysis  0.809922  0.038590\n",
       "K-Nearest Neighbors              0.912762  0.019000\n",
       "SVM Linear                       0.928402  0.016458\n",
       "SVM RBF                          0.900253  0.015831\n",
       "Multi-layer Perceptron           0.905785  0.008945\n",
       "Decision Tree                    0.908841  0.017091\n",
       "Random Forest                    0.936944  0.016106\n",
       "Gradient Boost Machine           0.944489  0.016875\n",
       "Gaussian Naive Bayes             0.850594  0.026976"
      ],
      "text/html": "<div>\n<style scoped>\n    .dataframe tbody tr th:only-of-type {\n        vertical-align: middle;\n    }\n\n    .dataframe tbody tr th {\n        vertical-align: top;\n    }\n\n    .dataframe thead th {\n        text-align: right;\n    }\n</style>\n<table border=\"1\" class=\"dataframe\">\n  <thead>\n    <tr style=\"text-align: right;\">\n      <th></th>\n      <th>auc_men</th>\n      <th>auc_std</th>\n    </tr>\n  </thead>\n  <tbody>\n    <tr>\n      <th>Logistic Regression</th>\n      <td>0.925113</td>\n      <td>0.019969</td>\n    </tr>\n    <tr>\n      <th>Logistic Regression - L2</th>\n      <td>0.923685</td>\n      <td>0.012218</td>\n    </tr>\n    <tr>\n      <th>Linear Discriminant Analysisr</th>\n      <td>0.905306</td>\n      <td>0.007789</td>\n    </tr>\n    <tr>\n      <th>Quadratic Discriminant Analysis</th>\n      <td>0.809922</td>\n      <td>0.038590</td>\n    </tr>\n    <tr>\n      <th>K-Nearest Neighbors</th>\n      <td>0.912762</td>\n      <td>0.019000</td>\n    </tr>\n    <tr>\n      <th>SVM Linear</th>\n      <td>0.928402</td>\n      <td>0.016458</td>\n    </tr>\n    <tr>\n      <th>SVM RBF</th>\n      <td>0.900253</td>\n      <td>0.015831</td>\n    </tr>\n    <tr>\n      <th>Multi-layer Perceptron</th>\n      <td>0.905785</td>\n      <td>0.008945</td>\n    </tr>\n    <tr>\n      <th>Decision Tree</th>\n      <td>0.908841</td>\n      <td>0.017091</td>\n    </tr>\n    <tr>\n      <th>Random Forest</th>\n      <td>0.936944</td>\n      <td>0.016106</td>\n    </tr>\n    <tr>\n      <th>Gradient Boost Machine</th>\n      <td>0.944489</td>\n      <td>0.016875</td>\n    </tr>\n    <tr>\n      <th>Gaussian Naive Bayes</th>\n      <td>0.850594</td>\n      <td>0.026976</td>\n    </tr>\n  </tbody>\n</table>\n</div>"
     },
     "metadata": {},
     "execution_count": 484
    }
   ],
   "source": [
    "cls_table = df.from_dict(cls_results_dict, orient='index')\n",
    "cls_table"
   ]
  }
 ],
 "metadata": {
  "interpreter": {
   "hash": "44cb6b1e90278a74d5ea4e6c26bb738f4833f9f1c0bed44228008f79a332744b"
  },
  "kernelspec": {
   "name": "python3",
   "display_name": "Python 3.9.1 64-bit ('base': conda)"
  },
  "language_info": {
   "codemirror_mode": {
    "name": "ipython",
    "version": 3
   },
   "file_extension": ".py",
   "mimetype": "text/x-python",
   "name": "python",
   "nbconvert_exporter": "python",
   "pygments_lexer": "ipython3",
   "version": "3.9.1"
  }
 },
 "nbformat": 4,
 "nbformat_minor": 4
}